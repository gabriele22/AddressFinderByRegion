{
 "cells": [
  {
   "cell_type": "code",
   "execution_count": 172,
   "metadata": {},
   "outputs": [],
   "source": [
    "# Importo il modulo requests\n",
    "import threading\n",
    "import requests\n",
    "import toml\n",
    "import matplotlib.pyplot as plt\n",
    "import numpy as np\n",
    "import pandas as pd\n",
    "import plotly.graph_objects as go\n",
    "import random\n",
    "import math\n",
    "import more_itertools \n",
    "from progress.bar import IncrementalBar\n",
    "import re\n",
    "\n",
    "import plotly.express as px"
   ]
  },
  {
   "cell_type": "code",
   "execution_count": 173,
   "metadata": {},
   "outputs": [],
   "source": [
    "# Load the TOML data into a Python dictionary\n",
    "with open(\"config.toml\") as f:\n",
    "    data = toml.load(f)\n",
    "\n",
    "api_key = data['api_key']\n",
    "base_bing_url = data['bing_url']\n",
    "## try to trasform km in radius \n",
    "dimension_searc_area = data['radius_search_area']/111 \n",
    "search_precision = data['search_precision']\n",
    "num_threads = data['num_threads']\n",
    "\n",
    "province = 'Roma'"
   ]
  },
  {
   "cell_type": "code",
   "execution_count": 209,
   "metadata": {},
   "outputs": [],
   "source": [
    "def radiants_distance(lat1, lon1, lat2, lon2):\n",
    "    '''return differenze from point in latitude and longitude'''\n",
    "    dlat = lat2 - lat1\n",
    "    dlon = lon2 - lon1\n",
    "\n",
    "    # Applicare la formula dell'averseno per calcolare la distanza angolare\n",
    "    a = math.sin(dlat / 2) ** 2 + math.cos(lat1) * math.cos(lat2) * math.sin(dlon / 2) ** 2\n",
    "    c = 2 * math.asin(math.sqrt(a))\n",
    "    return c\n",
    "\n",
    "\n",
    "def get_rnd_point_in_limits(lat_c, lon_c, raggio,\n",
    "                            min_lat=-math.pi / 2 , max_lat=math.pi / 2,\n",
    "                            min_lon=-math.pi,max_lon=math.pi, n=10):\n",
    "    '''return n random point in limit defined as input parameter '''\n",
    "    punti = []\n",
    "\n",
    "    # Iterare fino a che non si raggiunge il numero desiderato di punti\n",
    "    while len(punti) < n:\n",
    "        # Generare una latitudine e una longitudine casuali tra -$\\pi$/2 e $\\pi$/2 radianti\n",
    "        lat_p = random.uniform(min_lat, max_lat)\n",
    "        lon_p = random.uniform(min_lon, max_lon)\n",
    "\n",
    "        # Calcolare la distanza tra il punto casuale e il centro dell'area circolare\n",
    "        distanza = radiants_distance(lat_c, lon_c, lat_p, lon_p)\n",
    "\n",
    "        # Se la distanza è minore o uguale al raggio, aggiungere il punto alla lista dei punti\n",
    "        if distanza <= raggio:\n",
    "            punti.append((math.degrees(lat_p), math.degrees(lon_p)))\n",
    "\n",
    "    # Restituire la lista dei punti in gradi\n",
    "    return punti\n",
    "\n",
    "def plot_points_with_perimeter(per_lat: list, per_lon: list, points_lat: list, points_lon: list):\n",
    "    '''plot point in blue in black perimeter'''\n",
    "    fig = go.Figure()\n",
    "    fig.add_trace(go.Scattermapbox(\n",
    "                        lat=per_lat,\n",
    "                        lon=per_lon,\n",
    "                        marker=go.scattermapbox.Marker(\n",
    "                                size=8,\n",
    "                                color='rgb(0, 0, 0)',\n",
    "                                opacity=0.7\n",
    "                            )\n",
    "                    )\n",
    "    )\n",
    "\n",
    "    fig.add_trace(go.Scattermapbox(\n",
    "                        lat=points_lat,\n",
    "                        lon=points_lon,\n",
    "                        marker=go.scattermapbox.Marker(\n",
    "                                size=8,\n",
    "                                color='rgb(0, 50, 200)',\n",
    "                                opacity=0.9\n",
    "                            )\n",
    "                    )\n",
    "    )\n",
    "    fig.update_layout(mapbox_style=\"open-street-map\")#, zoom=5, height=500)\n",
    "\n",
    "    fig.show()\n",
    "\n",
    "\n",
    "def get_rnd_point_on_circle_and_print_map(lat_c, lon_c, raggio, n = 100):\n",
    "    '''return n random point on a circle defined by latitude, longitude and radius (in radiants)'''\n",
    "    # Creare una lista vuota per contenere i punti\n",
    "    punti = []\n",
    "    punti_lat_perimeto_cerchio = []\n",
    "    punti_lon_perimeto_cerchio = []\n",
    "\n",
    "    n_punti_perimetro = 100\n",
    "\n",
    "    # Calcolare l'angolo tra ogni punto in radianti\n",
    "    angolo = 2 * math.pi / n_punti_perimetro\n",
    "\n",
    "    # Iterare su ogni punto\n",
    "    for i in range(n_punti_perimetro):\n",
    "        # Calcolare la latitudine e la longitudine del punto in radianti\n",
    "        lat_p = math.asin(math.sin(lat_c) * math.cos(raggio) + math.cos(lat_c) * math.sin(raggio) * math.cos(i * angolo))\n",
    "        lon_p = lon_c + math.atan2(math.sin(i * angolo) * math.sin(raggio) * math.cos(lat_c), math.cos(raggio) - math.sin(lat_c) * math.sin(lat_p))\n",
    "        punti_lat_perimeto_cerchio.append(lat_p)\n",
    "        punti_lon_perimeto_cerchio.append(lon_p)\n",
    "        # Convertire la latitudine e la longitudine del punto in gradi\n",
    "        lat_p = math.degrees(lat_p)\n",
    "        lon_p = math.degrees(lon_p)\n",
    "\n",
    "        #punti.append((lat_p, lon_p))\n",
    "\n",
    "    min_lat = min(punti_lat_perimeto_cerchio)\n",
    "    max_lat = max(punti_lat_perimeto_cerchio)\n",
    "    min_lon = min(punti_lon_perimeto_cerchio)\n",
    "    max_lon = max(punti_lon_perimeto_cerchio)\n",
    "\n",
    "    punti_rnd = get_rnd_point_in_limits(lat_c, lon_c, raggio,min_lat, max_lat, min_lon, max_lon, n)\n",
    "    for punto_rnd in punti_rnd:\n",
    "        punti.append(punto_rnd)\n",
    "    \n",
    "    per_lat = [math.degrees(i) for i in punti_lat_perimeto_cerchio ]\n",
    "    per_lon = [math.degrees(i) for i in punti_lon_perimeto_cerchio ]\n",
    "    rnd_lat = [l[0] for l in punti ]\n",
    "    rnd_lon = [l[1] for l in punti ]\n",
    "\n",
    "    #plot point and perimeter points\n",
    "    plot_points_with_perimeter(per_lat, per_lon, rnd_lat, rnd_lon)\n",
    "\n",
    "    return punti"
   ]
  },
  {
   "cell_type": "code",
   "execution_count": 210,
   "metadata": {},
   "outputs": [
    {
     "data": {
      "application/vnd.plotly.v1+json": {
       "config": {
        "plotlyServerURL": "https://plot.ly"
       },
       "data": [
        {
         "lat": [
          42.34100679045046,
          42.34011160469349,
          42.33742965659868,
          42.33297175820209,
          42.32675587800569,
          42.318807063928205,
          42.309157336009555,
          42.29784554943645,
          42.284917228610034,
          42.27042437312384,
          42.254425236660815,
          42.23698407994938,
          42.21817089904101,
          42.198061130284025,
          42.1767353334695,
          42.15427885471563,
          42.130781470734554,
          42.10633701619331,
          42.081042995934176,
          42.055000183863214,
          42.02831221034683,
          42.001085139976055,
          41.97342704156755,
          41.94544755226891,
          41.91725743762535,
          41.88896814944425,
          41.860691383266555,
          41.83253863721741,
          41.80462077396622,
          41.7770475874773,
          41.749927376178114,
          41.72336652411377,
          41.69746909159327,
          41.67233641676788,
          41.64806672951318,
          41.624754778916106,
          41.60249147559642,
          41.58136355001923,
          41.56145322788157,
          41.54283792358229,
          41.52558995271103,
          41.509776264418356,
          41.495458194456354,
          41.48269123960669,
          41.47152485414161,
          41.462002268892604,
          41.45416033343115,
          41.44802938179758,
          41.443633122144725,
          41.44098855059589,
          41.44010588954955,
          41.44098855059589,
          41.443633122144725,
          41.44802938179758,
          41.45416033343115,
          41.462002268892604,
          41.47152485414161,
          41.48269123960669,
          41.495458194456354,
          41.509776264418356,
          41.52558995271103,
          41.54283792358229,
          41.56145322788157,
          41.58136355001923,
          41.60249147559642,
          41.624754778916106,
          41.64806672951318,
          41.67233641676788,
          41.69746909159327,
          41.72336652411377,
          41.749927376178114,
          41.7770475874773,
          41.80462077396622,
          41.83253863721741,
          41.860691383266555,
          41.88896814944425,
          41.91725743762535,
          41.94544755226891,
          41.97342704156755,
          42.001085139976055,
          42.02831221034683,
          42.055000183863214,
          42.081042995934176,
          42.10633701619331,
          42.130781470734554,
          42.15427885471563,
          42.1767353334695,
          42.198061130284025,
          42.21817089904101,
          42.23698407994938,
          42.254425236660815,
          42.27042437312384,
          42.284917228610034,
          42.29784554943645,
          42.309157336009555,
          42.318807063928205,
          42.32675587800569,
          42.33297175820209,
          42.33742965659868,
          42.34011160469349
         ],
         "lon": [
          12.494267460000001,
          12.532532163249709,
          12.570642612616412,
          12.608445215677538,
          12.645787699432065,
          12.682519761293014,
          12.718493709701477,
          12.753565091040565,
          12.78759329964304,
          12.820442167827443,
          12.851980533062017,
          12.882082779541374,
          12.910629351664848,
          12.937507237125175,
          12.962610417548417,
          12.985840284867859,
          13.007106021862901,
          13.026324945545648,
          13.04342281233009,
          13.058334084168617,
          13.071002155085376,
          13.081379537773621,
          13.089428010152078,
          13.09511872199211,
          13.09843226193114,
          13.099358685377368,
          13.097897503985198,
          13.094057637539452,
          13.087857329228774,
          13.079324025414895,
          13.068494221114298,
          13.0554132725032,
          13.040135177835753,
          13.022722328230055,
          13.003245229827709,
          12.98178219887129,
          12.958419031271347,
          12.933248648251666,
          12.90637071966958,
          12.877891266608524,
          12.847922244833892,
          12.816581110691875,
          12.783990371015483,
          12.750277118583547,
          12.715572554658106,
          12.680011500104404,
          12.643731896576512,
          12.606874299231094,
          12.569581362413091,
          12.531997319740302,
          12.494267460000001,
          12.456537600259699,
          12.41895355758691,
          12.381660620768907,
          12.34480302342349,
          12.308523419895597,
          12.272962365341895,
          12.238257801416454,
          12.204544548984519,
          12.171953809308127,
          12.140612675166109,
          12.110643653391477,
          12.08216420033042,
          12.055286271748335,
          12.030115888728654,
          12.006752721128711,
          11.985289690172293,
          11.965812591769946,
          11.948399742164248,
          11.933121647496801,
          11.920040698885703,
          11.909210894585106,
          11.900677590771226,
          11.89447728246055,
          11.890637416014803,
          11.889176234622633,
          11.89010265806886,
          11.893416198007891,
          11.899106909847923,
          11.90715538222638,
          11.917532764914625,
          11.930200835831384,
          11.94511210766991,
          11.962209974454355,
          11.9814288981371,
          12.002694635132142,
          12.025924502451584,
          12.051027682874826,
          12.077905568335153,
          12.106452140458627,
          12.136554386937986,
          12.168092752172559,
          12.20094162035696,
          12.234969828959436,
          12.270041210298524,
          12.306015158706987,
          12.342747220567936,
          12.380089704322463,
          12.417892307383589,
          12.456002756750292
         ],
         "marker": {
          "color": "rgb(0, 0, 0)",
          "opacity": 0.7,
          "size": 8
         },
         "type": "scattermapbox"
        },
        {
         "lat": [
          41.70498917386587,
          41.884345238992125,
          41.93137351067868,
          41.8798603737896,
          41.47737438139478,
          41.91913292935975,
          41.66462687106752,
          41.52769668092987,
          41.95775993532771,
          42.33893143187128,
          41.58296770809403,
          41.479752575204515,
          41.794392938736074,
          41.76035975862387,
          41.76568242302885,
          41.72788409212372,
          41.483985474835116,
          42.03683268109952,
          42.090190624089644,
          42.0015985247297,
          41.719377476792985,
          42.221130649812146,
          41.88752355048953,
          41.60286620526433,
          42.02182915673873,
          41.65508798771722,
          42.211040507670944,
          41.67509418267575,
          42.12486582113869,
          42.31123461630888,
          42.05649533951593,
          42.037838821332244,
          41.95899602732432,
          42.00088360526872,
          42.25733256340233,
          41.77604352614982,
          41.515639254409415,
          42.243181124792784,
          41.6684950025321,
          41.744139838892664,
          42.117481658394446,
          42.13873231012171,
          42.14478176211313,
          42.30373992620066,
          41.84873501881236,
          41.653581294360364,
          41.5948249624021,
          41.81479723408041,
          41.84941497927754,
          41.9963036708749,
          41.89069363857425,
          42.118503915447526,
          41.70528639947309,
          42.00247041643563,
          42.06794294390771,
          41.90981919488518,
          41.97826868845789,
          41.4494286493213,
          41.94839158045285,
          41.67292744995169,
          41.85600379225349,
          41.95916104378888,
          41.7498060290326,
          41.75100780620973,
          42.229565633734154,
          41.67959862365364,
          41.730819319470335,
          42.05729683973536,
          41.751520113033386,
          42.04092944569271,
          42.02521181471014,
          41.71385971076964,
          41.54119668208208,
          41.64860744860225,
          42.138275750532856,
          41.89754324581694,
          42.21716213512707,
          41.746573860166045,
          42.05801384379853,
          41.951745839818244,
          41.83029087747223,
          41.78848241338065,
          41.77445324722543,
          41.481993358560835,
          41.89367867588648,
          41.78890338782231,
          41.784406272855286,
          41.765257954273466,
          41.80021557885862,
          41.84178576676695,
          41.54354566983288,
          42.033124623762724,
          42.090105057560656,
          41.9163892284222,
          41.5142589573209,
          42.28483273446566,
          41.97848595089691,
          42.1976074482905,
          41.56849125134662,
          42.13620678462514
         ],
         "lon": [
          12.095586952298222,
          12.272892571759314,
          12.233057518867058,
          12.23025940463051,
          12.723154231611584,
          12.629630303587746,
          12.229915898005299,
          12.598628594543468,
          12.87630999819342,
          12.474042682897652,
          12.745951301833037,
          12.320809316511458,
          12.66314965649124,
          11.943606896137467,
          11.965883095254025,
          11.972161344119609,
          12.44530514874024,
          12.382188194061953,
          12.015219537432895,
          12.373490614491548,
          12.634092041070575,
          12.367888051741922,
          12.932627821917707,
          12.194105406949305,
          13.004952497206713,
          11.981823065119425,
          12.255123299888153,
          12.109830210110452,
          12.556772941610426,
          12.386559393579812,
          12.190148225023913,
          12.747862587655707,
          12.556248605563415,
          12.777567658524346,
          12.318073624922656,
          12.124906747117416,
          12.422972502516512,
          12.219466150685788,
          12.430152919541953,
          12.99540736760732,
          12.428901814568832,
          12.945987748632282,
          12.428241940906577,
          12.286296883729388,
          12.326295765578084,
          12.90656154149027,
          12.600149411816567,
          12.883571104468555,
          12.136254864319794,
          12.990495585532818,
          12.814723051701462,
          12.274302517122246,
          12.9593034667902,
          13.01229951662992,
          12.408373647254466,
          12.690349884811761,
          12.105581421007079,
          12.494039332208446,
          11.91423642932418,
          12.217371509222835,
          12.357909594005646,
          12.132229382628342,
          13.029756999918968,
          12.199699104716561,
          12.126707571839408,
          12.842824476290147,
          12.298257155554028,
          12.331686805589069,
          11.997975925464669,
          12.954560243377577,
          12.076948417563301,
          12.915012856219489,
          12.652440740961286,
          12.081498931868312,
          12.051364268045136,
          13.059460452079943,
          12.63360659115279,
          12.805698136160505,
          12.013976565441103,
          11.98803814785351,
          12.548531958406288,
          12.808432480795078,
          12.166370343503099,
          12.52947220728814,
          13.092336998170897,
          12.996518484861319,
          12.888814135478757,
          12.49493497756709,
          12.899034525137855,
          12.838616155561311,
          12.335094586283528,
          12.801306068042296,
          12.336513123257165,
          12.581221398482576,
          12.774670550976962,
          12.699443227020472,
          12.816681951839616,
          12.617680539395563,
          12.8369652134966,
          12.052464673213068
         ],
         "marker": {
          "color": "rgb(0, 50, 200)",
          "opacity": 0.9,
          "size": 8
         },
         "type": "scattermapbox"
        }
       ],
       "layout": {
        "mapbox": {
         "style": "open-street-map"
        },
        "template": {
         "data": {
          "bar": [
           {
            "error_x": {
             "color": "#2a3f5f"
            },
            "error_y": {
             "color": "#2a3f5f"
            },
            "marker": {
             "line": {
              "color": "#E5ECF6",
              "width": 0.5
             },
             "pattern": {
              "fillmode": "overlay",
              "size": 10,
              "solidity": 0.2
             }
            },
            "type": "bar"
           }
          ],
          "barpolar": [
           {
            "marker": {
             "line": {
              "color": "#E5ECF6",
              "width": 0.5
             },
             "pattern": {
              "fillmode": "overlay",
              "size": 10,
              "solidity": 0.2
             }
            },
            "type": "barpolar"
           }
          ],
          "carpet": [
           {
            "aaxis": {
             "endlinecolor": "#2a3f5f",
             "gridcolor": "white",
             "linecolor": "white",
             "minorgridcolor": "white",
             "startlinecolor": "#2a3f5f"
            },
            "baxis": {
             "endlinecolor": "#2a3f5f",
             "gridcolor": "white",
             "linecolor": "white",
             "minorgridcolor": "white",
             "startlinecolor": "#2a3f5f"
            },
            "type": "carpet"
           }
          ],
          "choropleth": [
           {
            "colorbar": {
             "outlinewidth": 0,
             "ticks": ""
            },
            "type": "choropleth"
           }
          ],
          "contour": [
           {
            "colorbar": {
             "outlinewidth": 0,
             "ticks": ""
            },
            "colorscale": [
             [
              0,
              "#0d0887"
             ],
             [
              0.1111111111111111,
              "#46039f"
             ],
             [
              0.2222222222222222,
              "#7201a8"
             ],
             [
              0.3333333333333333,
              "#9c179e"
             ],
             [
              0.4444444444444444,
              "#bd3786"
             ],
             [
              0.5555555555555556,
              "#d8576b"
             ],
             [
              0.6666666666666666,
              "#ed7953"
             ],
             [
              0.7777777777777778,
              "#fb9f3a"
             ],
             [
              0.8888888888888888,
              "#fdca26"
             ],
             [
              1,
              "#f0f921"
             ]
            ],
            "type": "contour"
           }
          ],
          "contourcarpet": [
           {
            "colorbar": {
             "outlinewidth": 0,
             "ticks": ""
            },
            "type": "contourcarpet"
           }
          ],
          "heatmap": [
           {
            "colorbar": {
             "outlinewidth": 0,
             "ticks": ""
            },
            "colorscale": [
             [
              0,
              "#0d0887"
             ],
             [
              0.1111111111111111,
              "#46039f"
             ],
             [
              0.2222222222222222,
              "#7201a8"
             ],
             [
              0.3333333333333333,
              "#9c179e"
             ],
             [
              0.4444444444444444,
              "#bd3786"
             ],
             [
              0.5555555555555556,
              "#d8576b"
             ],
             [
              0.6666666666666666,
              "#ed7953"
             ],
             [
              0.7777777777777778,
              "#fb9f3a"
             ],
             [
              0.8888888888888888,
              "#fdca26"
             ],
             [
              1,
              "#f0f921"
             ]
            ],
            "type": "heatmap"
           }
          ],
          "heatmapgl": [
           {
            "colorbar": {
             "outlinewidth": 0,
             "ticks": ""
            },
            "colorscale": [
             [
              0,
              "#0d0887"
             ],
             [
              0.1111111111111111,
              "#46039f"
             ],
             [
              0.2222222222222222,
              "#7201a8"
             ],
             [
              0.3333333333333333,
              "#9c179e"
             ],
             [
              0.4444444444444444,
              "#bd3786"
             ],
             [
              0.5555555555555556,
              "#d8576b"
             ],
             [
              0.6666666666666666,
              "#ed7953"
             ],
             [
              0.7777777777777778,
              "#fb9f3a"
             ],
             [
              0.8888888888888888,
              "#fdca26"
             ],
             [
              1,
              "#f0f921"
             ]
            ],
            "type": "heatmapgl"
           }
          ],
          "histogram": [
           {
            "marker": {
             "pattern": {
              "fillmode": "overlay",
              "size": 10,
              "solidity": 0.2
             }
            },
            "type": "histogram"
           }
          ],
          "histogram2d": [
           {
            "colorbar": {
             "outlinewidth": 0,
             "ticks": ""
            },
            "colorscale": [
             [
              0,
              "#0d0887"
             ],
             [
              0.1111111111111111,
              "#46039f"
             ],
             [
              0.2222222222222222,
              "#7201a8"
             ],
             [
              0.3333333333333333,
              "#9c179e"
             ],
             [
              0.4444444444444444,
              "#bd3786"
             ],
             [
              0.5555555555555556,
              "#d8576b"
             ],
             [
              0.6666666666666666,
              "#ed7953"
             ],
             [
              0.7777777777777778,
              "#fb9f3a"
             ],
             [
              0.8888888888888888,
              "#fdca26"
             ],
             [
              1,
              "#f0f921"
             ]
            ],
            "type": "histogram2d"
           }
          ],
          "histogram2dcontour": [
           {
            "colorbar": {
             "outlinewidth": 0,
             "ticks": ""
            },
            "colorscale": [
             [
              0,
              "#0d0887"
             ],
             [
              0.1111111111111111,
              "#46039f"
             ],
             [
              0.2222222222222222,
              "#7201a8"
             ],
             [
              0.3333333333333333,
              "#9c179e"
             ],
             [
              0.4444444444444444,
              "#bd3786"
             ],
             [
              0.5555555555555556,
              "#d8576b"
             ],
             [
              0.6666666666666666,
              "#ed7953"
             ],
             [
              0.7777777777777778,
              "#fb9f3a"
             ],
             [
              0.8888888888888888,
              "#fdca26"
             ],
             [
              1,
              "#f0f921"
             ]
            ],
            "type": "histogram2dcontour"
           }
          ],
          "mesh3d": [
           {
            "colorbar": {
             "outlinewidth": 0,
             "ticks": ""
            },
            "type": "mesh3d"
           }
          ],
          "parcoords": [
           {
            "line": {
             "colorbar": {
              "outlinewidth": 0,
              "ticks": ""
             }
            },
            "type": "parcoords"
           }
          ],
          "pie": [
           {
            "automargin": true,
            "type": "pie"
           }
          ],
          "scatter": [
           {
            "fillpattern": {
             "fillmode": "overlay",
             "size": 10,
             "solidity": 0.2
            },
            "type": "scatter"
           }
          ],
          "scatter3d": [
           {
            "line": {
             "colorbar": {
              "outlinewidth": 0,
              "ticks": ""
             }
            },
            "marker": {
             "colorbar": {
              "outlinewidth": 0,
              "ticks": ""
             }
            },
            "type": "scatter3d"
           }
          ],
          "scattercarpet": [
           {
            "marker": {
             "colorbar": {
              "outlinewidth": 0,
              "ticks": ""
             }
            },
            "type": "scattercarpet"
           }
          ],
          "scattergeo": [
           {
            "marker": {
             "colorbar": {
              "outlinewidth": 0,
              "ticks": ""
             }
            },
            "type": "scattergeo"
           }
          ],
          "scattergl": [
           {
            "marker": {
             "colorbar": {
              "outlinewidth": 0,
              "ticks": ""
             }
            },
            "type": "scattergl"
           }
          ],
          "scattermapbox": [
           {
            "marker": {
             "colorbar": {
              "outlinewidth": 0,
              "ticks": ""
             }
            },
            "type": "scattermapbox"
           }
          ],
          "scatterpolar": [
           {
            "marker": {
             "colorbar": {
              "outlinewidth": 0,
              "ticks": ""
             }
            },
            "type": "scatterpolar"
           }
          ],
          "scatterpolargl": [
           {
            "marker": {
             "colorbar": {
              "outlinewidth": 0,
              "ticks": ""
             }
            },
            "type": "scatterpolargl"
           }
          ],
          "scatterternary": [
           {
            "marker": {
             "colorbar": {
              "outlinewidth": 0,
              "ticks": ""
             }
            },
            "type": "scatterternary"
           }
          ],
          "surface": [
           {
            "colorbar": {
             "outlinewidth": 0,
             "ticks": ""
            },
            "colorscale": [
             [
              0,
              "#0d0887"
             ],
             [
              0.1111111111111111,
              "#46039f"
             ],
             [
              0.2222222222222222,
              "#7201a8"
             ],
             [
              0.3333333333333333,
              "#9c179e"
             ],
             [
              0.4444444444444444,
              "#bd3786"
             ],
             [
              0.5555555555555556,
              "#d8576b"
             ],
             [
              0.6666666666666666,
              "#ed7953"
             ],
             [
              0.7777777777777778,
              "#fb9f3a"
             ],
             [
              0.8888888888888888,
              "#fdca26"
             ],
             [
              1,
              "#f0f921"
             ]
            ],
            "type": "surface"
           }
          ],
          "table": [
           {
            "cells": {
             "fill": {
              "color": "#EBF0F8"
             },
             "line": {
              "color": "white"
             }
            },
            "header": {
             "fill": {
              "color": "#C8D4E3"
             },
             "line": {
              "color": "white"
             }
            },
            "type": "table"
           }
          ]
         },
         "layout": {
          "annotationdefaults": {
           "arrowcolor": "#2a3f5f",
           "arrowhead": 0,
           "arrowwidth": 1
          },
          "autotypenumbers": "strict",
          "coloraxis": {
           "colorbar": {
            "outlinewidth": 0,
            "ticks": ""
           }
          },
          "colorscale": {
           "diverging": [
            [
             0,
             "#8e0152"
            ],
            [
             0.1,
             "#c51b7d"
            ],
            [
             0.2,
             "#de77ae"
            ],
            [
             0.3,
             "#f1b6da"
            ],
            [
             0.4,
             "#fde0ef"
            ],
            [
             0.5,
             "#f7f7f7"
            ],
            [
             0.6,
             "#e6f5d0"
            ],
            [
             0.7,
             "#b8e186"
            ],
            [
             0.8,
             "#7fbc41"
            ],
            [
             0.9,
             "#4d9221"
            ],
            [
             1,
             "#276419"
            ]
           ],
           "sequential": [
            [
             0,
             "#0d0887"
            ],
            [
             0.1111111111111111,
             "#46039f"
            ],
            [
             0.2222222222222222,
             "#7201a8"
            ],
            [
             0.3333333333333333,
             "#9c179e"
            ],
            [
             0.4444444444444444,
             "#bd3786"
            ],
            [
             0.5555555555555556,
             "#d8576b"
            ],
            [
             0.6666666666666666,
             "#ed7953"
            ],
            [
             0.7777777777777778,
             "#fb9f3a"
            ],
            [
             0.8888888888888888,
             "#fdca26"
            ],
            [
             1,
             "#f0f921"
            ]
           ],
           "sequentialminus": [
            [
             0,
             "#0d0887"
            ],
            [
             0.1111111111111111,
             "#46039f"
            ],
            [
             0.2222222222222222,
             "#7201a8"
            ],
            [
             0.3333333333333333,
             "#9c179e"
            ],
            [
             0.4444444444444444,
             "#bd3786"
            ],
            [
             0.5555555555555556,
             "#d8576b"
            ],
            [
             0.6666666666666666,
             "#ed7953"
            ],
            [
             0.7777777777777778,
             "#fb9f3a"
            ],
            [
             0.8888888888888888,
             "#fdca26"
            ],
            [
             1,
             "#f0f921"
            ]
           ]
          },
          "colorway": [
           "#636efa",
           "#EF553B",
           "#00cc96",
           "#ab63fa",
           "#FFA15A",
           "#19d3f3",
           "#FF6692",
           "#B6E880",
           "#FF97FF",
           "#FECB52"
          ],
          "font": {
           "color": "#2a3f5f"
          },
          "geo": {
           "bgcolor": "white",
           "lakecolor": "white",
           "landcolor": "#E5ECF6",
           "showlakes": true,
           "showland": true,
           "subunitcolor": "white"
          },
          "hoverlabel": {
           "align": "left"
          },
          "hovermode": "closest",
          "mapbox": {
           "style": "light"
          },
          "paper_bgcolor": "white",
          "plot_bgcolor": "#E5ECF6",
          "polar": {
           "angularaxis": {
            "gridcolor": "white",
            "linecolor": "white",
            "ticks": ""
           },
           "bgcolor": "#E5ECF6",
           "radialaxis": {
            "gridcolor": "white",
            "linecolor": "white",
            "ticks": ""
           }
          },
          "scene": {
           "xaxis": {
            "backgroundcolor": "#E5ECF6",
            "gridcolor": "white",
            "gridwidth": 2,
            "linecolor": "white",
            "showbackground": true,
            "ticks": "",
            "zerolinecolor": "white"
           },
           "yaxis": {
            "backgroundcolor": "#E5ECF6",
            "gridcolor": "white",
            "gridwidth": 2,
            "linecolor": "white",
            "showbackground": true,
            "ticks": "",
            "zerolinecolor": "white"
           },
           "zaxis": {
            "backgroundcolor": "#E5ECF6",
            "gridcolor": "white",
            "gridwidth": 2,
            "linecolor": "white",
            "showbackground": true,
            "ticks": "",
            "zerolinecolor": "white"
           }
          },
          "shapedefaults": {
           "line": {
            "color": "#2a3f5f"
           }
          },
          "ternary": {
           "aaxis": {
            "gridcolor": "white",
            "linecolor": "white",
            "ticks": ""
           },
           "baxis": {
            "gridcolor": "white",
            "linecolor": "white",
            "ticks": ""
           },
           "bgcolor": "#E5ECF6",
           "caxis": {
            "gridcolor": "white",
            "linecolor": "white",
            "ticks": ""
           }
          },
          "title": {
           "x": 0.05
          },
          "xaxis": {
           "automargin": true,
           "gridcolor": "white",
           "linecolor": "white",
           "ticks": "",
           "title": {
            "standoff": 15
           },
           "zerolinecolor": "white",
           "zerolinewidth": 2
          },
          "yaxis": {
           "automargin": true,
           "gridcolor": "white",
           "linecolor": "white",
           "ticks": "",
           "title": {
            "standoff": 15
           },
           "zerolinecolor": "white",
           "zerolinewidth": 2
          }
         }
        }
       }
      }
     },
     "metadata": {},
     "output_type": "display_data"
    }
   ],
   "source": [
    "#TEST and view point on map\n",
    "test = get_rnd_point_on_circle_and_print_map(math.radians(41.89055634),math.radians(12.49426746), math.radians(50/111), 100)\n"
   ]
  },
  {
   "cell_type": "code",
   "execution_count": 176,
   "metadata": {},
   "outputs": [],
   "source": [
    "def get_address_by_lat_and_long(api_key_bing, url, lat, lon):\n",
    "    '''return address and postal code near point idenitified by latitude and longitude'''\n",
    "    list_of_results = []\n",
    "    url = f\"{url}{lat},{lon}\"\n",
    "\n",
    "    # Definisco i parametri della richiesta inversa\n",
    "    params = {\n",
    "        \"includeEntityTypes\":  \"Address\",\n",
    "        \"includeNeighborhood\": 1,\n",
    "        \"key\": api_key_bing\n",
    "    }\n",
    "\n",
    "    # Invio la richiesta inversa e ottengo la risposta\n",
    "    response = requests.get(url, params=params)\n",
    "    \n",
    "    # Controllo se la richiesta inversa è andata a buon fine\n",
    "    if response.status_code == 200:\n",
    "        data = None\n",
    "        data_status_code = None\n",
    "\n",
    "        # Estraggo i dati JSON dalla risposta inversa\n",
    "        try:\n",
    "            data = response.json()\n",
    "            data_status_code =  data[\"statusCode\"]\n",
    "        except Exception as err:\n",
    "            print(f'{err=}')\n",
    "        \n",
    "        # Controllo se ci sono risultati validi\n",
    "        if data_status_code == 200 and data[\"resourceSets\"][0][\"estimatedTotal\"] > 0:\n",
    "            \n",
    "            # Estraggo tutti i risultati (i numeri civici)\n",
    "            results = data[\"resourceSets\"][0][\"resources\"]\n",
    "            # Per ogni risultato, estraggo e stampo il numero civico e l'indirizzo completo\n",
    "            for result in results:\n",
    "                indirizzo_e_numero_civico = result[\"address\"][\"addressLine\"]\n",
    "                numero_civico = [int(s) for s in re.findall(r' \\d+', indirizzo_e_numero_civico)]\n",
    "                indirizzo_completo = result[\"address\"][\"formattedAddress\"]\n",
    "                regione = result[\"address\"][\"adminDistrict\"]\n",
    "                provincia = result[\"address\"][\"adminDistrict2\"]\n",
    "                comune = result[\"address\"][\"locality\"]\n",
    "                coordinate = result[\"geocodePoints\"][0][\"coordinates\"]\n",
    "                #print(data[\"resourceSets\"][0])\n",
    " \n",
    "                list_of_results.append( ( regione, provincia, comune, indirizzo_completo, indirizzo_e_numero_civico, numero_civico, coordinate))\n",
    "            \n",
    "        else:\n",
    "            #print(f\"Non sono stati trovati risultati validi, la richiesta alla mappe bing ha risposto con stato={data_status_code}\")\n",
    "            return data_status_code\n",
    "    else:\n",
    "        #print(f\"Errore nella richiesta di recupero indirizzi: {response.status_code}\")\n",
    "        return data_status_code\n",
    "\n",
    "\n",
    "    return list_of_results"
   ]
  },
  {
   "cell_type": "code",
   "execution_count": 177,
   "metadata": {},
   "outputs": [],
   "source": [
    "def find_only_address_of_privince_and_with_number(api_key_bing,url, points_for_request, province_ref, provinces, towns, address_complete,address_lite, latitudes, longitudes, response_errors ):    \n",
    "    with IncrementalBar('recupero indirizzi...', max=len(points_for_request)) as p_bar:\n",
    "        for item_lat, item_lng in points_for_request:\n",
    "\n",
    "            address_response = get_address_by_lat_and_long(api_key_bing,url, item_lat,  item_lng)\n",
    "\n",
    "            if (isinstance(address_response, list) and len(address_response)>0):\n",
    "                for ( regione_resp, provincia_resp, comune_resp,  indirizzo_completo_resp, indirizzo_e_numero_civico_resp, numero_civico_resp, coordinate_resp) in address_response:\n",
    "                    if indirizzo_completo_resp and provincia_resp == province_ref and len(numero_civico_resp)>0 and numero_civico_resp[0] > 0 :\n",
    "                        provinces.append(provincia_resp)\n",
    "                        towns.append(comune_resp)\n",
    "                        address_complete.append(indirizzo_completo_resp)\n",
    "                        address_lite.append(indirizzo_e_numero_civico_resp)\n",
    "                        latitudes.append(coordinate_resp[0])\n",
    "                        longitudes.append(coordinate_resp[1])\n",
    "            else:\n",
    "                response_errors.append(address_response)\n",
    "\n",
    "\n",
    "            p_bar.next()"
   ]
  },
  {
   "cell_type": "code",
   "execution_count": 178,
   "metadata": {},
   "outputs": [],
   "source": [
    "def recover_address_number_from_province_name ( api_key_bing, url,  province_name, radius = 10, precision=10, num_threads=2 ):\n",
    "    '''retrieve ddress_number from a city name using bing maps api'''\n",
    "\n",
    "    provinces = []\n",
    "    towns = []\n",
    "    address_complete = []\n",
    "    address_lite = []\n",
    "    latitudes = []\n",
    "    longitueds = []\n",
    "    response_errors = []\n",
    "\n",
    "    # Definisco i parametri della richiesta\n",
    "    params = {\n",
    "        \"query\": province_name,\n",
    "        \"key\": api_key_bing\n",
    "    }\n",
    "\n",
    "    # Invio la richiesta e ottengo la risposta\n",
    "    response = requests.get(url, params=params)\n",
    "\n",
    "    # Controllo se la richiesta è andata a buon fine\n",
    "    if response.status_code == 200:\n",
    "        # Estraggo i dati JSON dalla risposta\n",
    "        data = None\n",
    "        data_status_code = None\n",
    "        try:\n",
    "            data = response.json()\n",
    "            data_status_code = data[\"statusCode\"]\n",
    "        except Exception as err:\n",
    "            print(f'{err=}')\n",
    "\n",
    "        # Controllo se ci sono risultati validi\n",
    "        if data_status_code == 200 and data[\"resourceSets\"][0][\"estimatedTotal\"] > 0:\n",
    "            \n",
    "            # Estraggo il primo risultato (il più rilevante)\n",
    "            result = data[\"resourceSets\"][0][\"resources\"][0]\n",
    "\n",
    "            # Estraggo le coordinate geografiche del comune\n",
    "            lat = result[\"point\"][\"coordinates\"][0]\n",
    "            lng = result[\"point\"][\"coordinates\"][1]\n",
    "\n",
    "            # Stampo le coordinate geografiche della regione\n",
    "            print(f\"Le coordinate geografiche di riferimento usate per {province_name} sono: {lat}, {lng}\")\n",
    "            points = []\n",
    "            #recupero il admmin_district_ref della regione per filtare successivamente eventuali punti di altri regioni\n",
    "            (_, provincie_ref,  _,  _, _, _, _ ) = get_address_by_lat_and_long(api_key_bing,url, lat, lng)[0]\n",
    "\n",
    "            if provincie_ref:\n",
    "                points = get_rnd_point_on_circle_and_print_map(math.radians(lat), math.radians(lng), math.radians(radius), precision)\n",
    "                #find_only_address_of_privince_and_with_number(api_key_bing,url, points, provincie_ref, provinces, towns, address_complete,address_lite, latitudes, longitueds )\n",
    "\n",
    "\n",
    "                user_ctrl =input('in base ai punti visualizzati sulla mappa nel browser, vuoi procedere con le richieste per ottenere gli indirizzi? (s/n)')\n",
    "                if(user_ctrl == 's' or user_ctrl == 'S'):\n",
    "                    diveded_points = list(more_itertools.chunked(points, len(points) // num_threads))\n",
    "                    threads = list()\n",
    "\n",
    "                    for sub_points in diveded_points: \n",
    "                        t = threading.Thread(target=find_only_address_of_privince_and_with_number,args=(api_key_bing,url, sub_points, provincie_ref, provinces, towns, address_complete,address_lite, latitudes, longitueds, response_errors ))\n",
    "                        threads.append(t)\n",
    "                        t.start()\n",
    "                    \n",
    "                    for t in threads:\n",
    "                        t.join()\n",
    "\n",
    "            else:\n",
    "                print(f\"Fallito recupero informazioni in {province_name}, codice risposta http: {data_status_code}\")\n",
    "                \n",
    "        else:\n",
    "            # Stampo un messaggio di errore se non ci sono risultati validi\n",
    "            print(f\"Nessun risultato trovato in {province_name}\")\n",
    "    else:\n",
    "        # Stampo un messaggio di errore se la richiesta non è andata a buon fine\n",
    "        print(f\"Errore nella richiesta: {response.status_code}\")\n",
    "\n",
    "        \n",
    "    df_address_region = pd.DataFrame()\n",
    "    df_address_region['Provincia'] = provinces\n",
    "    df_address_region['Comune'] = towns\n",
    "    df_address_region['Indirizzo completo'] = address_complete\n",
    "    df_address_region['Indirizzo'] = address_lite\n",
    "    df_address_region['latitudine'] = latitudes\n",
    "    df_address_region['longitudine'] = longitueds\n",
    "\n",
    "    if len(response_errors)> 0:\n",
    "        print(f\"{len(response_errors)} su {precision} richieste non hanno dato risposta\")\n",
    "        print(f\"{precision - (len(response_errors) + len(address_complete))} su {precision} richieste hanno risposto con un indirizzo NON valido\")\n",
    "\n",
    "    df_address_region.drop_duplicates(inplace=True)\n",
    "    # Stampo il numero dei risultati trovati\n",
    "    if len(address_complete)> 0:\n",
    "        print(f\"Trovati {len(address_complete)} numeri civici (senza duplicati) all'interno di un cerchio di raggio {radius*111} km con centro {province_name} ({lat}, {lng})\")\n",
    "\n",
    "    #rimozione indirizzi duplicati\n",
    "    df_address_region.drop_duplicates(inplace=True)\n",
    "    df_address_region.sort_values(by=['Comune', 'Indirizzo completo'], inplace=True)\n",
    "    return df_address_region\n"
   ]
  },
  {
   "cell_type": "code",
   "execution_count": 179,
   "metadata": {},
   "outputs": [
    {
     "name": "stdout",
     "output_type": "stream",
     "text": [
      "Le coordinate geografiche di riferimento usate per Roma sono: 41.89055634, 12.49426746\n"
     ]
    },
    {
     "data": {
      "application/vnd.plotly.v1+json": {
       "config": {
        "plotlyServerURL": "https://plot.ly"
       },
       "data": [
        {
         "hovertemplate": "lat=%{lat}<br>lon=%{lon}<extra></extra>",
         "lat": [
          42.16082661027026,
          42.16029102584868,
          42.158686413427205,
          42.15601918664925,
          42.15230000534108,
          42.14754373129064,
          42.14176936663241,
          42.134999975130505,
          42.127262586732215,
          42.11858808584156,
          42.10901108383682,
          42.09856977642718,
          42.0873057865104,
          42.07526399325596,
          42.06249234819668,
          42.049041679164546,
          42.03496548295444,
          42.02031970764256,
          42.00516252552317,
          41.98955409765926,
          41.97355633106891,
          41.95723262958989,
          41.94064763948039,
          41.92386699082375,
          41.906957035809896,
          41.8899845849664,
          41.8730166424067,
          41.85612014115414,
          41.8393616795867,
          41.82280726002938,
          41.806522030500375,
          41.79057003059188,
          41.77501394243843,
          41.75991484769535,
          41.74533199141566,
          41.73132255367852,
          41.71794142978421,
          41.70524101979102,
          41.69327102812774,
          41.682078273973225,
          41.67170651305006,
          41.66219627143461,
          41.65358469193976,
          41.645905393580186,
          41.63918834458262,
          41.633459749356064,
          41.62874194978862,
          41.625053341189606,
          41.62240830314631,
          41.62081714551667,
          41.62028606972973,
          41.62081714551667,
          41.62240830314631,
          41.625053341189606,
          41.62874194978862,
          41.633459749356064,
          41.63918834458262,
          41.645905393580186,
          41.65358469193976,
          41.66219627143461,
          41.67170651305006,
          41.682078273973225,
          41.69327102812774,
          41.70524101979102,
          41.71794142978421,
          41.73132255367852,
          41.74533199141566,
          41.75991484769535,
          41.77501394243843,
          41.79057003059188,
          41.806522030500375,
          41.82280726002938,
          41.8393616795867,
          41.85612014115414,
          41.8730166424067,
          41.8899845849664,
          41.906957035809896,
          41.92386699082375,
          41.94064763948039,
          41.95723262958989,
          41.97355633106891,
          41.98955409765926,
          42.00516252552317,
          42.02031970764256,
          42.03496548295444,
          42.049041679164546,
          42.06249234819669,
          42.07526399325596,
          42.0873057865104,
          42.09856977642718,
          42.10901108383682,
          42.11858808584156,
          42.127262586732215,
          42.134999975130505,
          42.14176936663241,
          42.14754373129064,
          42.15230000534108,
          42.15601918664925,
          42.158686413427205,
          42.16029102584868,
          41.77796421436778,
          41.684500532948405,
          41.934005110582184,
          41.932690391037134,
          41.79917629652616,
          41.67173635157897,
          41.93601014692746,
          41.68761896165176,
          41.81428748309583,
          42.06628154835573,
          41.9994738884686,
          41.951702572881956,
          41.750298374458325,
          41.99920139513987,
          42.07934491913624,
          42.00393818553294,
          41.909655021441736,
          41.751995467477165,
          41.909540768155104,
          41.781463967594874,
          41.73346821291233,
          41.9816100305683,
          41.736691991414226,
          41.839279166611654,
          41.90079084536191,
          41.85975330995058,
          41.84804204121632,
          41.64125949074071,
          41.76869282654295,
          41.81958553059322,
          42.04139123551196,
          41.99736764150233,
          42.133292323626236,
          41.92427308149579,
          41.785048745894265,
          41.67758437493263,
          41.66922106923437,
          41.739544674874296,
          41.787841802161054,
          42.10388356707185,
          41.83629695493515,
          41.863278748080724,
          42.01598453304288,
          41.92255850625383,
          41.757118739981095,
          41.96304878433368,
          41.83545686787824,
          42.07985890719141,
          41.95373672908229,
          41.85730954958455,
          41.62632916384601,
          41.79387664084078,
          42.02612347587463,
          41.94660822178887,
          42.04797405908309,
          42.09796790160167,
          42.09806757677872,
          41.99440103216295,
          42.04825060120315,
          41.71122412057235,
          41.971101074557026,
          41.622598025443466,
          41.67100574704656,
          41.968841622792624,
          41.79241708266999,
          41.921813141472946,
          41.81949150802969,
          41.723185749318624,
          42.096713383613135,
          41.89837265826861,
          42.0812347035889,
          41.8505282998442,
          41.72164216794123,
          41.81633127627009,
          41.94871441529709,
          42.13979103525768,
          41.83587116456177,
          42.06249427020238,
          42.06946036812546,
          41.81051942436677,
          41.94752526160816,
          41.97214382351379,
          42.03899035949573,
          41.932748850542296,
          41.68428259662225,
          41.80973541152887,
          41.69588683008757,
          41.98081087740412,
          42.02860951837662,
          41.782284974303394,
          41.69992818847165,
          41.89348725559881,
          42.10423814755671,
          41.88623213379338,
          41.917172696843174,
          41.86642533516063,
          41.720081028697514,
          41.93318636828705,
          41.85928188510705,
          41.70084936745317,
          41.96634342923447,
          41.740372563499484,
          41.73421141026342,
          41.790624871247765,
          41.900690303728645,
          41.770714184010025,
          41.661307658695776,
          41.86263270013997,
          42.104098222275034,
          41.84066465366269,
          41.887635897852455,
          41.85438819504893,
          42.056687099269254,
          41.76408031188523,
          41.89440312935307,
          41.79809034058163,
          41.64939639474306,
          41.97974920959561,
          42.04846605307673,
          41.69635248905825,
          41.754500906602665,
          42.07865275732687,
          42.00829910572672,
          41.710703671878875,
          41.733345788414496,
          41.69129211624887,
          41.96319730840439,
          41.71427935091685,
          41.985557750842375,
          41.812248333984975,
          42.05643459581621,
          42.06049271062608,
          41.944129170798725,
          42.032284518839454,
          41.86271918096035,
          41.7364094406747,
          42.01463719631249,
          42.02645927915294,
          42.0359915799805,
          41.86425549333517,
          41.92028441445051,
          42.00500340752281,
          41.75670688580666,
          42.104947647858374,
          42.01582550279111,
          41.77209092120375,
          41.947107468810465,
          41.86114717117912,
          41.66052637383927,
          41.832143648592684,
          41.93052439463081,
          42.11929436255402,
          42.04452686730779,
          41.95181159126391,
          41.925844092602546,
          41.6965738581075,
          41.76468575770022,
          42.00775554581597,
          41.77582224279367,
          42.02303013480813,
          41.75058604538001,
          41.9901265264385,
          41.848482738125206,
          41.62839920642705,
          41.97018007841727,
          42.016459290405756,
          41.84645752476573,
          42.03660102035412,
          42.02380445116849,
          41.9643766571851,
          42.06799278885194,
          41.82635648821014,
          41.80412510756966,
          41.75300211021465,
          42.06700803576626,
          41.97892234672228,
          41.68067778290331,
          41.94610853894396,
          41.692318688633705,
          41.836653045687676,
          41.96099607390333,
          41.63384638547199,
          41.903272782565736,
          41.84873956893728,
          42.154969322331,
          41.85608478139372,
          41.692528067264526,
          41.88729811114136,
          41.930219553415164,
          41.728322693986925,
          42.0820589703395,
          41.766436317084334,
          41.926136972944455,
          41.6687002441588,
          41.812669226270984,
          42.04075880101483,
          41.69857702105043,
          41.79097306821496,
          41.94190872509825,
          41.79880400580837,
          42.07030998579046,
          41.8366728316472,
          41.68719618076214,
          41.695857810241755,
          41.68565615099556,
          41.72646001442594,
          41.71289793897766,
          41.8635810170095,
          41.76140328938173,
          41.95482237771814,
          42.03581973684134,
          41.82841097146157,
          42.13054625745115,
          41.83430939669073,
          41.908073367229164,
          41.98796669287118,
          41.82517870207405,
          42.00960257887885,
          41.86877373604047,
          41.75022475171553,
          42.015330061273445,
          42.04009787740601,
          42.03099849307193,
          42.06802934537607,
          41.802557597888296,
          42.062820394674894,
          42.0338164418621,
          41.92693537500706,
          42.005010954941795,
          41.97515147858394,
          41.98658970653827,
          41.84184087093335,
          42.101691005977585,
          41.929904300954185,
          42.041708110252564,
          41.674821027894346,
          42.04795798057173,
          42.01967489580536,
          42.005206443230115,
          41.8142370565687,
          41.86741226137611,
          41.720884695509504,
          42.089459239197346,
          41.79012527771068,
          41.71270731936005,
          41.91791173680718,
          42.067602954252685,
          41.836161094152175,
          41.9365804022668,
          41.91659100825885,
          41.705929848777224,
          41.64667753533318,
          41.739005167350285,
          42.00008199550708,
          41.67876527959923,
          41.7470885708665,
          41.68218336105714,
          41.89534314091379,
          41.89957916809737,
          41.93868747182839,
          42.116715402239954,
          41.88934755988704,
          41.939152605161205,
          41.82976596921962,
          42.00529315129174,
          41.700161528562646,
          42.03939641306521,
          41.72689937957119,
          41.67082186519186,
          41.82419760205578,
          42.13594513329806,
          41.74626158827149,
          42.04303606690103,
          42.02232117310536,
          41.90594717972561,
          41.93400808349169,
          41.76714758368322,
          41.88577215538719,
          41.83820576099005,
          42.12165592696207,
          41.8479036971743,
          41.73447545727734,
          41.97473730586174,
          41.982283968301275,
          41.790993788809,
          41.74407731392502,
          42.04864532682736,
          41.98485342046562,
          42.03454937888996,
          41.700372607517664,
          41.65067556712192,
          41.85318923743169,
          42.09175920544413,
          41.742974608705936,
          42.01681569335619,
          41.7796729214132,
          42.107562975987456,
          41.880972354468675,
          41.89873871884157,
          41.7935126182705
         ],
         "legendgroup": "",
         "lon": [
          12.494267460000001,
          12.517161073947191,
          12.539963182119845,
          12.562582658429172,
          12.58492913435464,
          12.606913373232459,
          12.628447639183705,
          12.649446058952405,
          12.669824974971787,
          12.689503288035912,
          12.708402788023026,
          12.726448471195601,
          12.743568842689216,
          12.759696202897146,
          12.774766916558876,
          12.788721663467514,
          12.80150566982228,
          12.813068919366646,
          12.823366343569413,
          12.832357990223581,
          12.840009169955794,
          12.84629058025589,
          12.851178406751135,
          12.854654401562073,
          12.85670593868577,
          12.857326046457079,
          12.856513417238599,
          12.85427239458504,
          12.850612938217022,
          12.845550567223057,
          12.839106281985975,
          12.831306465401566,
          12.822182764022656,
          12.811771949820992,
          12.800115763312851,
          12.787260738841779,
          12.77325801285413,
          12.75816311603989,
          12.742035750243454,
          12.724939551076483,
          12.706941837188428,
          12.688113347169928,
          12.668527965080633,
          12.64826243560626,
          12.627396069860493,
          12.606010442855805,
          12.584189083673916,
          12.562017159371662,
          12.539581153661809,
          12.51696854141114,
          12.494267460000001,
          12.47156637858886,
          12.448953766338192,
          12.42651776062834,
          12.404345836326085,
          12.382524477144196,
          12.361138850139508,
          12.340272484393742,
          12.320006954919368,
          12.300421572830073,
          12.281593082811574,
          12.263595368923518,
          12.246499169756547,
          12.23037180396011,
          12.21527690714587,
          12.201274181158222,
          12.18841915668715,
          12.17676297017901,
          12.166352155977345,
          12.157228454598435,
          12.149428638014028,
          12.142984352776944,
          12.137921981782979,
          12.134262525414961,
          12.132021502761402,
          12.131208873542922,
          12.13182898131423,
          12.133880518437929,
          12.137356513248866,
          12.142244339744112,
          12.148525750044207,
          12.15617692977642,
          12.165168576430588,
          12.175466000633355,
          12.187029250177721,
          12.199813256532487,
          12.213768003441125,
          12.228838717102855,
          12.244966077310785,
          12.2620864488044,
          12.280132131976975,
          12.29903163196409,
          12.318709945028214,
          12.339088861047596,
          12.360087280816296,
          12.381621546767542,
          12.403605785645361,
          12.42595226157083,
          12.448571737880156,
          12.47137384605281,
          12.649692892079907,
          12.282292488316893,
          12.526559340941962,
          12.32183931402897,
          12.59917534713003,
          12.543520013390154,
          12.184307422910639,
          12.576925661280667,
          12.292828387133776,
          12.454431101343472,
          12.542710863956664,
          12.422360111689597,
          12.432786869737491,
          12.198508656988222,
          12.319468117579426,
          12.39034763136555,
          12.139438647013957,
          12.504088861187103,
          12.354114863170967,
          12.496912215165858,
          12.521708512949848,
          12.733264381557214,
          12.463759502189813,
          12.538228223242985,
          12.247085723467341,
          12.237186898837573,
          12.320123751017,
          12.426264469370693,
          12.462603203688385,
          12.581885558217792,
          12.784093286692315,
          12.756971124909906,
          12.446084125720967,
          12.568069812517397,
          12.712148629765064,
          12.691798416818331,
          12.321986882671382,
          12.56473414792314,
          12.489449659428312,
          12.672491807102196,
          12.495835275126453,
          12.824066716863017,
          12.390223579695839,
          12.177862918889314,
          12.4568850881238,
          12.453264270148532,
          12.80940359131022,
          12.250033904107628,
          12.525355330766326,
          12.738771422822387,
          12.475275527664078,
          12.697444029038701,
          12.522553923377542,
          12.624036109017414,
          12.72806422114426,
          12.645908762579829,
          12.520175056548059,
          12.463371865764685,
          12.608187282449633,
          12.54614237031177,
          12.304295648748251,
          12.506791214415053,
          12.630783194780369,
          12.586486325064676,
          12.33928909345329,
          12.806555936613417,
          12.43011960842117,
          12.562471878419018,
          12.327268924822235,
          12.508485078155823,
          12.544321458359953,
          12.183813377561686,
          12.243616175795466,
          12.597886996664283,
          12.68989257735416,
          12.37370958451859,
          12.719351350898558,
          12.432318806084835,
          12.227161909516157,
          12.839884423766161,
          12.739053739439996,
          12.157655737918125,
          12.233607110047062,
          12.320998130322208,
          12.682555521332668,
          12.821533505451727,
          12.50512846675956,
          12.793791855704072,
          12.75116006319016,
          12.62804069343361,
          12.3167432672098,
          12.766771562458834,
          12.540207397648063,
          12.603629359222571,
          12.525937486937922,
          12.838434968904243,
          12.230145550791665,
          12.259126443659234,
          12.453741743604716,
          12.390807160895763,
          12.2259216322243,
          12.661301905285374,
          12.603298720812006,
          12.218326737234383,
          12.720723372516725,
          12.514580951495565,
          12.498155122271069,
          12.649402228508611,
          12.50374449409474,
          12.441573691132747,
          12.354787728185736,
          12.695847246966949,
          12.517706247797703,
          12.544681589047466,
          12.48733952628343,
          12.557029706859044,
          12.461715283388404,
          12.439052747059147,
          12.46987574929778,
          12.365307770818116,
          12.23719436332956,
          12.400704598095002,
          12.69150445311681,
          12.268946183962877,
          12.406713060211302,
          12.477192109890169,
          12.763910405528312,
          12.69617236768543,
          12.682656973775996,
          12.67128731456835,
          12.51089553905268,
          12.705997680690167,
          12.272531172569263,
          12.41694298436573,
          12.663404029518933,
          12.582340200977562,
          12.367979197861615,
          12.25564302625489,
          12.223367907832136,
          12.596813848365189,
          12.433244995651252,
          12.240245122555258,
          12.541670327948903,
          12.588129740925977,
          12.508933372911576,
          12.209633820643813,
          12.632619397988686,
          12.628700425806905,
          12.479632537005193,
          12.712681936882083,
          12.835859791007065,
          12.319434660862969,
          12.623676145073384,
          12.745717497984035,
          12.664108510359663,
          12.744696970936761,
          12.330393278738164,
          12.37053390984774,
          12.643550789833276,
          12.537710934326459,
          12.551401598256517,
          12.268198598031908,
          12.421252696861796,
          12.581700216761995,
          12.449943267797455,
          12.179366111468335,
          12.151025478857823,
          12.78519853447309,
          12.276183007780082,
          12.74450748683887,
          12.549850844612147,
          12.661056679412455,
          12.389835248268163,
          12.189513722506096,
          12.219793225526493,
          12.376070912893827,
          12.281312674102761,
          12.239021989335267,
          12.561293613883302,
          12.448390467284838,
          12.680478399929497,
          12.443990913552037,
          12.294625824646502,
          12.330438262839612,
          12.45856475934731,
          12.238966174473973,
          12.584386507019927,
          12.67748637167105,
          12.221668358515007,
          12.332240399673498,
          12.527423533128163,
          12.734266894106069,
          12.489158040097085,
          12.296514817302429,
          12.38983748104946,
          12.40268299628312,
          12.481165108685689,
          12.810371788514095,
          12.645167761492115,
          12.831274414285655,
          12.45419946525518,
          12.511107299867627,
          12.280522598455168,
          12.510592381303825,
          12.720462334536126,
          12.52729334095945,
          12.228754416150327,
          12.664829720145205,
          12.37061505027987,
          12.208966119080042,
          12.61599120122047,
          12.64152751662853,
          12.510103743839593,
          12.707824698197042,
          12.556952740350594,
          12.539181366300722,
          12.152274634949057,
          12.427967764945555,
          12.503830331163936,
          12.714540806441594,
          12.682078305149911,
          12.278250150800096,
          12.252308774886265,
          12.280757225835117,
          12.267144099457287,
          12.306211846246896,
          12.450015690192327,
          12.615151968237079,
          12.471440913473971,
          12.286587662453863,
          12.44449091722226,
          12.531126052255384,
          12.29284000818368,
          12.774976849735095,
          12.240389834250724,
          12.59748101142636,
          12.504204066704906,
          12.259891058520886,
          12.440766421950663,
          12.699246814874293,
          12.823772219141285,
          12.68053823177565,
          12.585694596768976,
          12.790348154240023,
          12.620467404609837,
          12.832521926691827,
          12.503537659162197,
          12.61484919399995,
          12.357629970135743,
          12.579381894075519,
          12.415377214270604,
          12.618974949299796,
          12.207267851183088,
          12.542440755130452,
          12.273677767805614,
          12.474016957841936,
          12.595829671110016,
          12.78431282915642,
          12.353497039946769,
          12.370559143726188,
          12.536353567815976,
          12.703965418578719,
          12.198623871646745,
          12.748141472608784,
          12.604297280772304,
          12.375715295805364,
          12.636184920035106,
          12.677196400052049,
          12.674067189598663,
          12.250607702185617,
          12.497446024813826,
          12.46121086714788,
          12.621303757626126,
          12.218094427999715,
          12.441362273301591,
          12.503634373706335,
          12.233323038932527,
          12.499093829379378,
          12.66463457488475,
          12.375382687343965,
          12.446600903311575,
          12.635177649005833,
          12.336839365065446,
          12.521762614125919,
          12.414424404199119,
          12.403942929845615,
          12.29374647244045,
          12.2229381681169,
          12.650151732237552,
          12.717177345304945,
          12.53415850132484,
          12.347435678587237,
          12.722170753760267,
          12.592360909048585,
          12.344173207077585,
          12.250362580480475,
          12.303444223161984,
          12.605296274330438,
          12.300219529377816,
          12.332329322402247
         ],
         "marker": {
          "color": "blue"
         },
         "mode": "markers",
         "name": "",
         "showlegend": false,
         "subplot": "mapbox",
         "type": "scattermapbox"
        }
       ],
       "layout": {
        "height": 500,
        "legend": {
         "tracegroupgap": 0
        },
        "mapbox": {
         "center": {
          "lat": 41.88612545632399,
          "lon": 12.492044352214547
         },
         "domain": {
          "x": [
           0,
           1
          ],
          "y": [
           0,
           1
          ]
         },
         "style": "open-street-map",
         "zoom": 5
        },
        "margin": {
         "t": 60
        },
        "template": {
         "data": {
          "bar": [
           {
            "error_x": {
             "color": "#2a3f5f"
            },
            "error_y": {
             "color": "#2a3f5f"
            },
            "marker": {
             "line": {
              "color": "#E5ECF6",
              "width": 0.5
             },
             "pattern": {
              "fillmode": "overlay",
              "size": 10,
              "solidity": 0.2
             }
            },
            "type": "bar"
           }
          ],
          "barpolar": [
           {
            "marker": {
             "line": {
              "color": "#E5ECF6",
              "width": 0.5
             },
             "pattern": {
              "fillmode": "overlay",
              "size": 10,
              "solidity": 0.2
             }
            },
            "type": "barpolar"
           }
          ],
          "carpet": [
           {
            "aaxis": {
             "endlinecolor": "#2a3f5f",
             "gridcolor": "white",
             "linecolor": "white",
             "minorgridcolor": "white",
             "startlinecolor": "#2a3f5f"
            },
            "baxis": {
             "endlinecolor": "#2a3f5f",
             "gridcolor": "white",
             "linecolor": "white",
             "minorgridcolor": "white",
             "startlinecolor": "#2a3f5f"
            },
            "type": "carpet"
           }
          ],
          "choropleth": [
           {
            "colorbar": {
             "outlinewidth": 0,
             "ticks": ""
            },
            "type": "choropleth"
           }
          ],
          "contour": [
           {
            "colorbar": {
             "outlinewidth": 0,
             "ticks": ""
            },
            "colorscale": [
             [
              0,
              "#0d0887"
             ],
             [
              0.1111111111111111,
              "#46039f"
             ],
             [
              0.2222222222222222,
              "#7201a8"
             ],
             [
              0.3333333333333333,
              "#9c179e"
             ],
             [
              0.4444444444444444,
              "#bd3786"
             ],
             [
              0.5555555555555556,
              "#d8576b"
             ],
             [
              0.6666666666666666,
              "#ed7953"
             ],
             [
              0.7777777777777778,
              "#fb9f3a"
             ],
             [
              0.8888888888888888,
              "#fdca26"
             ],
             [
              1,
              "#f0f921"
             ]
            ],
            "type": "contour"
           }
          ],
          "contourcarpet": [
           {
            "colorbar": {
             "outlinewidth": 0,
             "ticks": ""
            },
            "type": "contourcarpet"
           }
          ],
          "heatmap": [
           {
            "colorbar": {
             "outlinewidth": 0,
             "ticks": ""
            },
            "colorscale": [
             [
              0,
              "#0d0887"
             ],
             [
              0.1111111111111111,
              "#46039f"
             ],
             [
              0.2222222222222222,
              "#7201a8"
             ],
             [
              0.3333333333333333,
              "#9c179e"
             ],
             [
              0.4444444444444444,
              "#bd3786"
             ],
             [
              0.5555555555555556,
              "#d8576b"
             ],
             [
              0.6666666666666666,
              "#ed7953"
             ],
             [
              0.7777777777777778,
              "#fb9f3a"
             ],
             [
              0.8888888888888888,
              "#fdca26"
             ],
             [
              1,
              "#f0f921"
             ]
            ],
            "type": "heatmap"
           }
          ],
          "heatmapgl": [
           {
            "colorbar": {
             "outlinewidth": 0,
             "ticks": ""
            },
            "colorscale": [
             [
              0,
              "#0d0887"
             ],
             [
              0.1111111111111111,
              "#46039f"
             ],
             [
              0.2222222222222222,
              "#7201a8"
             ],
             [
              0.3333333333333333,
              "#9c179e"
             ],
             [
              0.4444444444444444,
              "#bd3786"
             ],
             [
              0.5555555555555556,
              "#d8576b"
             ],
             [
              0.6666666666666666,
              "#ed7953"
             ],
             [
              0.7777777777777778,
              "#fb9f3a"
             ],
             [
              0.8888888888888888,
              "#fdca26"
             ],
             [
              1,
              "#f0f921"
             ]
            ],
            "type": "heatmapgl"
           }
          ],
          "histogram": [
           {
            "marker": {
             "pattern": {
              "fillmode": "overlay",
              "size": 10,
              "solidity": 0.2
             }
            },
            "type": "histogram"
           }
          ],
          "histogram2d": [
           {
            "colorbar": {
             "outlinewidth": 0,
             "ticks": ""
            },
            "colorscale": [
             [
              0,
              "#0d0887"
             ],
             [
              0.1111111111111111,
              "#46039f"
             ],
             [
              0.2222222222222222,
              "#7201a8"
             ],
             [
              0.3333333333333333,
              "#9c179e"
             ],
             [
              0.4444444444444444,
              "#bd3786"
             ],
             [
              0.5555555555555556,
              "#d8576b"
             ],
             [
              0.6666666666666666,
              "#ed7953"
             ],
             [
              0.7777777777777778,
              "#fb9f3a"
             ],
             [
              0.8888888888888888,
              "#fdca26"
             ],
             [
              1,
              "#f0f921"
             ]
            ],
            "type": "histogram2d"
           }
          ],
          "histogram2dcontour": [
           {
            "colorbar": {
             "outlinewidth": 0,
             "ticks": ""
            },
            "colorscale": [
             [
              0,
              "#0d0887"
             ],
             [
              0.1111111111111111,
              "#46039f"
             ],
             [
              0.2222222222222222,
              "#7201a8"
             ],
             [
              0.3333333333333333,
              "#9c179e"
             ],
             [
              0.4444444444444444,
              "#bd3786"
             ],
             [
              0.5555555555555556,
              "#d8576b"
             ],
             [
              0.6666666666666666,
              "#ed7953"
             ],
             [
              0.7777777777777778,
              "#fb9f3a"
             ],
             [
              0.8888888888888888,
              "#fdca26"
             ],
             [
              1,
              "#f0f921"
             ]
            ],
            "type": "histogram2dcontour"
           }
          ],
          "mesh3d": [
           {
            "colorbar": {
             "outlinewidth": 0,
             "ticks": ""
            },
            "type": "mesh3d"
           }
          ],
          "parcoords": [
           {
            "line": {
             "colorbar": {
              "outlinewidth": 0,
              "ticks": ""
             }
            },
            "type": "parcoords"
           }
          ],
          "pie": [
           {
            "automargin": true,
            "type": "pie"
           }
          ],
          "scatter": [
           {
            "fillpattern": {
             "fillmode": "overlay",
             "size": 10,
             "solidity": 0.2
            },
            "type": "scatter"
           }
          ],
          "scatter3d": [
           {
            "line": {
             "colorbar": {
              "outlinewidth": 0,
              "ticks": ""
             }
            },
            "marker": {
             "colorbar": {
              "outlinewidth": 0,
              "ticks": ""
             }
            },
            "type": "scatter3d"
           }
          ],
          "scattercarpet": [
           {
            "marker": {
             "colorbar": {
              "outlinewidth": 0,
              "ticks": ""
             }
            },
            "type": "scattercarpet"
           }
          ],
          "scattergeo": [
           {
            "marker": {
             "colorbar": {
              "outlinewidth": 0,
              "ticks": ""
             }
            },
            "type": "scattergeo"
           }
          ],
          "scattergl": [
           {
            "marker": {
             "colorbar": {
              "outlinewidth": 0,
              "ticks": ""
             }
            },
            "type": "scattergl"
           }
          ],
          "scattermapbox": [
           {
            "marker": {
             "colorbar": {
              "outlinewidth": 0,
              "ticks": ""
             }
            },
            "type": "scattermapbox"
           }
          ],
          "scatterpolar": [
           {
            "marker": {
             "colorbar": {
              "outlinewidth": 0,
              "ticks": ""
             }
            },
            "type": "scatterpolar"
           }
          ],
          "scatterpolargl": [
           {
            "marker": {
             "colorbar": {
              "outlinewidth": 0,
              "ticks": ""
             }
            },
            "type": "scatterpolargl"
           }
          ],
          "scatterternary": [
           {
            "marker": {
             "colorbar": {
              "outlinewidth": 0,
              "ticks": ""
             }
            },
            "type": "scatterternary"
           }
          ],
          "surface": [
           {
            "colorbar": {
             "outlinewidth": 0,
             "ticks": ""
            },
            "colorscale": [
             [
              0,
              "#0d0887"
             ],
             [
              0.1111111111111111,
              "#46039f"
             ],
             [
              0.2222222222222222,
              "#7201a8"
             ],
             [
              0.3333333333333333,
              "#9c179e"
             ],
             [
              0.4444444444444444,
              "#bd3786"
             ],
             [
              0.5555555555555556,
              "#d8576b"
             ],
             [
              0.6666666666666666,
              "#ed7953"
             ],
             [
              0.7777777777777778,
              "#fb9f3a"
             ],
             [
              0.8888888888888888,
              "#fdca26"
             ],
             [
              1,
              "#f0f921"
             ]
            ],
            "type": "surface"
           }
          ],
          "table": [
           {
            "cells": {
             "fill": {
              "color": "#EBF0F8"
             },
             "line": {
              "color": "white"
             }
            },
            "header": {
             "fill": {
              "color": "#C8D4E3"
             },
             "line": {
              "color": "white"
             }
            },
            "type": "table"
           }
          ]
         },
         "layout": {
          "annotationdefaults": {
           "arrowcolor": "#2a3f5f",
           "arrowhead": 0,
           "arrowwidth": 1
          },
          "autotypenumbers": "strict",
          "coloraxis": {
           "colorbar": {
            "outlinewidth": 0,
            "ticks": ""
           }
          },
          "colorscale": {
           "diverging": [
            [
             0,
             "#8e0152"
            ],
            [
             0.1,
             "#c51b7d"
            ],
            [
             0.2,
             "#de77ae"
            ],
            [
             0.3,
             "#f1b6da"
            ],
            [
             0.4,
             "#fde0ef"
            ],
            [
             0.5,
             "#f7f7f7"
            ],
            [
             0.6,
             "#e6f5d0"
            ],
            [
             0.7,
             "#b8e186"
            ],
            [
             0.8,
             "#7fbc41"
            ],
            [
             0.9,
             "#4d9221"
            ],
            [
             1,
             "#276419"
            ]
           ],
           "sequential": [
            [
             0,
             "#0d0887"
            ],
            [
             0.1111111111111111,
             "#46039f"
            ],
            [
             0.2222222222222222,
             "#7201a8"
            ],
            [
             0.3333333333333333,
             "#9c179e"
            ],
            [
             0.4444444444444444,
             "#bd3786"
            ],
            [
             0.5555555555555556,
             "#d8576b"
            ],
            [
             0.6666666666666666,
             "#ed7953"
            ],
            [
             0.7777777777777778,
             "#fb9f3a"
            ],
            [
             0.8888888888888888,
             "#fdca26"
            ],
            [
             1,
             "#f0f921"
            ]
           ],
           "sequentialminus": [
            [
             0,
             "#0d0887"
            ],
            [
             0.1111111111111111,
             "#46039f"
            ],
            [
             0.2222222222222222,
             "#7201a8"
            ],
            [
             0.3333333333333333,
             "#9c179e"
            ],
            [
             0.4444444444444444,
             "#bd3786"
            ],
            [
             0.5555555555555556,
             "#d8576b"
            ],
            [
             0.6666666666666666,
             "#ed7953"
            ],
            [
             0.7777777777777778,
             "#fb9f3a"
            ],
            [
             0.8888888888888888,
             "#fdca26"
            ],
            [
             1,
             "#f0f921"
            ]
           ]
          },
          "colorway": [
           "#636efa",
           "#EF553B",
           "#00cc96",
           "#ab63fa",
           "#FFA15A",
           "#19d3f3",
           "#FF6692",
           "#B6E880",
           "#FF97FF",
           "#FECB52"
          ],
          "font": {
           "color": "#2a3f5f"
          },
          "geo": {
           "bgcolor": "white",
           "lakecolor": "white",
           "landcolor": "#E5ECF6",
           "showlakes": true,
           "showland": true,
           "subunitcolor": "white"
          },
          "hoverlabel": {
           "align": "left"
          },
          "hovermode": "closest",
          "mapbox": {
           "style": "light"
          },
          "paper_bgcolor": "white",
          "plot_bgcolor": "#E5ECF6",
          "polar": {
           "angularaxis": {
            "gridcolor": "white",
            "linecolor": "white",
            "ticks": ""
           },
           "bgcolor": "#E5ECF6",
           "radialaxis": {
            "gridcolor": "white",
            "linecolor": "white",
            "ticks": ""
           }
          },
          "scene": {
           "xaxis": {
            "backgroundcolor": "#E5ECF6",
            "gridcolor": "white",
            "gridwidth": 2,
            "linecolor": "white",
            "showbackground": true,
            "ticks": "",
            "zerolinecolor": "white"
           },
           "yaxis": {
            "backgroundcolor": "#E5ECF6",
            "gridcolor": "white",
            "gridwidth": 2,
            "linecolor": "white",
            "showbackground": true,
            "ticks": "",
            "zerolinecolor": "white"
           },
           "zaxis": {
            "backgroundcolor": "#E5ECF6",
            "gridcolor": "white",
            "gridwidth": 2,
            "linecolor": "white",
            "showbackground": true,
            "ticks": "",
            "zerolinecolor": "white"
           }
          },
          "shapedefaults": {
           "line": {
            "color": "#2a3f5f"
           }
          },
          "ternary": {
           "aaxis": {
            "gridcolor": "white",
            "linecolor": "white",
            "ticks": ""
           },
           "baxis": {
            "gridcolor": "white",
            "linecolor": "white",
            "ticks": ""
           },
           "bgcolor": "#E5ECF6",
           "caxis": {
            "gridcolor": "white",
            "linecolor": "white",
            "ticks": ""
           }
          },
          "title": {
           "x": 0.05
          },
          "xaxis": {
           "automargin": true,
           "gridcolor": "white",
           "linecolor": "white",
           "ticks": "",
           "title": {
            "standoff": 15
           },
           "zerolinecolor": "white",
           "zerolinewidth": 2
          },
          "yaxis": {
           "automargin": true,
           "gridcolor": "white",
           "linecolor": "white",
           "ticks": "",
           "title": {
            "standoff": 15
           },
           "zerolinecolor": "white",
           "zerolinewidth": 2
          }
         }
        }
       }
      }
     },
     "metadata": {},
     "output_type": "display_data"
    },
    {
     "name": "stdout",
     "output_type": "stream",
     "text": [
      "122 su 300 richieste non hanno dato risposta\n",
      "-45 su 300 richieste hanno risposto con un indirizzo NON valido\n",
      "Trovati 223 numeri civici (senza duplicati) all'interno di un cerchio di raggio 30.0 km con centro Roma (41.89055634, 12.49426746)\n"
     ]
    }
   ],
   "source": [
    "df_province = recover_address_number_from_province_name(api_key,base_bing_url, province, dimension_searc_area, 300, num_threads)"
   ]
  },
  {
   "cell_type": "code",
   "execution_count": null,
   "metadata": {},
   "outputs": [],
   "source": [
    "df_province.to_csv(f\"Indirizzi_{province}.csv\", sep=';', index=False, encoding='utf-8' ) "
   ]
  }
 ],
 "metadata": {
  "kernelspec": {
   "display_name": "Python 3",
   "language": "python",
   "name": "python3"
  },
  "language_info": {
   "codemirror_mode": {
    "name": "ipython",
    "version": 3
   },
   "file_extension": ".py",
   "mimetype": "text/x-python",
   "name": "python",
   "nbconvert_exporter": "python",
   "pygments_lexer": "ipython3",
   "version": "3.12.0"
  }
 },
 "nbformat": 4,
 "nbformat_minor": 2
}
