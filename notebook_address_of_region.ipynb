{
 "cells": [
  {
   "cell_type": "code",
   "execution_count": 52,
   "metadata": {},
   "outputs": [],
   "source": [
    "# Importo il modulo requests\n",
    "import threading\n",
    "import requests\n",
    "import toml\n",
    "import matplotlib.pyplot as plt\n",
    "import numpy as np\n",
    "import pandas as pd\n",
    "import plotly.graph_objects as go\n",
    "import random\n",
    "import math\n",
    "import more_itertools \n",
    "from progress.bar import IncrementalBar\n",
    "import re\n",
    "\n",
    "import plotly.express as px"
   ]
  },
  {
   "cell_type": "code",
   "execution_count": 53,
   "metadata": {},
   "outputs": [],
   "source": [
    "# Load the TOML data into a Python dictionary\n",
    "with open(\"config.toml\") as f:\n",
    "    data = toml.load(f)\n",
    "\n",
    "api_key = data['api_key']\n",
    "base_bing_url = data['bing_url']\n",
    "dimension_searc_area = data['dimension_searc_area']\n",
    "search_precision = data['search_precision']\n",
    "num_threads = data['num_threads']\n",
    "\n",
    "region = 'Calabria'"
   ]
  },
  {
   "cell_type": "code",
   "execution_count": 54,
   "metadata": {},
   "outputs": [],
   "source": [
    "def radiants_distance(lat1, lon1, lat2, lon2):\n",
    "    '''return differenze from point in latitude and longitude'''\n",
    "    dlat = lat2 - lat1\n",
    "    dlon = lon2 - lon1\n",
    "\n",
    "    # Applicare la formula dell'averseno per calcolare la distanza angolare\n",
    "    a = math.sin(dlat / 2) ** 2 + math.cos(lat1) * math.cos(lat2) * math.sin(dlon / 2) ** 2\n",
    "    c = 2 * math.asin(math.sqrt(a))\n",
    "    return c\n",
    "\n",
    "\n",
    "def get_rnd_point_in_limits(lat_c, lon_c, raggio,\n",
    "                            min_lat=-math.pi / 2 , max_lat=math.pi / 2,\n",
    "                            min_lon=-math.pi,max_lon=math.pi, n=10):\n",
    "    '''return n random point in limit defined as input parameter '''\n",
    "    punti = []\n",
    "\n",
    "    # Iterare fino a che non si raggiunge il numero desiderato di punti\n",
    "    while len(punti) < n:\n",
    "        # Generare una latitudine e una longitudine casuali tra -$\\pi$/2 e $\\pi$/2 radianti\n",
    "        lat_p = random.uniform(min_lat, max_lat)\n",
    "        lon_p = random.uniform(min_lon, max_lon)\n",
    "\n",
    "        # Calcolare la distanza tra il punto casuale e il centro dell'area circolare\n",
    "        distanza = radiants_distance(lat_c, lon_c, lat_p, lon_p)\n",
    "\n",
    "        # Se la distanza è minore o uguale al raggio, aggiungere il punto alla lista dei punti\n",
    "        if distanza <= raggio:\n",
    "            punti.append((math.degrees(lat_p), math.degrees(lon_p)))\n",
    "\n",
    "    # Restituire la lista dei punti in gradi\n",
    "    return punti\n",
    "\n",
    "\n",
    "def get_rnd_point_on_circle_and_print_map(lat_c, lon_c, raggio, n = 100):\n",
    "    '''return n random point on a circle defined by latitude, longitude and radius (in radiants)'''\n",
    "    # Creare una lista vuota per contenere i punti\n",
    "    punti = []\n",
    "    punti_lat_perimeto_cerchio = []\n",
    "    punti_lon_perimeto_cerchio = []\n",
    "\n",
    "    n_punti_perimetro = 100\n",
    "\n",
    "    # Calcolare l'angolo tra ogni punto in radianti\n",
    "    angolo = 2 * math.pi / n_punti_perimetro\n",
    "\n",
    "    # Iterare su ogni punto\n",
    "    for i in range(n_punti_perimetro):\n",
    "        # Calcolare la latitudine e la longitudine del punto in radianti\n",
    "        lat_p = math.asin(math.sin(lat_c) * math.cos(raggio) + math.cos(lat_c) * math.sin(raggio) * math.cos(i * angolo))\n",
    "        lon_p = lon_c + math.atan2(math.sin(i * angolo) * math.sin(raggio) * math.cos(lat_c), math.cos(raggio) - math.sin(lat_c) * math.sin(lat_p))\n",
    "        punti_lat_perimeto_cerchio.append(lat_p)\n",
    "        punti_lon_perimeto_cerchio.append(lon_p)\n",
    "        # Convertire la latitudine e la longitudine del punto in gradi\n",
    "        lat_p = math.degrees(lat_p)\n",
    "        lon_p = math.degrees(lon_p)\n",
    "\n",
    "        punti.append((lat_p, lon_p))\n",
    "\n",
    "    min_lat = min(punti_lat_perimeto_cerchio)\n",
    "    max_lat = max(punti_lat_perimeto_cerchio)\n",
    "    min_lon = min(punti_lon_perimeto_cerchio)\n",
    "    max_lon = max(punti_lon_perimeto_cerchio)\n",
    "\n",
    "    punti_rnd = get_rnd_point_in_limits(lat_c, lon_c, raggio,min_lat, max_lat, min_lon, max_lon, n)\n",
    "    for punto_rnd in punti_rnd:\n",
    "        punti.append(punto_rnd)\n",
    "\n",
    "\n",
    "    df_rnd = pd.DataFrame()\n",
    "    df_rnd['lat'] = [l[0] for l in punti ]\n",
    "    df_rnd['lon'] = [l[1] for l in punti ]\n",
    "\n",
    "    fig2 = px.scatter_mapbox(df_rnd,\n",
    "                        lat=\"lat\",\n",
    "                        lon=\"lon\",\n",
    "                        color_discrete_sequence=[\"blue\"],\n",
    "                        zoom=5,\n",
    "                        height=500\n",
    "                    )\n",
    "    fig2.update_layout(mapbox_style=\"open-street-map\")\n",
    "    fig2.show()\n",
    "\n",
    "    # Restituire la lista dei punti\n",
    "    return punti"
   ]
  },
  {
   "cell_type": "code",
   "execution_count": 55,
   "metadata": {},
   "outputs": [
    {
     "data": {
      "application/vnd.plotly.v1+json": {
       "config": {
        "plotlyServerURL": "https://plot.ly"
       },
       "data": [
        {
         "hovertemplate": "lat=%{lat}<br>lon=%{lon}<extra></extra>",
         "lat": [
          39.15777808009009,
          39.15760008076379,
          39.15706678796264,
          39.15618031439394,
          39.154944171828944,
          39.15336325703284,
          39.15144383214922,
          39.149193499621205,
          39.14662117175397,
          39.14373703504571,
          39.14055250943586,
          39.13708020264004,
          39.13333385976165,
          39.1293283083888,
          39.12507939940397,
          39.12060394375052,
          39.115919645416454,
          39.11104503091059,
          39.1059993755197,
          39.1008026266477,
          39.095475324548694,
          39.09003852077527,
          39.084513694671436,
          39.078922668246705,
          39.07328751977251,
          39.06763049644655,
          39.06197392647267,
          39.05634013090517,
          39.05075133560586,
          39.04522958366036,
          39.03979664859739,
          39.03447394874969,
          39.02928246309022,
          39.024242648869745,
          39.01937436137406,
          39.01469677610979,
          39.010228313717036,
          39.00598656789625,
          39.00198823662359,
          38.998249056916215,
          38.99478374339461,
          38.99160593087373,
          38.98872812119932,
          38.98616163452917,
          38.983916565241664,
          38.98200174263688,
          38.98042469657659,
          38.97919162819154,
          38.97830738576474,
          38.9777754458806,
          38.97759789990992,
          38.9777754458806,
          38.97830738576474,
          38.97919162819154,
          38.98042469657659,
          38.98200174263688,
          38.983916565241664,
          38.98616163452917,
          38.98872812119932,
          38.99160593087373,
          38.99478374339461,
          38.998249056916215,
          39.00198823662359,
          39.00598656789625,
          39.010228313717036,
          39.01469677610979,
          39.01937436137406,
          39.024242648869745,
          39.02928246309022,
          39.03447394874969,
          39.03979664859739,
          39.04522958366036,
          39.05075133560586,
          39.05634013090517,
          39.06197392647267,
          39.06763049644655,
          39.07328751977251,
          39.078922668246705,
          39.084513694671436,
          39.09003852077527,
          39.095475324548694,
          39.1008026266477,
          39.1059993755197,
          39.11104503091059,
          39.115919645416454,
          39.12060394375052,
          39.12507939940397,
          39.1293283083888,
          39.13333385976165,
          39.13708020264004,
          39.14055250943586,
          39.14373703504571,
          39.14662117175397,
          39.149193499621205,
          39.15144383214922,
          39.15336325703284,
          39.154944171828944,
          39.15618031439394,
          39.15706678796264,
          39.15760008076379,
          39.03785638301717,
          39.08406138417539,
          39.04982538841912,
          39.051445604144305,
          39.12418172665028,
          39.14327337858492,
          39.03215742289738,
          38.98732116699353,
          39.04247948362935,
          39.03523689171378,
          39.08430386290411,
          39.04127993612994,
          39.10315980201122,
          39.08249659521166,
          39.041411122113146,
          38.98497921679884,
          39.0527737325549,
          39.017589302951706,
          39.04773656693421,
          39.03346808000862,
          39.00973753746601,
          39.01807034234367,
          39.03248737842405,
          39.018194644134105,
          39.09611194898488,
          39.08279945512001,
          39.01554631794919,
          39.007348735124054,
          39.108369467591054,
          39.07821105529918,
          39.05625435110841,
          39.13112785251063,
          39.07792512070968,
          39.10865836896582,
          39.11972921903778,
          39.041450025675715,
          39.1252414631542,
          39.10604143633754,
          39.110340195719026,
          39.105303293026445,
          39.04709183804379,
          39.08261913299738,
          39.113712062122694,
          39.04088511581611,
          39.047152475293856,
          39.07569268520712,
          39.079550146345674,
          39.046445226896694,
          39.074514830822054,
          39.01766274896556,
          39.018606873242696,
          39.06526158066589,
          39.01237211368473,
          39.06376796269524,
          39.12290388788404,
          39.10127823852915,
          39.03260089315454,
          39.04467471933352,
          39.03547655265082,
          39.04328022083381,
          38.98995718582814,
          39.13487965984316,
          39.036211590942784,
          39.05039165274671,
          39.08864604735361,
          39.04966847817458,
          39.00091186896547,
          39.07710067761953,
          39.00534046808583,
          39.10374001734332,
          39.112040314476815,
          39.10736557224755,
          39.038657146253875,
          39.09079787895699,
          39.00018869211524,
          39.098385890538644,
          39.118124403117044,
          39.08616989662904,
          39.06206105178142,
          39.105067002004525,
          39.077464000117175,
          39.05776456062117,
          39.004753431774105,
          39.04997920526771,
          39.04571860537783,
          39.060572830559664,
          39.09346463994949,
          39.09774800295144,
          39.15216518522008,
          39.06115980291256,
          39.030582959309065,
          39.03201291260189,
          39.12017474735961,
          39.15676057036688,
          39.115254608097615,
          39.0128889797487,
          39.02409621699851,
          39.066834621725654,
          39.039075099394694,
          39.02999770215853
         ],
         "legendgroup": "",
         "lon": [
          16.34765053,
          16.354945750245538,
          16.36221206933522,
          16.369420701921776,
          16.376543093790122,
          16.383551036213355,
          16.39041677886324,
          16.397113140804322,
          16.40361361911011,
          16.40989249465126,
          16.415924934619312,
          16.421687091365225,
          16.42715619714948,
          16.43231065441982,
          16.437130121253972,
          16.441595591626868,
          16.445689470186245,
          16.44939564124539,
          16.452699531728125,
          16.45558816782843,
          16.45805022517478,
          16.460076072318028,
          16.461657807390537,
          16.462789287813422,
          16.463466152958368,
          16.463685839699593,
          16.463447590820977,
          16.462752456272153,
          16.46160328729599,
          16.460004723477827,
          16.45796317279432,
          16.45548678476626,
          16.452585416845732,
          16.44927059419283,
          16.4455554630212,
          16.44145473771469,
          16.43698464193913,
          16.432162843994337,
          16.427008386670806,
          16.42154161189417,
          16.415784080457705,
          16.409758487159248,
          16.403488571673588,
          16.396999025505092,
          16.390315395377552,
          16.38346398342931,
          16.376471744591623,
          16.369366181536737,
          16.362175237589522,
          16.354927188002616,
          16.34765053,
          16.34037387199738,
          16.333125822410477,
          16.325934878463258,
          16.318829315408372,
          16.311837076570686,
          16.304985664622446,
          16.298302034494903,
          16.29181248832641,
          16.285542572840747,
          16.27951697954229,
          16.273759448105828,
          16.26829267332919,
          16.263138216005657,
          16.258316418060865,
          16.253846322285305,
          16.249745596978794,
          16.24603046580717,
          16.242715643154263,
          16.239814275233734,
          16.237337887205676,
          16.235296336522172,
          16.233697772704005,
          16.23254860372784,
          16.23185346917902,
          16.2316152203004,
          16.23183490704163,
          16.232511772186573,
          16.23364325260946,
          16.235224987681967,
          16.23725083482522,
          16.239712892171564,
          16.24260152827187,
          16.245905418754607,
          16.24961158981375,
          16.25370546837313,
          16.258170938746023,
          16.262990405580176,
          16.26814486285052,
          16.27361396863477,
          16.279376125380686,
          16.285408565348735,
          16.291687440889884,
          16.298187919195676,
          16.304884281136758,
          16.311750023786644,
          16.318757966209876,
          16.32588035807822,
          16.333088990664777,
          16.340355309754457,
          16.33256643851605,
          16.266262444960788,
          16.353078159143404,
          16.33242274829909,
          16.361224565730645,
          16.387818036022086,
          16.282444095131286,
          16.3384725430593,
          16.415220722962985,
          16.296456266839485,
          16.25721043875436,
          16.45340284504856,
          16.44082926747843,
          16.437327572598107,
          16.415724592967205,
          16.31156787009476,
          16.259520487616175,
          16.3706673095172,
          16.30703459593456,
          16.357655000065005,
          16.40349605529336,
          16.438542241097547,
          16.289364459458756,
          16.359883268011412,
          16.43756494624486,
          16.3065939045806,
          16.317198330349377,
          16.313876925115686,
          16.324090183261898,
          16.2980569659858,
          16.453414144473545,
          16.42485035655048,
          16.334834464040032,
          16.373541718199174,
          16.43029818474191,
          16.311960394879087,
          16.273163127740954,
          16.292628506996923,
          16.39867878906639,
          16.305019673283056,
          16.240859776344507,
          16.449962570463594,
          16.446442263161835,
          16.294920270468563,
          16.452623586444385,
          16.29006275366106,
          16.447190074209367,
          16.331749003385777,
          16.255577719571278,
          16.271709200882384,
          16.367082463445122,
          16.360121639727762,
          16.404829231161074,
          16.24414201796676,
          16.40913437602547,
          16.387541586368002,
          16.412400193820122,
          16.322813262587875,
          16.45074748778932,
          16.408041149087275,
          16.355583793587773,
          16.36107549682854,
          16.43823533467077,
          16.23903092073742,
          16.27580291829864,
          16.33009619607578,
          16.3458360578477,
          16.267369258731556,
          16.324654351122344,
          16.244709083496495,
          16.44837431763643,
          16.283969706073385,
          16.36319958172637,
          16.443444301155672,
          16.29822020324265,
          16.43116457878426,
          16.29920970706152,
          16.441140039314003,
          16.30700217689407,
          16.25448285023062,
          16.441582093492006,
          16.328795286134625,
          16.275368762200756,
          16.421833451517156,
          16.31992261709011,
          16.431236661797755,
          16.449802006550186,
          16.39258180547527,
          16.328910351770322,
          16.367234052409508,
          16.29629000796204,
          16.38782688401951,
          16.38750563634968,
          16.352385694905678,
          16.38264002910935,
          16.359112202777872,
          16.430806429101438,
          16.31882272458561,
          16.33525112088031,
          16.33800107873251
         ],
         "marker": {
          "color": "blue"
         },
         "mode": "markers",
         "name": "",
         "showlegend": false,
         "subplot": "mapbox",
         "type": "scattermapbox"
        }
       ],
       "layout": {
        "height": 500,
        "legend": {
         "tracegroupgap": 0
        },
        "mapbox": {
         "center": {
          "lat": 39.06570816529389,
          "lon": 16.3508773801853
         },
         "domain": {
          "x": [
           0,
           1
          ],
          "y": [
           0,
           1
          ]
         },
         "style": "open-street-map",
         "zoom": 5
        },
        "margin": {
         "t": 60
        },
        "template": {
         "data": {
          "bar": [
           {
            "error_x": {
             "color": "#2a3f5f"
            },
            "error_y": {
             "color": "#2a3f5f"
            },
            "marker": {
             "line": {
              "color": "#E5ECF6",
              "width": 0.5
             },
             "pattern": {
              "fillmode": "overlay",
              "size": 10,
              "solidity": 0.2
             }
            },
            "type": "bar"
           }
          ],
          "barpolar": [
           {
            "marker": {
             "line": {
              "color": "#E5ECF6",
              "width": 0.5
             },
             "pattern": {
              "fillmode": "overlay",
              "size": 10,
              "solidity": 0.2
             }
            },
            "type": "barpolar"
           }
          ],
          "carpet": [
           {
            "aaxis": {
             "endlinecolor": "#2a3f5f",
             "gridcolor": "white",
             "linecolor": "white",
             "minorgridcolor": "white",
             "startlinecolor": "#2a3f5f"
            },
            "baxis": {
             "endlinecolor": "#2a3f5f",
             "gridcolor": "white",
             "linecolor": "white",
             "minorgridcolor": "white",
             "startlinecolor": "#2a3f5f"
            },
            "type": "carpet"
           }
          ],
          "choropleth": [
           {
            "colorbar": {
             "outlinewidth": 0,
             "ticks": ""
            },
            "type": "choropleth"
           }
          ],
          "contour": [
           {
            "colorbar": {
             "outlinewidth": 0,
             "ticks": ""
            },
            "colorscale": [
             [
              0,
              "#0d0887"
             ],
             [
              0.1111111111111111,
              "#46039f"
             ],
             [
              0.2222222222222222,
              "#7201a8"
             ],
             [
              0.3333333333333333,
              "#9c179e"
             ],
             [
              0.4444444444444444,
              "#bd3786"
             ],
             [
              0.5555555555555556,
              "#d8576b"
             ],
             [
              0.6666666666666666,
              "#ed7953"
             ],
             [
              0.7777777777777778,
              "#fb9f3a"
             ],
             [
              0.8888888888888888,
              "#fdca26"
             ],
             [
              1,
              "#f0f921"
             ]
            ],
            "type": "contour"
           }
          ],
          "contourcarpet": [
           {
            "colorbar": {
             "outlinewidth": 0,
             "ticks": ""
            },
            "type": "contourcarpet"
           }
          ],
          "heatmap": [
           {
            "colorbar": {
             "outlinewidth": 0,
             "ticks": ""
            },
            "colorscale": [
             [
              0,
              "#0d0887"
             ],
             [
              0.1111111111111111,
              "#46039f"
             ],
             [
              0.2222222222222222,
              "#7201a8"
             ],
             [
              0.3333333333333333,
              "#9c179e"
             ],
             [
              0.4444444444444444,
              "#bd3786"
             ],
             [
              0.5555555555555556,
              "#d8576b"
             ],
             [
              0.6666666666666666,
              "#ed7953"
             ],
             [
              0.7777777777777778,
              "#fb9f3a"
             ],
             [
              0.8888888888888888,
              "#fdca26"
             ],
             [
              1,
              "#f0f921"
             ]
            ],
            "type": "heatmap"
           }
          ],
          "heatmapgl": [
           {
            "colorbar": {
             "outlinewidth": 0,
             "ticks": ""
            },
            "colorscale": [
             [
              0,
              "#0d0887"
             ],
             [
              0.1111111111111111,
              "#46039f"
             ],
             [
              0.2222222222222222,
              "#7201a8"
             ],
             [
              0.3333333333333333,
              "#9c179e"
             ],
             [
              0.4444444444444444,
              "#bd3786"
             ],
             [
              0.5555555555555556,
              "#d8576b"
             ],
             [
              0.6666666666666666,
              "#ed7953"
             ],
             [
              0.7777777777777778,
              "#fb9f3a"
             ],
             [
              0.8888888888888888,
              "#fdca26"
             ],
             [
              1,
              "#f0f921"
             ]
            ],
            "type": "heatmapgl"
           }
          ],
          "histogram": [
           {
            "marker": {
             "pattern": {
              "fillmode": "overlay",
              "size": 10,
              "solidity": 0.2
             }
            },
            "type": "histogram"
           }
          ],
          "histogram2d": [
           {
            "colorbar": {
             "outlinewidth": 0,
             "ticks": ""
            },
            "colorscale": [
             [
              0,
              "#0d0887"
             ],
             [
              0.1111111111111111,
              "#46039f"
             ],
             [
              0.2222222222222222,
              "#7201a8"
             ],
             [
              0.3333333333333333,
              "#9c179e"
             ],
             [
              0.4444444444444444,
              "#bd3786"
             ],
             [
              0.5555555555555556,
              "#d8576b"
             ],
             [
              0.6666666666666666,
              "#ed7953"
             ],
             [
              0.7777777777777778,
              "#fb9f3a"
             ],
             [
              0.8888888888888888,
              "#fdca26"
             ],
             [
              1,
              "#f0f921"
             ]
            ],
            "type": "histogram2d"
           }
          ],
          "histogram2dcontour": [
           {
            "colorbar": {
             "outlinewidth": 0,
             "ticks": ""
            },
            "colorscale": [
             [
              0,
              "#0d0887"
             ],
             [
              0.1111111111111111,
              "#46039f"
             ],
             [
              0.2222222222222222,
              "#7201a8"
             ],
             [
              0.3333333333333333,
              "#9c179e"
             ],
             [
              0.4444444444444444,
              "#bd3786"
             ],
             [
              0.5555555555555556,
              "#d8576b"
             ],
             [
              0.6666666666666666,
              "#ed7953"
             ],
             [
              0.7777777777777778,
              "#fb9f3a"
             ],
             [
              0.8888888888888888,
              "#fdca26"
             ],
             [
              1,
              "#f0f921"
             ]
            ],
            "type": "histogram2dcontour"
           }
          ],
          "mesh3d": [
           {
            "colorbar": {
             "outlinewidth": 0,
             "ticks": ""
            },
            "type": "mesh3d"
           }
          ],
          "parcoords": [
           {
            "line": {
             "colorbar": {
              "outlinewidth": 0,
              "ticks": ""
             }
            },
            "type": "parcoords"
           }
          ],
          "pie": [
           {
            "automargin": true,
            "type": "pie"
           }
          ],
          "scatter": [
           {
            "fillpattern": {
             "fillmode": "overlay",
             "size": 10,
             "solidity": 0.2
            },
            "type": "scatter"
           }
          ],
          "scatter3d": [
           {
            "line": {
             "colorbar": {
              "outlinewidth": 0,
              "ticks": ""
             }
            },
            "marker": {
             "colorbar": {
              "outlinewidth": 0,
              "ticks": ""
             }
            },
            "type": "scatter3d"
           }
          ],
          "scattercarpet": [
           {
            "marker": {
             "colorbar": {
              "outlinewidth": 0,
              "ticks": ""
             }
            },
            "type": "scattercarpet"
           }
          ],
          "scattergeo": [
           {
            "marker": {
             "colorbar": {
              "outlinewidth": 0,
              "ticks": ""
             }
            },
            "type": "scattergeo"
           }
          ],
          "scattergl": [
           {
            "marker": {
             "colorbar": {
              "outlinewidth": 0,
              "ticks": ""
             }
            },
            "type": "scattergl"
           }
          ],
          "scattermapbox": [
           {
            "marker": {
             "colorbar": {
              "outlinewidth": 0,
              "ticks": ""
             }
            },
            "type": "scattermapbox"
           }
          ],
          "scatterpolar": [
           {
            "marker": {
             "colorbar": {
              "outlinewidth": 0,
              "ticks": ""
             }
            },
            "type": "scatterpolar"
           }
          ],
          "scatterpolargl": [
           {
            "marker": {
             "colorbar": {
              "outlinewidth": 0,
              "ticks": ""
             }
            },
            "type": "scatterpolargl"
           }
          ],
          "scatterternary": [
           {
            "marker": {
             "colorbar": {
              "outlinewidth": 0,
              "ticks": ""
             }
            },
            "type": "scatterternary"
           }
          ],
          "surface": [
           {
            "colorbar": {
             "outlinewidth": 0,
             "ticks": ""
            },
            "colorscale": [
             [
              0,
              "#0d0887"
             ],
             [
              0.1111111111111111,
              "#46039f"
             ],
             [
              0.2222222222222222,
              "#7201a8"
             ],
             [
              0.3333333333333333,
              "#9c179e"
             ],
             [
              0.4444444444444444,
              "#bd3786"
             ],
             [
              0.5555555555555556,
              "#d8576b"
             ],
             [
              0.6666666666666666,
              "#ed7953"
             ],
             [
              0.7777777777777778,
              "#fb9f3a"
             ],
             [
              0.8888888888888888,
              "#fdca26"
             ],
             [
              1,
              "#f0f921"
             ]
            ],
            "type": "surface"
           }
          ],
          "table": [
           {
            "cells": {
             "fill": {
              "color": "#EBF0F8"
             },
             "line": {
              "color": "white"
             }
            },
            "header": {
             "fill": {
              "color": "#C8D4E3"
             },
             "line": {
              "color": "white"
             }
            },
            "type": "table"
           }
          ]
         },
         "layout": {
          "annotationdefaults": {
           "arrowcolor": "#2a3f5f",
           "arrowhead": 0,
           "arrowwidth": 1
          },
          "autotypenumbers": "strict",
          "coloraxis": {
           "colorbar": {
            "outlinewidth": 0,
            "ticks": ""
           }
          },
          "colorscale": {
           "diverging": [
            [
             0,
             "#8e0152"
            ],
            [
             0.1,
             "#c51b7d"
            ],
            [
             0.2,
             "#de77ae"
            ],
            [
             0.3,
             "#f1b6da"
            ],
            [
             0.4,
             "#fde0ef"
            ],
            [
             0.5,
             "#f7f7f7"
            ],
            [
             0.6,
             "#e6f5d0"
            ],
            [
             0.7,
             "#b8e186"
            ],
            [
             0.8,
             "#7fbc41"
            ],
            [
             0.9,
             "#4d9221"
            ],
            [
             1,
             "#276419"
            ]
           ],
           "sequential": [
            [
             0,
             "#0d0887"
            ],
            [
             0.1111111111111111,
             "#46039f"
            ],
            [
             0.2222222222222222,
             "#7201a8"
            ],
            [
             0.3333333333333333,
             "#9c179e"
            ],
            [
             0.4444444444444444,
             "#bd3786"
            ],
            [
             0.5555555555555556,
             "#d8576b"
            ],
            [
             0.6666666666666666,
             "#ed7953"
            ],
            [
             0.7777777777777778,
             "#fb9f3a"
            ],
            [
             0.8888888888888888,
             "#fdca26"
            ],
            [
             1,
             "#f0f921"
            ]
           ],
           "sequentialminus": [
            [
             0,
             "#0d0887"
            ],
            [
             0.1111111111111111,
             "#46039f"
            ],
            [
             0.2222222222222222,
             "#7201a8"
            ],
            [
             0.3333333333333333,
             "#9c179e"
            ],
            [
             0.4444444444444444,
             "#bd3786"
            ],
            [
             0.5555555555555556,
             "#d8576b"
            ],
            [
             0.6666666666666666,
             "#ed7953"
            ],
            [
             0.7777777777777778,
             "#fb9f3a"
            ],
            [
             0.8888888888888888,
             "#fdca26"
            ],
            [
             1,
             "#f0f921"
            ]
           ]
          },
          "colorway": [
           "#636efa",
           "#EF553B",
           "#00cc96",
           "#ab63fa",
           "#FFA15A",
           "#19d3f3",
           "#FF6692",
           "#B6E880",
           "#FF97FF",
           "#FECB52"
          ],
          "font": {
           "color": "#2a3f5f"
          },
          "geo": {
           "bgcolor": "white",
           "lakecolor": "white",
           "landcolor": "#E5ECF6",
           "showlakes": true,
           "showland": true,
           "subunitcolor": "white"
          },
          "hoverlabel": {
           "align": "left"
          },
          "hovermode": "closest",
          "mapbox": {
           "style": "light"
          },
          "paper_bgcolor": "white",
          "plot_bgcolor": "#E5ECF6",
          "polar": {
           "angularaxis": {
            "gridcolor": "white",
            "linecolor": "white",
            "ticks": ""
           },
           "bgcolor": "#E5ECF6",
           "radialaxis": {
            "gridcolor": "white",
            "linecolor": "white",
            "ticks": ""
           }
          },
          "scene": {
           "xaxis": {
            "backgroundcolor": "#E5ECF6",
            "gridcolor": "white",
            "gridwidth": 2,
            "linecolor": "white",
            "showbackground": true,
            "ticks": "",
            "zerolinecolor": "white"
           },
           "yaxis": {
            "backgroundcolor": "#E5ECF6",
            "gridcolor": "white",
            "gridwidth": 2,
            "linecolor": "white",
            "showbackground": true,
            "ticks": "",
            "zerolinecolor": "white"
           },
           "zaxis": {
            "backgroundcolor": "#E5ECF6",
            "gridcolor": "white",
            "gridwidth": 2,
            "linecolor": "white",
            "showbackground": true,
            "ticks": "",
            "zerolinecolor": "white"
           }
          },
          "shapedefaults": {
           "line": {
            "color": "#2a3f5f"
           }
          },
          "ternary": {
           "aaxis": {
            "gridcolor": "white",
            "linecolor": "white",
            "ticks": ""
           },
           "baxis": {
            "gridcolor": "white",
            "linecolor": "white",
            "ticks": ""
           },
           "bgcolor": "#E5ECF6",
           "caxis": {
            "gridcolor": "white",
            "linecolor": "white",
            "ticks": ""
           }
          },
          "title": {
           "x": 0.05
          },
          "xaxis": {
           "automargin": true,
           "gridcolor": "white",
           "linecolor": "white",
           "ticks": "",
           "title": {
            "standoff": 15
           },
           "zerolinecolor": "white",
           "zerolinewidth": 2
          },
          "yaxis": {
           "automargin": true,
           "gridcolor": "white",
           "linecolor": "white",
           "ticks": "",
           "title": {
            "standoff": 15
           },
           "zerolinecolor": "white",
           "zerolinewidth": 2
          }
         }
        }
       }
      }
     },
     "metadata": {},
     "output_type": "display_data"
    }
   ],
   "source": [
    "#TEST and view on map\n",
    "user_km = 10\n",
    "\n",
    "degree = user_km/111\n",
    "\n",
    "#39.06768799, 16.34765053\n",
    "degree\n",
    "test = get_rnd_point_on_circle_and_print_map(math.radians(39.06768799),math.radians(16.34765053), math.radians(degree), 100)\n"
   ]
  },
  {
   "cell_type": "code",
   "execution_count": null,
   "metadata": {},
   "outputs": [],
   "source": [
    "\n"
   ]
  },
  {
   "cell_type": "code",
   "execution_count": 56,
   "metadata": {},
   "outputs": [
    {
     "data": {
      "text/plain": [
       "0.9009009009009009"
      ]
     },
     "execution_count": 56,
     "metadata": {},
     "output_type": "execute_result"
    }
   ],
   "source": [
    "user_km = 100\n",
    "\n",
    "degree = user_km/111\n",
    "\n",
    "degree"
   ]
  },
  {
   "cell_type": "code",
   "execution_count": 57,
   "metadata": {},
   "outputs": [],
   "source": [
    "def get_address_by_lat_and_long(api_key_bing, url, lat, lon):\n",
    "    '''return address and postal code near point idenitified by latitude and longitude'''\n",
    "    list_of_results = []\n",
    "    url = f\"{url}{lat},{lon}\"\n",
    "\n",
    "    # Definisco i parametri della richiesta inversa\n",
    "    params = {\n",
    "        \"includeEntityTypes\":  \"Address\",\n",
    "        \"includeNeighborhood\": 1,\n",
    "        \"key\": api_key_bing\n",
    "    }\n",
    "\n",
    "    # Invio la richiesta inversa e ottengo la risposta\n",
    "    response = requests.get(url, params=params)\n",
    "    \n",
    "    # Controllo se la richiesta inversa è andata a buon fine\n",
    "    if response.status_code == 200:\n",
    "        data = None\n",
    "        # Estraggo i dati JSON dalla risposta inversa\n",
    "        try:\n",
    "            data = response.json()\n",
    "        except Exception as err:\n",
    "            print(f'{err=}')\n",
    "        \n",
    "        data_status_code =  data[\"statusCode\"]\n",
    "\n",
    "        # Controllo se ci sono risultati validi\n",
    "        if data_status_code == 200:\n",
    "            \n",
    "            # Estraggo tutti i risultati (i numeri civici)\n",
    "            results = data[\"resourceSets\"][0][\"resources\"]\n",
    "            # Per ogni risultato, estraggo e stampo il numero civico e l'indirizzo completo\n",
    "            for result in results:\n",
    "                indirizzo_e_numero_civico = result[\"address\"][\"addressLine\"]\n",
    "                numero_civico = [int(s) for s in re.findall(r' \\d+', indirizzo_e_numero_civico)]\n",
    "                indirizzo_completo = result[\"address\"][\"formattedAddress\"]\n",
    "                regione = result[\"address\"][\"adminDistrict\"]\n",
    "                provincia = result[\"address\"][\"adminDistrict2\"]\n",
    "                comune = result[\"address\"][\"locality\"]\n",
    "                coordinate = result[\"geocodePoints\"][0][\"coordinates\"]\n",
    "                #print(result)\n",
    " \n",
    "                list_of_results.append( ( regione, provincia, comune, indirizzo_completo, indirizzo_e_numero_civico, numero_civico, coordinate))\n",
    "            \n",
    "        else:\n",
    "            # Stampo un messaggio di errore se non ci sono risultati validi\n",
    "            print(f\"Non sono stati trovati risultati validi, la richiesta alla mappe bing ha risposto con stato={data_status_code}\")\n",
    "    else:\n",
    "        # Stampo un messaggio di errore se la richiesta inversa non è andata a buon fine\n",
    "        print(f\"Errore nella richiesta di recupero indirizzi: {response.status_code}\")\n",
    "\n",
    "    return list_of_results"
   ]
  },
  {
   "cell_type": "code",
   "execution_count": 58,
   "metadata": {},
   "outputs": [],
   "source": [
    "def find_only_address_of_region_and_with_number(api_key_bing,url, points_for_request, region_ref, provinces, towns, address_complete,address_lite, latitudes, longitudes ):    \n",
    "    with IncrementalBar('recupero indirizzi...', max=len(points_for_request)) as p_bar:\n",
    "        for item_lat, item_lng in points_for_request:\n",
    "\n",
    "            response_list = get_address_by_lat_and_long(api_key_bing,url, item_lat,  item_lng)\n",
    "\n",
    "            for ( regione_resp,provincia_resp, comune_resp,  indirizzo_completo_resp, indirizzo_e_numero_civico_resp, numero_civico_resp, coordinate_resp)  in response_list:\n",
    "                if indirizzo_completo_resp and regione_resp == region_ref and len(numero_civico_resp)>0 and numero_civico_resp[0] > 0 :\n",
    "                    provinces.append(provincia_resp)\n",
    "                    towns.append(comune_resp)\n",
    "                    address_complete.append(indirizzo_completo_resp)\n",
    "                    address_lite.append(indirizzo_e_numero_civico_resp)\n",
    "                    latitudes.append(coordinate_resp[0])\n",
    "                    longitudes.append(coordinate_resp[1])\n",
    "\n",
    "            p_bar.next()"
   ]
  },
  {
   "cell_type": "code",
   "execution_count": 59,
   "metadata": {},
   "outputs": [],
   "source": [
    "def recover_address_number_from_region_name ( api_key_bing, url,  region_name, radius = 10, precision=10, num_threads=2 ):\n",
    "    '''retrieve ddress_number from a city name using bing maps api'''\n",
    "\n",
    "    provinces = []\n",
    "    towns = []\n",
    "    address_complete = []\n",
    "    address_lite = []\n",
    "    latitudes = []\n",
    "    longitueds = []\n",
    "\n",
    "    # Definisco i parametri della richiesta\n",
    "    params = {\n",
    "        \"adminDistrict\": region_name,\n",
    "        \"key\": api_key_bing\n",
    "    }\n",
    "\n",
    "    # Invio la richiesta e ottengo la risposta\n",
    "    response = requests.get(url, params=params)\n",
    "\n",
    "    # Controllo se la richiesta è andata a buon fine\n",
    "    if response.status_code == 200:\n",
    "        # Estraggo i dati JSON dalla risposta\n",
    "        data = response.json()\n",
    "\n",
    "        # Controllo se ci sono risultati validi\n",
    "        if data[\"statusCode\"] == 200:\n",
    "            \n",
    "            # Estraggo il primo risultato (il più rilevante)\n",
    "            result = data[\"resourceSets\"][0][\"resources\"][0]\n",
    "\n",
    "            # Estraggo le coordinate geografiche del comune\n",
    "            lat = result[\"point\"][\"coordinates\"][0]\n",
    "            lng = result[\"point\"][\"coordinates\"][1]\n",
    "\n",
    "            # Stampo le coordinate geografiche della regione\n",
    "            print(f\"Le coordinate geografiche di riferimento usate per {region_name} sono: {lat}, {lng}\")\n",
    "            points = []\n",
    "            #recupero il admmin_district_ref della regione per filtare successivamente eventuali punti di altri regioni\n",
    "            (regione, _,  _,  _, _, _, _ ) = get_address_by_lat_and_long(api_key_bing,url, lat, lng)[0]\n",
    "\n",
    "            if regione:\n",
    "\n",
    "                points = get_rnd_point_on_circle_and_print_map(math.radians(lat), math.radians(lng), math.radians(radius), precision)\n",
    "\n",
    "               # find_only_address_of_region_and_with_number(api_key_bing,url, points, regione, provinces, towns, address_complete,address_lite, latitudes, longitueds )\n",
    "\n",
    "\n",
    "                diveded_points = list(more_itertools.chunked(points, len(points) // num_threads))\n",
    "                print(diveded_points)\n",
    "                print(len(diveded_points))\n",
    "\n",
    "                threads = list()\n",
    "\n",
    "                for sub_points in diveded_points: \n",
    "                    t = threading.Thread(target=find_only_address_of_region_and_with_number,args=(api_key_bing,url, sub_points, regione, provinces, towns, address_complete,address_lite, latitudes, longitueds ))\n",
    "                    threads.append(t)\n",
    "                    t.start()\n",
    "                \n",
    "                for t in threads:\n",
    "                    t.join()\n",
    "\n",
    "            else:\n",
    "                print(f\"Fallito recupero informazioni in {region_name}\")\n",
    "                \n",
    "        else:\n",
    "            # Stampo un messaggio di errore se non ci sono risultati validi\n",
    "            print(f\"Nessun risultato trovato in {region_name}\")\n",
    "    else:\n",
    "        # Stampo un messaggio di errore se la richiesta non è andata a buon fine\n",
    "        print(f\"Errore nella richiesta: {response.status_code}\")\n",
    "\n",
    "        \n",
    "    df_address_region = pd.DataFrame()\n",
    "    df_address_region['Provincia'] = provinces\n",
    "    df_address_region['Comune'] = towns\n",
    "    df_address_region['Indirizzo completo'] = address_complete\n",
    "    df_address_region['Indirizzo'] = address_lite\n",
    "    df_address_region['latitudine'] = latitudes\n",
    "    df_address_region['longitudine'] = longitueds\n",
    "\n",
    "    #df_address_region.drop_duplicates(inplace=True)\n",
    "\n",
    "                            # Stampo il numero dei risultati trovati\n",
    "    if len(address_complete)> 0:\n",
    "        print(f\"Trovati {len(address_complete)} numeri civici all'interno di un cerchio di raggio {radius} gradi con centro {region_name} ({lat}, {lng})\")\n",
    "\n",
    "    \n",
    "\n",
    "    return df_address_region\n"
   ]
  },
  {
   "cell_type": "code",
   "execution_count": 60,
   "metadata": {},
   "outputs": [
    {
     "name": "stdout",
     "output_type": "stream",
     "text": [
      "Le coordinate geografiche di riferimento usate per Calabria sono: 39.06768799, 16.34765053\n"
     ]
    },
    {
     "data": {
      "application/vnd.plotly.v1+json": {
       "config": {
        "plotlyServerURL": "https://plot.ly"
       },
       "data": [
        {
         "hovertemplate": "lat=%{lat}<br>lon=%{lon}<extra></extra>",
         "lat": [
          39.167687990000005,
          39.16749038295821,
          39.166898345021075,
          39.16591422260938,
          39.164541915958765,
          39.162786863467176,
          39.16065601987407,
          39.15815782836277,
          39.15530218670354,
          39.152100407579475,
          39.148565173261645,
          39.144710484823165,
          39.14055160610441,
          39.136105002662994,
          39.13138827596223,
          39.12642009307118,
          39.121220112167016,
          39.11580890414657,
          39.11020787066959,
          39.10443915896915,
          39.0985255737768,
          39.092490486720926,
          39.086357743564974,
          39.08015156965989,
          39.07389647399099,
          39.067617152202864,
          39.06133838898927,
          39.055084960235,
          39.04888153529679,
          39.042752579807704,
          39.03672225938569,
          39.030814344622414,
          39.0250521177212,
          39.019458281145454,
          39.01405486862976,
          39.008863158894954,
          39.00390359239727,
          38.99919569142867,
          38.99475798387142,
          38.99060793089543,
          38.98676185887081,
          38.983234895751465,
          38.980040912168086,
          38.97719246745057,
          38.974700760780976,
          38.97257558765876,
          38.97082530183952,
          38.96945678288856,
          38.968475409468766,
          38.96788503846193,
          38.967687989999995,
          38.96788503846193,
          38.968475409468766,
          38.96945678288856,
          38.97082530183952,
          38.97257558765876,
          38.974700760780976,
          38.97719246745057,
          38.980040912168086,
          38.983234895751465,
          38.98676185887081,
          38.99060793089543,
          38.99475798387142,
          38.99919569142867,
          39.00390359239727,
          39.008863158894954,
          39.01405486862976,
          39.019458281145454,
          39.0250521177212,
          39.030814344622414,
          39.03672225938569,
          39.042752579807704,
          39.04888153529679,
          39.055084960235,
          39.06133838898927,
          39.067617152202864,
          39.07389647399099,
          39.08015156965989,
          39.086357743564974,
          39.092490486720926,
          39.0985255737768,
          39.10443915896915,
          39.11020787066959,
          39.11580890414657,
          39.121220112167016,
          39.12642009307118,
          39.13138827596223,
          39.136105002662994,
          39.14055160610441,
          39.144710484823165,
          39.148565173261645,
          39.152100407579475,
          39.15530218670354,
          39.15815782836277,
          39.16065601987407,
          39.162786863467176,
          39.164541915958765,
          39.16591422260938,
          39.166898345021075,
          39.16749038295821,
          39.03878420499193,
          39.146697546627955,
          39.10500183766956,
          39.07362607998841,
          39.08964003704899,
          39.12321670670911,
          39.100659617789475,
          38.97698067227306,
          39.10786059701922,
          39.07369732937248,
          39.00824874051445,
          39.04090210398957,
          39.0603399288259,
          39.064867174162316,
          38.988188636494066,
          39.12886501686575,
          39.00105003688547,
          39.13721911597768,
          39.04990138530078,
          39.1307501483883,
          38.988161781177986,
          39.007270217910914,
          39.08749737405381,
          39.0315823330159,
          39.14533437136815,
          39.111732576504565,
          39.06450776241422,
          39.08876874552289,
          39.02894091737225,
          39.09587428047369,
          39.14299063518275,
          39.034853149633335,
          39.083338145565016,
          39.06950703397421,
          39.08373954909882,
          39.14286404717951,
          39.03028093154497,
          38.99605449217487,
          39.120146291130126,
          39.12371840350758,
          39.12262203273047,
          39.136709816792255,
          39.12483435212211,
          39.065535181820046,
          38.9962618342788,
          39.09624335005984,
          39.097867787478656,
          39.0233924103615,
          39.02806047736032,
          39.14648197238989,
          39.1653027464981,
          39.09138829674424,
          39.07993218912459,
          39.162617660035664,
          39.12317673244544,
          39.01441480395903,
          39.06206899484789,
          39.048697090103914,
          39.10195832457772,
          39.10990195839092,
          38.987286366659106,
          39.01731852920881,
          39.00812143043046,
          39.05730139138415,
          39.02139839711955,
          39.036889126015055,
          38.991636011724786,
          39.109079684031585,
          39.116385137850436,
          39.073504842857844,
          39.00713178029663,
          39.11478969815252,
          39.054693428954536,
          39.12424871696162,
          39.138588737602625,
          38.98030351768058,
          39.01525864629006,
          39.1164266826351,
          39.102461291077276,
          39.130140164897625,
          39.125620693879654,
          39.125869761272156,
          39.033164762483786,
          39.12483524643591,
          39.11237497732218,
          39.0500010843966,
          39.020139852259106,
          39.064392753563396,
          39.116465392312605,
          39.09324006483255,
          39.11280398605566,
          39.04846876338889,
          39.08939939959033,
          39.00099586019379,
          39.022413473299935,
          39.068060609904435,
          39.05490961598157,
          39.063201724764056,
          39.0941647661791,
          39.11123776061836
         ],
         "legendgroup": "",
         "lon": [
          16.34765053,
          16.35574936228883,
          16.36381609627221,
          16.371818762479382,
          16.379725648565998,
          16.387505426522615,
          16.395127278265075,
          16.402561019079922,
          16.409777218408678,
          16.416747317467824,
          16.42344374321699,
          16.429840018205567,
          16.435910865848093,
          16.441632310700683,
          16.446981773334784,
          16.45193815943005,
          16.45648194273543,
          16.460595241575994,
          16.464261888612757,
          16.46746749359344,
          16.470199498863703,
          16.472447227440398,
          16.474201923481047,
          16.47545678501651,
          16.476206988846858,
          16.476449707533106,
          16.476184118450284,
          16.475411404899408,
          16.474134749307662,
          16.472359318577208,
          16.470092241673186,
          16.46734257957115,
          16.464121287712317,
          16.460441171142705,
          16.456316832538338,
          16.451764613343922,
          16.446802528276162,
          16.441450193465634,
          16.435728748532302,
          16.4296607729098,
          16.423270196752213,
          16.416582206774372,
          16.409623147392498,
          16.40242041754669,
          16.395002363599858,
          16.38739816871943,
          16.37963773915889,
          16.371751587865017,
          16.363770715844762,
          16.355726491732046,
          16.34765053,
          16.33957456826795,
          16.331530344155237,
          16.323549472134978,
          16.315663320841104,
          16.307902891280563,
          16.300298696400137,
          16.292880642453305,
          16.2856779126075,
          16.278718853225623,
          16.27203086324778,
          16.265640287090196,
          16.259572311467693,
          16.25385086653436,
          16.248498531723833,
          16.243536446656073,
          16.238984227461657,
          16.234859888857294,
          16.231179772287682,
          16.227958480428846,
          16.22520881832681,
          16.222941741422787,
          16.221166310692333,
          16.21988965510059,
          16.219116941549714,
          16.21885135246689,
          16.219094071153137,
          16.219844274983483,
          16.221099136518948,
          16.222853832559597,
          16.225101561136295,
          16.227833566406556,
          16.23103917138724,
          16.234705818424,
          16.23881911726457,
          16.24336290056995,
          16.24831928666521,
          16.25366874929931,
          16.2593901941519,
          16.265461041794428,
          16.271857316783006,
          16.27855374253217,
          16.28552384159132,
          16.292740040920073,
          16.30017378173492,
          16.30779563347738,
          16.315575411434,
          16.323482297520613,
          16.331484963727785,
          16.339551697711165,
          16.28310343924944,
          16.418693638841667,
          16.39869024710405,
          16.435117130200624,
          16.25048774894427,
          16.387284014375375,
          16.337621056942318,
          16.339961552190317,
          16.34762009915896,
          16.272530741347968,
          16.34984852517346,
          16.409939386854422,
          16.317387167099746,
          16.35975828935306,
          16.3151473660226,
          16.422296201985308,
          16.360208113139997,
          16.412254925930498,
          16.260140307139196,
          16.307859788670708,
          16.34005612058084,
          16.29734632036489,
          16.47320922238105,
          16.43575047131859,
          16.325814651534685,
          16.24618653156664,
          16.228017021485872,
          16.335713540735068,
          16.390153894881685,
          16.45798798961505,
          16.368822939191592,
          16.41534045118598,
          16.32674336140892,
          16.349199552559337,
          16.459494863011336,
          16.4050793078517,
          16.359781525810558,
          16.305820451661546,
          16.303623954708343,
          16.327389859387175,
          16.274228974957808,
          16.369293422946456,
          16.357852258012606,
          16.336239812309806,
          16.277113749084965,
          16.251430785401098,
          16.42454503162356,
          16.454766738048736,
          16.33888582222483,
          16.359568844473436,
          16.346890400414765,
          16.275260029794875,
          16.240848933766934,
          16.311345189481628,
          16.24507452913253,
          16.241542642713924,
          16.371162743398923,
          16.37430830782934,
          16.385140189432967,
          16.452309655263594,
          16.40548871246171,
          16.286112546042112,
          16.397719830305732,
          16.43513236825172,
          16.40849889976684,
          16.25235145756556,
          16.406272094332092,
          16.447650725433455,
          16.4213074722475,
          16.24870791405512,
          16.37514936696015,
          16.37069917093513,
          16.286003688746376,
          16.446457855873053,
          16.303100942935323,
          16.40997355318416,
          16.303326323968747,
          16.418263106521074,
          16.33850419636721,
          16.41286757874241,
          16.38361925311235,
          16.372027380685125,
          16.255917534216774,
          16.296098832879117,
          16.34821638376806,
          16.45490444912946,
          16.380039054345733,
          16.288183489518364,
          16.3036080319295,
          16.4156999917964,
          16.242598467939825,
          16.34447277626739,
          16.424624673159222,
          16.361343661394475,
          16.432564658964036,
          16.298324252679695,
          16.34789822294953,
          16.234811534888724,
          16.452258431681603,
          16.429691843406985
         ],
         "marker": {
          "color": "blue"
         },
         "mode": "markers",
         "name": "",
         "showlegend": false,
         "subplot": "mapbox",
         "type": "scattermapbox"
        }
       ],
       "layout": {
        "height": 500,
        "legend": {
         "tracegroupgap": 0
        },
        "mapbox": {
         "center": {
          "lat": 39.07110554602142,
          "lon": 16.350154167803424
         },
         "domain": {
          "x": [
           0,
           1
          ],
          "y": [
           0,
           1
          ]
         },
         "style": "open-street-map",
         "zoom": 5
        },
        "margin": {
         "t": 60
        },
        "template": {
         "data": {
          "bar": [
           {
            "error_x": {
             "color": "#2a3f5f"
            },
            "error_y": {
             "color": "#2a3f5f"
            },
            "marker": {
             "line": {
              "color": "#E5ECF6",
              "width": 0.5
             },
             "pattern": {
              "fillmode": "overlay",
              "size": 10,
              "solidity": 0.2
             }
            },
            "type": "bar"
           }
          ],
          "barpolar": [
           {
            "marker": {
             "line": {
              "color": "#E5ECF6",
              "width": 0.5
             },
             "pattern": {
              "fillmode": "overlay",
              "size": 10,
              "solidity": 0.2
             }
            },
            "type": "barpolar"
           }
          ],
          "carpet": [
           {
            "aaxis": {
             "endlinecolor": "#2a3f5f",
             "gridcolor": "white",
             "linecolor": "white",
             "minorgridcolor": "white",
             "startlinecolor": "#2a3f5f"
            },
            "baxis": {
             "endlinecolor": "#2a3f5f",
             "gridcolor": "white",
             "linecolor": "white",
             "minorgridcolor": "white",
             "startlinecolor": "#2a3f5f"
            },
            "type": "carpet"
           }
          ],
          "choropleth": [
           {
            "colorbar": {
             "outlinewidth": 0,
             "ticks": ""
            },
            "type": "choropleth"
           }
          ],
          "contour": [
           {
            "colorbar": {
             "outlinewidth": 0,
             "ticks": ""
            },
            "colorscale": [
             [
              0,
              "#0d0887"
             ],
             [
              0.1111111111111111,
              "#46039f"
             ],
             [
              0.2222222222222222,
              "#7201a8"
             ],
             [
              0.3333333333333333,
              "#9c179e"
             ],
             [
              0.4444444444444444,
              "#bd3786"
             ],
             [
              0.5555555555555556,
              "#d8576b"
             ],
             [
              0.6666666666666666,
              "#ed7953"
             ],
             [
              0.7777777777777778,
              "#fb9f3a"
             ],
             [
              0.8888888888888888,
              "#fdca26"
             ],
             [
              1,
              "#f0f921"
             ]
            ],
            "type": "contour"
           }
          ],
          "contourcarpet": [
           {
            "colorbar": {
             "outlinewidth": 0,
             "ticks": ""
            },
            "type": "contourcarpet"
           }
          ],
          "heatmap": [
           {
            "colorbar": {
             "outlinewidth": 0,
             "ticks": ""
            },
            "colorscale": [
             [
              0,
              "#0d0887"
             ],
             [
              0.1111111111111111,
              "#46039f"
             ],
             [
              0.2222222222222222,
              "#7201a8"
             ],
             [
              0.3333333333333333,
              "#9c179e"
             ],
             [
              0.4444444444444444,
              "#bd3786"
             ],
             [
              0.5555555555555556,
              "#d8576b"
             ],
             [
              0.6666666666666666,
              "#ed7953"
             ],
             [
              0.7777777777777778,
              "#fb9f3a"
             ],
             [
              0.8888888888888888,
              "#fdca26"
             ],
             [
              1,
              "#f0f921"
             ]
            ],
            "type": "heatmap"
           }
          ],
          "heatmapgl": [
           {
            "colorbar": {
             "outlinewidth": 0,
             "ticks": ""
            },
            "colorscale": [
             [
              0,
              "#0d0887"
             ],
             [
              0.1111111111111111,
              "#46039f"
             ],
             [
              0.2222222222222222,
              "#7201a8"
             ],
             [
              0.3333333333333333,
              "#9c179e"
             ],
             [
              0.4444444444444444,
              "#bd3786"
             ],
             [
              0.5555555555555556,
              "#d8576b"
             ],
             [
              0.6666666666666666,
              "#ed7953"
             ],
             [
              0.7777777777777778,
              "#fb9f3a"
             ],
             [
              0.8888888888888888,
              "#fdca26"
             ],
             [
              1,
              "#f0f921"
             ]
            ],
            "type": "heatmapgl"
           }
          ],
          "histogram": [
           {
            "marker": {
             "pattern": {
              "fillmode": "overlay",
              "size": 10,
              "solidity": 0.2
             }
            },
            "type": "histogram"
           }
          ],
          "histogram2d": [
           {
            "colorbar": {
             "outlinewidth": 0,
             "ticks": ""
            },
            "colorscale": [
             [
              0,
              "#0d0887"
             ],
             [
              0.1111111111111111,
              "#46039f"
             ],
             [
              0.2222222222222222,
              "#7201a8"
             ],
             [
              0.3333333333333333,
              "#9c179e"
             ],
             [
              0.4444444444444444,
              "#bd3786"
             ],
             [
              0.5555555555555556,
              "#d8576b"
             ],
             [
              0.6666666666666666,
              "#ed7953"
             ],
             [
              0.7777777777777778,
              "#fb9f3a"
             ],
             [
              0.8888888888888888,
              "#fdca26"
             ],
             [
              1,
              "#f0f921"
             ]
            ],
            "type": "histogram2d"
           }
          ],
          "histogram2dcontour": [
           {
            "colorbar": {
             "outlinewidth": 0,
             "ticks": ""
            },
            "colorscale": [
             [
              0,
              "#0d0887"
             ],
             [
              0.1111111111111111,
              "#46039f"
             ],
             [
              0.2222222222222222,
              "#7201a8"
             ],
             [
              0.3333333333333333,
              "#9c179e"
             ],
             [
              0.4444444444444444,
              "#bd3786"
             ],
             [
              0.5555555555555556,
              "#d8576b"
             ],
             [
              0.6666666666666666,
              "#ed7953"
             ],
             [
              0.7777777777777778,
              "#fb9f3a"
             ],
             [
              0.8888888888888888,
              "#fdca26"
             ],
             [
              1,
              "#f0f921"
             ]
            ],
            "type": "histogram2dcontour"
           }
          ],
          "mesh3d": [
           {
            "colorbar": {
             "outlinewidth": 0,
             "ticks": ""
            },
            "type": "mesh3d"
           }
          ],
          "parcoords": [
           {
            "line": {
             "colorbar": {
              "outlinewidth": 0,
              "ticks": ""
             }
            },
            "type": "parcoords"
           }
          ],
          "pie": [
           {
            "automargin": true,
            "type": "pie"
           }
          ],
          "scatter": [
           {
            "fillpattern": {
             "fillmode": "overlay",
             "size": 10,
             "solidity": 0.2
            },
            "type": "scatter"
           }
          ],
          "scatter3d": [
           {
            "line": {
             "colorbar": {
              "outlinewidth": 0,
              "ticks": ""
             }
            },
            "marker": {
             "colorbar": {
              "outlinewidth": 0,
              "ticks": ""
             }
            },
            "type": "scatter3d"
           }
          ],
          "scattercarpet": [
           {
            "marker": {
             "colorbar": {
              "outlinewidth": 0,
              "ticks": ""
             }
            },
            "type": "scattercarpet"
           }
          ],
          "scattergeo": [
           {
            "marker": {
             "colorbar": {
              "outlinewidth": 0,
              "ticks": ""
             }
            },
            "type": "scattergeo"
           }
          ],
          "scattergl": [
           {
            "marker": {
             "colorbar": {
              "outlinewidth": 0,
              "ticks": ""
             }
            },
            "type": "scattergl"
           }
          ],
          "scattermapbox": [
           {
            "marker": {
             "colorbar": {
              "outlinewidth": 0,
              "ticks": ""
             }
            },
            "type": "scattermapbox"
           }
          ],
          "scatterpolar": [
           {
            "marker": {
             "colorbar": {
              "outlinewidth": 0,
              "ticks": ""
             }
            },
            "type": "scatterpolar"
           }
          ],
          "scatterpolargl": [
           {
            "marker": {
             "colorbar": {
              "outlinewidth": 0,
              "ticks": ""
             }
            },
            "type": "scatterpolargl"
           }
          ],
          "scatterternary": [
           {
            "marker": {
             "colorbar": {
              "outlinewidth": 0,
              "ticks": ""
             }
            },
            "type": "scatterternary"
           }
          ],
          "surface": [
           {
            "colorbar": {
             "outlinewidth": 0,
             "ticks": ""
            },
            "colorscale": [
             [
              0,
              "#0d0887"
             ],
             [
              0.1111111111111111,
              "#46039f"
             ],
             [
              0.2222222222222222,
              "#7201a8"
             ],
             [
              0.3333333333333333,
              "#9c179e"
             ],
             [
              0.4444444444444444,
              "#bd3786"
             ],
             [
              0.5555555555555556,
              "#d8576b"
             ],
             [
              0.6666666666666666,
              "#ed7953"
             ],
             [
              0.7777777777777778,
              "#fb9f3a"
             ],
             [
              0.8888888888888888,
              "#fdca26"
             ],
             [
              1,
              "#f0f921"
             ]
            ],
            "type": "surface"
           }
          ],
          "table": [
           {
            "cells": {
             "fill": {
              "color": "#EBF0F8"
             },
             "line": {
              "color": "white"
             }
            },
            "header": {
             "fill": {
              "color": "#C8D4E3"
             },
             "line": {
              "color": "white"
             }
            },
            "type": "table"
           }
          ]
         },
         "layout": {
          "annotationdefaults": {
           "arrowcolor": "#2a3f5f",
           "arrowhead": 0,
           "arrowwidth": 1
          },
          "autotypenumbers": "strict",
          "coloraxis": {
           "colorbar": {
            "outlinewidth": 0,
            "ticks": ""
           }
          },
          "colorscale": {
           "diverging": [
            [
             0,
             "#8e0152"
            ],
            [
             0.1,
             "#c51b7d"
            ],
            [
             0.2,
             "#de77ae"
            ],
            [
             0.3,
             "#f1b6da"
            ],
            [
             0.4,
             "#fde0ef"
            ],
            [
             0.5,
             "#f7f7f7"
            ],
            [
             0.6,
             "#e6f5d0"
            ],
            [
             0.7,
             "#b8e186"
            ],
            [
             0.8,
             "#7fbc41"
            ],
            [
             0.9,
             "#4d9221"
            ],
            [
             1,
             "#276419"
            ]
           ],
           "sequential": [
            [
             0,
             "#0d0887"
            ],
            [
             0.1111111111111111,
             "#46039f"
            ],
            [
             0.2222222222222222,
             "#7201a8"
            ],
            [
             0.3333333333333333,
             "#9c179e"
            ],
            [
             0.4444444444444444,
             "#bd3786"
            ],
            [
             0.5555555555555556,
             "#d8576b"
            ],
            [
             0.6666666666666666,
             "#ed7953"
            ],
            [
             0.7777777777777778,
             "#fb9f3a"
            ],
            [
             0.8888888888888888,
             "#fdca26"
            ],
            [
             1,
             "#f0f921"
            ]
           ],
           "sequentialminus": [
            [
             0,
             "#0d0887"
            ],
            [
             0.1111111111111111,
             "#46039f"
            ],
            [
             0.2222222222222222,
             "#7201a8"
            ],
            [
             0.3333333333333333,
             "#9c179e"
            ],
            [
             0.4444444444444444,
             "#bd3786"
            ],
            [
             0.5555555555555556,
             "#d8576b"
            ],
            [
             0.6666666666666666,
             "#ed7953"
            ],
            [
             0.7777777777777778,
             "#fb9f3a"
            ],
            [
             0.8888888888888888,
             "#fdca26"
            ],
            [
             1,
             "#f0f921"
            ]
           ]
          },
          "colorway": [
           "#636efa",
           "#EF553B",
           "#00cc96",
           "#ab63fa",
           "#FFA15A",
           "#19d3f3",
           "#FF6692",
           "#B6E880",
           "#FF97FF",
           "#FECB52"
          ],
          "font": {
           "color": "#2a3f5f"
          },
          "geo": {
           "bgcolor": "white",
           "lakecolor": "white",
           "landcolor": "#E5ECF6",
           "showlakes": true,
           "showland": true,
           "subunitcolor": "white"
          },
          "hoverlabel": {
           "align": "left"
          },
          "hovermode": "closest",
          "mapbox": {
           "style": "light"
          },
          "paper_bgcolor": "white",
          "plot_bgcolor": "#E5ECF6",
          "polar": {
           "angularaxis": {
            "gridcolor": "white",
            "linecolor": "white",
            "ticks": ""
           },
           "bgcolor": "#E5ECF6",
           "radialaxis": {
            "gridcolor": "white",
            "linecolor": "white",
            "ticks": ""
           }
          },
          "scene": {
           "xaxis": {
            "backgroundcolor": "#E5ECF6",
            "gridcolor": "white",
            "gridwidth": 2,
            "linecolor": "white",
            "showbackground": true,
            "ticks": "",
            "zerolinecolor": "white"
           },
           "yaxis": {
            "backgroundcolor": "#E5ECF6",
            "gridcolor": "white",
            "gridwidth": 2,
            "linecolor": "white",
            "showbackground": true,
            "ticks": "",
            "zerolinecolor": "white"
           },
           "zaxis": {
            "backgroundcolor": "#E5ECF6",
            "gridcolor": "white",
            "gridwidth": 2,
            "linecolor": "white",
            "showbackground": true,
            "ticks": "",
            "zerolinecolor": "white"
           }
          },
          "shapedefaults": {
           "line": {
            "color": "#2a3f5f"
           }
          },
          "ternary": {
           "aaxis": {
            "gridcolor": "white",
            "linecolor": "white",
            "ticks": ""
           },
           "baxis": {
            "gridcolor": "white",
            "linecolor": "white",
            "ticks": ""
           },
           "bgcolor": "#E5ECF6",
           "caxis": {
            "gridcolor": "white",
            "linecolor": "white",
            "ticks": ""
           }
          },
          "title": {
           "x": 0.05
          },
          "xaxis": {
           "automargin": true,
           "gridcolor": "white",
           "linecolor": "white",
           "ticks": "",
           "title": {
            "standoff": 15
           },
           "zerolinecolor": "white",
           "zerolinewidth": 2
          },
          "yaxis": {
           "automargin": true,
           "gridcolor": "white",
           "linecolor": "white",
           "ticks": "",
           "title": {
            "standoff": 15
           },
           "zerolinecolor": "white",
           "zerolinewidth": 2
          }
         }
        }
       }
      }
     },
     "metadata": {},
     "output_type": "display_data"
    },
    {
     "name": "stdout",
     "output_type": "stream",
     "text": [
      "[[(39.167687990000005, 16.34765053), (39.16749038295821, 16.35574936228883), (39.166898345021075, 16.36381609627221), (39.16591422260938, 16.371818762479382), (39.164541915958765, 16.379725648565998), (39.162786863467176, 16.387505426522615), (39.16065601987407, 16.395127278265075), (39.15815782836277, 16.402561019079922), (39.15530218670354, 16.409777218408678), (39.152100407579475, 16.416747317467824), (39.148565173261645, 16.42344374321699), (39.144710484823165, 16.429840018205567), (39.14055160610441, 16.435910865848093), (39.136105002662994, 16.441632310700683), (39.13138827596223, 16.446981773334784), (39.12642009307118, 16.45193815943005), (39.121220112167016, 16.45648194273543), (39.11580890414657, 16.460595241575994), (39.11020787066959, 16.464261888612757), (39.10443915896915, 16.46746749359344), (39.0985255737768, 16.470199498863703), (39.092490486720926, 16.472447227440398), (39.086357743564974, 16.474201923481047), (39.08015156965989, 16.47545678501651), (39.07389647399099, 16.476206988846858), (39.067617152202864, 16.476449707533106), (39.06133838898927, 16.476184118450284), (39.055084960235, 16.475411404899408), (39.04888153529679, 16.474134749307662), (39.042752579807704, 16.472359318577208), (39.03672225938569, 16.470092241673186), (39.030814344622414, 16.46734257957115), (39.0250521177212, 16.464121287712317), (39.019458281145454, 16.460441171142705), (39.01405486862976, 16.456316832538338), (39.008863158894954, 16.451764613343922), (39.00390359239727, 16.446802528276162), (38.99919569142867, 16.441450193465634), (38.99475798387142, 16.435728748532302), (38.99060793089543, 16.4296607729098), (38.98676185887081, 16.423270196752213), (38.983234895751465, 16.416582206774372), (38.980040912168086, 16.409623147392498), (38.97719246745057, 16.40242041754669), (38.974700760780976, 16.395002363599858), (38.97257558765876, 16.38739816871943), (38.97082530183952, 16.37963773915889), (38.96945678288856, 16.371751587865017), (38.968475409468766, 16.363770715844762), (38.96788503846193, 16.355726491732046)], [(38.967687989999995, 16.34765053), (38.96788503846193, 16.33957456826795), (38.968475409468766, 16.331530344155237), (38.96945678288856, 16.323549472134978), (38.97082530183952, 16.315663320841104), (38.97257558765876, 16.307902891280563), (38.974700760780976, 16.300298696400137), (38.97719246745057, 16.292880642453305), (38.980040912168086, 16.2856779126075), (38.983234895751465, 16.278718853225623), (38.98676185887081, 16.27203086324778), (38.99060793089543, 16.265640287090196), (38.99475798387142, 16.259572311467693), (38.99919569142867, 16.25385086653436), (39.00390359239727, 16.248498531723833), (39.008863158894954, 16.243536446656073), (39.01405486862976, 16.238984227461657), (39.019458281145454, 16.234859888857294), (39.0250521177212, 16.231179772287682), (39.030814344622414, 16.227958480428846), (39.03672225938569, 16.22520881832681), (39.042752579807704, 16.222941741422787), (39.04888153529679, 16.221166310692333), (39.055084960235, 16.21988965510059), (39.06133838898927, 16.219116941549714), (39.067617152202864, 16.21885135246689), (39.07389647399099, 16.219094071153137), (39.08015156965989, 16.219844274983483), (39.086357743564974, 16.221099136518948), (39.092490486720926, 16.222853832559597), (39.0985255737768, 16.225101561136295), (39.10443915896915, 16.227833566406556), (39.11020787066959, 16.23103917138724), (39.11580890414657, 16.234705818424), (39.121220112167016, 16.23881911726457), (39.12642009307118, 16.24336290056995), (39.13138827596223, 16.24831928666521), (39.136105002662994, 16.25366874929931), (39.14055160610441, 16.2593901941519), (39.144710484823165, 16.265461041794428), (39.148565173261645, 16.271857316783006), (39.152100407579475, 16.27855374253217), (39.15530218670354, 16.28552384159132), (39.15815782836277, 16.292740040920073), (39.16065601987407, 16.30017378173492), (39.162786863467176, 16.30779563347738), (39.164541915958765, 16.315575411434), (39.16591422260938, 16.323482297520613), (39.166898345021075, 16.331484963727785), (39.16749038295821, 16.339551697711165)], [(39.03878420499193, 16.28310343924944), (39.146697546627955, 16.418693638841667), (39.10500183766956, 16.39869024710405), (39.07362607998841, 16.435117130200624), (39.08964003704899, 16.25048774894427), (39.12321670670911, 16.387284014375375), (39.100659617789475, 16.337621056942318), (38.97698067227306, 16.339961552190317), (39.10786059701922, 16.34762009915896), (39.07369732937248, 16.272530741347968), (39.00824874051445, 16.34984852517346), (39.04090210398957, 16.409939386854422), (39.0603399288259, 16.317387167099746), (39.064867174162316, 16.35975828935306), (38.988188636494066, 16.3151473660226), (39.12886501686575, 16.422296201985308), (39.00105003688547, 16.360208113139997), (39.13721911597768, 16.412254925930498), (39.04990138530078, 16.260140307139196), (39.1307501483883, 16.307859788670708), (38.988161781177986, 16.34005612058084), (39.007270217910914, 16.29734632036489), (39.08749737405381, 16.47320922238105), (39.0315823330159, 16.43575047131859), (39.14533437136815, 16.325814651534685), (39.111732576504565, 16.24618653156664), (39.06450776241422, 16.228017021485872), (39.08876874552289, 16.335713540735068), (39.02894091737225, 16.390153894881685), (39.09587428047369, 16.45798798961505), (39.14299063518275, 16.368822939191592), (39.034853149633335, 16.41534045118598), (39.083338145565016, 16.32674336140892), (39.06950703397421, 16.349199552559337), (39.08373954909882, 16.459494863011336), (39.14286404717951, 16.4050793078517), (39.03028093154497, 16.359781525810558), (38.99605449217487, 16.305820451661546), (39.120146291130126, 16.303623954708343), (39.12371840350758, 16.327389859387175), (39.12262203273047, 16.274228974957808), (39.136709816792255, 16.369293422946456), (39.12483435212211, 16.357852258012606), (39.065535181820046, 16.336239812309806), (38.9962618342788, 16.277113749084965), (39.09624335005984, 16.251430785401098), (39.097867787478656, 16.42454503162356), (39.0233924103615, 16.454766738048736), (39.02806047736032, 16.33888582222483), (39.14648197238989, 16.359568844473436)], [(39.1653027464981, 16.346890400414765), (39.09138829674424, 16.275260029794875), (39.07993218912459, 16.240848933766934), (39.162617660035664, 16.311345189481628), (39.12317673244544, 16.24507452913253), (39.01441480395903, 16.241542642713924), (39.06206899484789, 16.371162743398923), (39.048697090103914, 16.37430830782934), (39.10195832457772, 16.385140189432967), (39.10990195839092, 16.452309655263594), (38.987286366659106, 16.40548871246171), (39.01731852920881, 16.286112546042112), (39.00812143043046, 16.397719830305732), (39.05730139138415, 16.43513236825172), (39.02139839711955, 16.40849889976684), (39.036889126015055, 16.25235145756556), (38.991636011724786, 16.406272094332092), (39.109079684031585, 16.447650725433455), (39.116385137850436, 16.4213074722475), (39.073504842857844, 16.24870791405512), (39.00713178029663, 16.37514936696015), (39.11478969815252, 16.37069917093513), (39.054693428954536, 16.286003688746376), (39.12424871696162, 16.446457855873053), (39.138588737602625, 16.303100942935323), (38.98030351768058, 16.40997355318416), (39.01525864629006, 16.303326323968747), (39.1164266826351, 16.418263106521074), (39.102461291077276, 16.33850419636721), (39.130140164897625, 16.41286757874241), (39.125620693879654, 16.38361925311235), (39.125869761272156, 16.372027380685125), (39.033164762483786, 16.255917534216774), (39.12483524643591, 16.296098832879117), (39.11237497732218, 16.34821638376806), (39.0500010843966, 16.45490444912946), (39.020139852259106, 16.380039054345733), (39.064392753563396, 16.288183489518364), (39.116465392312605, 16.3036080319295), (39.09324006483255, 16.4156999917964), (39.11280398605566, 16.242598467939825), (39.04846876338889, 16.34447277626739), (39.08939939959033, 16.424624673159222), (39.00099586019379, 16.361343661394475), (39.022413473299935, 16.432564658964036), (39.068060609904435, 16.298324252679695), (39.05490961598157, 16.34789822294953), (39.063201724764056, 16.234811534888724), (39.0941647661791, 16.452258431681603), (39.11123776061836, 16.429691843406985)]]\n",
      "4\n",
      "Errore nella richiesta di recupero indirizzi: 429\n",
      "Errore nella richiesta di recupero indirizzi: 429\n",
      "Errore nella richiesta di recupero indirizzi: 429\n",
      "Errore nella richiesta di recupero indirizzi: 429\n",
      "Errore nella richiesta di recupero indirizzi: 429\n",
      "Errore nella richiesta di recupero indirizzi: 429\n",
      "Errore nella richiesta di recupero indirizzi: 429\n",
      "Errore nella richiesta di recupero indirizzi: 429\n",
      "Errore nella richiesta di recupero indirizzi: 429\n",
      "Errore nella richiesta di recupero indirizzi: 429\n",
      "Errore nella richiesta di recupero indirizzi: 429\n",
      "Errore nella richiesta di recupero indirizzi: 429\n",
      "Errore nella richiesta di recupero indirizzi: 429\n",
      "Errore nella richiesta di recupero indirizzi: 429\n",
      "Errore nella richiesta di recupero indirizzi: 429\n",
      "Errore nella richiesta di recupero indirizzi: 429\n",
      "Errore nella richiesta di recupero indirizzi: 429\n",
      "Errore nella richiesta di recupero indirizzi: 429\n",
      "Errore nella richiesta di recupero indirizzi: 429\n",
      "Errore nella richiesta di recupero indirizzi: 429\n",
      "Errore nella richiesta di recupero indirizzi: 429\n",
      "Errore nella richiesta di recupero indirizzi: 429\n",
      "Errore nella richiesta di recupero indirizzi: 429\n",
      "Errore nella richiesta di recupero indirizzi: 429\n",
      "Errore nella richiesta di recupero indirizzi: 429\n",
      "Errore nella richiesta di recupero indirizzi: 429\n",
      "Errore nella richiesta di recupero indirizzi: 429\n",
      "Errore nella richiesta di recupero indirizzi: 429\n",
      "Errore nella richiesta di recupero indirizzi: 429\n",
      "Errore nella richiesta di recupero indirizzi: 429\n",
      "Errore nella richiesta di recupero indirizzi: 429\n",
      "Errore nella richiesta di recupero indirizzi: 429\n",
      "Errore nella richiesta di recupero indirizzi: 429\n",
      "Errore nella richiesta di recupero indirizzi: 429\n",
      "Errore nella richiesta di recupero indirizzi: 429\n",
      "Errore nella richiesta di recupero indirizzi: 429\n",
      "Errore nella richiesta di recupero indirizzi: 429\n",
      "Errore nella richiesta di recupero indirizzi: 429\n",
      "Errore nella richiesta di recupero indirizzi: 429\n",
      "Errore nella richiesta di recupero indirizzi: 429\n",
      "Errore nella richiesta di recupero indirizzi: 429\n",
      "Errore nella richiesta di recupero indirizzi: 429\n",
      "Errore nella richiesta di recupero indirizzi: 429\n",
      "Errore nella richiesta di recupero indirizzi: 429\n",
      "Errore nella richiesta di recupero indirizzi: 429\n",
      "Errore nella richiesta di recupero indirizzi: 429\n",
      "Errore nella richiesta di recupero indirizzi: 429\n",
      "Errore nella richiesta di recupero indirizzi: 429\n",
      "Errore nella richiesta di recupero indirizzi: 429\n",
      "Errore nella richiesta di recupero indirizzi: 429\n",
      "Errore nella richiesta di recupero indirizzi: 429\n",
      "Errore nella richiesta di recupero indirizzi: 429Errore nella richiesta di recupero indirizzi: 429\n",
      "\n",
      "Errore nella richiesta di recupero indirizzi: 429\n",
      "Errore nella richiesta di recupero indirizzi: 429\n",
      "Errore nella richiesta di recupero indirizzi: 429\n",
      "Errore nella richiesta di recupero indirizzi: 429\n",
      "Errore nella richiesta di recupero indirizzi: 429\n",
      "Errore nella richiesta di recupero indirizzi: 429\n",
      "Errore nella richiesta di recupero indirizzi: 429\n",
      "Errore nella richiesta di recupero indirizzi: 429\n",
      "Errore nella richiesta di recupero indirizzi: 429\n",
      "Errore nella richiesta di recupero indirizzi: 429\n",
      "Errore nella richiesta di recupero indirizzi: 429\n",
      "Errore nella richiesta di recupero indirizzi: 429\n",
      "Errore nella richiesta di recupero indirizzi: 429\n",
      "Errore nella richiesta di recupero indirizzi: 429\n",
      "Errore nella richiesta di recupero indirizzi: 429\n",
      "Errore nella richiesta di recupero indirizzi: 429\n",
      "Errore nella richiesta di recupero indirizzi: 429\n",
      "Errore nella richiesta di recupero indirizzi: 429\n",
      "Errore nella richiesta di recupero indirizzi: 429\n",
      "Errore nella richiesta di recupero indirizzi: 429\n",
      "Errore nella richiesta di recupero indirizzi: 429\n",
      "Errore nella richiesta di recupero indirizzi: 429\n",
      "Errore nella richiesta di recupero indirizzi: 429\n",
      "Errore nella richiesta di recupero indirizzi: 429\n",
      "Errore nella richiesta di recupero indirizzi: 429\n",
      "Errore nella richiesta di recupero indirizzi: 429\n",
      "Errore nella richiesta di recupero indirizzi: 429\n",
      "Errore nella richiesta di recupero indirizzi: 429\n",
      "Errore nella richiesta di recupero indirizzi: 429\n",
      "Errore nella richiesta di recupero indirizzi: 429\n",
      "Errore nella richiesta di recupero indirizzi: 429\n",
      "Trovati 39 numeri civici all'interno di un cerchio di raggio 0.1 gradi con centro Calabria (39.06768799, 16.34765053)\n"
     ]
    }
   ],
   "source": [
    "df_region = recover_address_number_from_region_name(api_key,base_bing_url, region, dimension_searc_area, search_precision, num_threads)"
   ]
  },
  {
   "cell_type": "code",
   "execution_count": 33,
   "metadata": {},
   "outputs": [
    {
     "data": {
      "text/html": [
       "<div>\n",
       "<style scoped>\n",
       "    .dataframe tbody tr th:only-of-type {\n",
       "        vertical-align: middle;\n",
       "    }\n",
       "\n",
       "    .dataframe tbody tr th {\n",
       "        vertical-align: top;\n",
       "    }\n",
       "\n",
       "    .dataframe thead th {\n",
       "        text-align: right;\n",
       "    }\n",
       "</style>\n",
       "<table border=\"1\" class=\"dataframe\">\n",
       "  <thead>\n",
       "    <tr style=\"text-align: right;\">\n",
       "      <th></th>\n",
       "      <th>Provincia</th>\n",
       "      <th>Comune</th>\n",
       "      <th>Indirizzo completo</th>\n",
       "      <th>Indirizzo</th>\n",
       "      <th>latitudine</th>\n",
       "      <th>longitudine</th>\n",
       "    </tr>\n",
       "  </thead>\n",
       "  <tbody>\n",
       "    <tr>\n",
       "      <th>0</th>\n",
       "      <td>Cosenza</td>\n",
       "      <td>Rogliano</td>\n",
       "      <td>Contrada Cortivetere 20, 87054 Rogliano Cosenz...</td>\n",
       "      <td>Contrada Cortivetere 20</td>\n",
       "      <td>39.167688</td>\n",
       "      <td>16.347651</td>\n",
       "    </tr>\n",
       "    <tr>\n",
       "      <th>1</th>\n",
       "      <td>Cosenza</td>\n",
       "      <td>Rogliano</td>\n",
       "      <td>Contrada Balzata 6, 87054 Rogliano Cosenza, Italy</td>\n",
       "      <td>Contrada Balzata 6</td>\n",
       "      <td>39.169063</td>\n",
       "      <td>16.364340</td>\n",
       "    </tr>\n",
       "    <tr>\n",
       "      <th>2</th>\n",
       "      <td>Cosenza</td>\n",
       "      <td>Rogliano</td>\n",
       "      <td>Contrada Balzata 50, 87054 Rogliano Cosenza, I...</td>\n",
       "      <td>Contrada Balzata 50</td>\n",
       "      <td>39.166030</td>\n",
       "      <td>16.372652</td>\n",
       "    </tr>\n",
       "    <tr>\n",
       "      <th>3</th>\n",
       "      <td>Cosenza</td>\n",
       "      <td>Rogliano</td>\n",
       "      <td>Contrada Balzata 84, 87054 Rogliano Cosenza, I...</td>\n",
       "      <td>Contrada Balzata 84</td>\n",
       "      <td>39.165225</td>\n",
       "      <td>16.378528</td>\n",
       "    </tr>\n",
       "    <tr>\n",
       "      <th>4</th>\n",
       "      <td>Cosenza</td>\n",
       "      <td>Parenti</td>\n",
       "      <td>Contrada Margillera 7B, 87040 Parenti Cosenza,...</td>\n",
       "      <td>Contrada Margillera 7B</td>\n",
       "      <td>39.155974</td>\n",
       "      <td>16.413005</td>\n",
       "    </tr>\n",
       "    <tr>\n",
       "      <th>...</th>\n",
       "      <td>...</td>\n",
       "      <td>...</td>\n",
       "      <td>...</td>\n",
       "      <td>...</td>\n",
       "      <td>...</td>\n",
       "      <td>...</td>\n",
       "    </tr>\n",
       "    <tr>\n",
       "      <th>70</th>\n",
       "      <td>Cosenza</td>\n",
       "      <td>Colosimi</td>\n",
       "      <td>Corso Vittorio Emanuele 88, 87050 Colosimi Cos...</td>\n",
       "      <td>Corso Vittorio Emanuele 88</td>\n",
       "      <td>39.118944</td>\n",
       "      <td>16.401690</td>\n",
       "    </tr>\n",
       "    <tr>\n",
       "      <th>71</th>\n",
       "      <td>Catanzaro</td>\n",
       "      <td>Soveria Mannelli</td>\n",
       "      <td>Strada Statale 19 31, 88049 Soveria Mannelli C...</td>\n",
       "      <td>Strada Statale 19 31</td>\n",
       "      <td>39.057868</td>\n",
       "      <td>16.410098</td>\n",
       "    </tr>\n",
       "    <tr>\n",
       "      <th>72</th>\n",
       "      <td>Catanzaro</td>\n",
       "      <td>Lamezia Terme</td>\n",
       "      <td>Contrada Serra Castagna 94, 88046 Lamezia Term...</td>\n",
       "      <td>Contrada Serra Castagna 94</td>\n",
       "      <td>39.012755</td>\n",
       "      <td>16.247659</td>\n",
       "    </tr>\n",
       "    <tr>\n",
       "      <th>73</th>\n",
       "      <td>Catanzaro</td>\n",
       "      <td>Carlopoli</td>\n",
       "      <td>Via delle Ginestre 45, 88040 Carlopoli Catanza...</td>\n",
       "      <td>Via delle Ginestre 45</td>\n",
       "      <td>39.044390</td>\n",
       "      <td>16.447084</td>\n",
       "    </tr>\n",
       "    <tr>\n",
       "      <th>74</th>\n",
       "      <td>Cosenza</td>\n",
       "      <td>Altilia</td>\n",
       "      <td>Località Taverna 5, 87040 Altilia Cosenza, Italy</td>\n",
       "      <td>Località Taverna 5</td>\n",
       "      <td>39.133821</td>\n",
       "      <td>16.253664</td>\n",
       "    </tr>\n",
       "  </tbody>\n",
       "</table>\n",
       "<p>75 rows × 6 columns</p>\n",
       "</div>"
      ],
      "text/plain": [
       "    Provincia            Comune  \\\n",
       "0     Cosenza          Rogliano   \n",
       "1     Cosenza          Rogliano   \n",
       "2     Cosenza          Rogliano   \n",
       "3     Cosenza          Rogliano   \n",
       "4     Cosenza           Parenti   \n",
       "..        ...               ...   \n",
       "70    Cosenza          Colosimi   \n",
       "71  Catanzaro  Soveria Mannelli   \n",
       "72  Catanzaro     Lamezia Terme   \n",
       "73  Catanzaro         Carlopoli   \n",
       "74    Cosenza           Altilia   \n",
       "\n",
       "                                   Indirizzo completo  \\\n",
       "0   Contrada Cortivetere 20, 87054 Rogliano Cosenz...   \n",
       "1   Contrada Balzata 6, 87054 Rogliano Cosenza, Italy   \n",
       "2   Contrada Balzata 50, 87054 Rogliano Cosenza, I...   \n",
       "3   Contrada Balzata 84, 87054 Rogliano Cosenza, I...   \n",
       "4   Contrada Margillera 7B, 87040 Parenti Cosenza,...   \n",
       "..                                                ...   \n",
       "70  Corso Vittorio Emanuele 88, 87050 Colosimi Cos...   \n",
       "71  Strada Statale 19 31, 88049 Soveria Mannelli C...   \n",
       "72  Contrada Serra Castagna 94, 88046 Lamezia Term...   \n",
       "73  Via delle Ginestre 45, 88040 Carlopoli Catanza...   \n",
       "74   Località Taverna 5, 87040 Altilia Cosenza, Italy   \n",
       "\n",
       "                     Indirizzo  latitudine  longitudine  \n",
       "0      Contrada Cortivetere 20   39.167688    16.347651  \n",
       "1           Contrada Balzata 6   39.169063    16.364340  \n",
       "2          Contrada Balzata 50   39.166030    16.372652  \n",
       "3          Contrada Balzata 84   39.165225    16.378528  \n",
       "4       Contrada Margillera 7B   39.155974    16.413005  \n",
       "..                         ...         ...          ...  \n",
       "70  Corso Vittorio Emanuele 88   39.118944    16.401690  \n",
       "71        Strada Statale 19 31   39.057868    16.410098  \n",
       "72  Contrada Serra Castagna 94   39.012755    16.247659  \n",
       "73       Via delle Ginestre 45   39.044390    16.447084  \n",
       "74          Località Taverna 5   39.133821    16.253664  \n",
       "\n",
       "[75 rows x 6 columns]"
      ]
     },
     "execution_count": 33,
     "metadata": {},
     "output_type": "execute_result"
    }
   ],
   "source": [
    "df_region"
   ]
  },
  {
   "cell_type": "code",
   "execution_count": null,
   "metadata": {},
   "outputs": [],
   "source": [
    "df_region.to_csv(f\"Indirizzi_{region}.csv\", sep=';', index=False, encoding='utf-8' ) "
   ]
  }
 ],
 "metadata": {
  "kernelspec": {
   "display_name": "Python 3",
   "language": "python",
   "name": "python3"
  },
  "language_info": {
   "codemirror_mode": {
    "name": "ipython",
    "version": 3
   },
   "file_extension": ".py",
   "mimetype": "text/x-python",
   "name": "python",
   "nbconvert_exporter": "python",
   "pygments_lexer": "ipython3",
   "version": "3.12.0"
  }
 },
 "nbformat": 4,
 "nbformat_minor": 2
}
