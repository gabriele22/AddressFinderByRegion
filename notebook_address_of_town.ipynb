{
 "cells": [
  {
   "cell_type": "code",
   "execution_count": 37,
   "metadata": {},
   "outputs": [],
   "source": [
    "# Importo il modulo requests\n",
    "import threading\n",
    "import requests\n",
    "import toml\n",
    "import matplotlib.pyplot as plt\n",
    "import numpy as np\n",
    "import pandas as pd\n",
    "import plotly.graph_objects as go\n",
    "import random\n",
    "import math\n",
    "import more_itertools \n",
    "from progress.bar import IncrementalBar\n",
    "import re\n",
    "\n",
    "import plotly.express as px"
   ]
  },
  {
   "cell_type": "code",
   "execution_count": 38,
   "metadata": {},
   "outputs": [],
   "source": [
    "# Load the TOML data into a Python dictionary\n",
    "with open(\"config.toml\") as f:\n",
    "    data = toml.load(f)\n",
    "\n",
    "api_key = data['api_key']\n",
    "base_bing_url = data['bing_url']\n",
    "## try to trasform km in radius \n",
    "dimension_searc_area = data['radius_search_area']/111 \n",
    "search_precision = data['search_precision']\n",
    "num_threads = data['num_threads']\n",
    "\n",
    "town = 'Alatri'"
   ]
  },
  {
   "cell_type": "code",
   "execution_count": 39,
   "metadata": {},
   "outputs": [],
   "source": [
    "def radiants_distance(lat1, lon1, lat2, lon2):\n",
    "    '''return differenze from point in latitude and longitude'''\n",
    "    dlat = lat2 - lat1\n",
    "    dlon = lon2 - lon1\n",
    "\n",
    "    # Applicare la formula dell'averseno per calcolare la distanza angolare\n",
    "    a = math.sin(dlat / 2) ** 2 + math.cos(lat1) * math.cos(lat2) * math.sin(dlon / 2) ** 2\n",
    "    c = 2 * math.asin(math.sqrt(a))\n",
    "    return c\n",
    "\n",
    "\n",
    "def get_rnd_point_in_limits(lat_c, lon_c, raggio,\n",
    "                            min_lat=-math.pi / 2 , max_lat=math.pi / 2,\n",
    "                            min_lon=-math.pi,max_lon=math.pi, n=10):\n",
    "    '''return n random point in limit defined as input parameter '''\n",
    "    punti = []\n",
    "\n",
    "    # Iterare fino a che non si raggiunge il numero desiderato di punti\n",
    "    while len(punti) < n:\n",
    "        # Generare una latitudine e una longitudine casuali tra -$\\pi$/2 e $\\pi$/2 radianti\n",
    "        lat_p = random.uniform(min_lat, max_lat)\n",
    "        lon_p = random.uniform(min_lon, max_lon)\n",
    "\n",
    "        # Calcolare la distanza tra il punto casuale e il centro dell'area circolare\n",
    "        distanza = radiants_distance(lat_c, lon_c, lat_p, lon_p)\n",
    "\n",
    "        # Se la distanza è minore o uguale al raggio, aggiungere il punto alla lista dei punti\n",
    "        if distanza <= raggio:\n",
    "            punti.append((math.degrees(lat_p), math.degrees(lon_p)))\n",
    "\n",
    "    # Restituire la lista dei punti in gradi\n",
    "    return punti\n",
    "\n",
    "def plot_points_with_perimeter(per_lat: list, per_lon: list, points_lat: list, points_lon: list):\n",
    "    '''plot point in blue in black perimeter'''\n",
    "    fig = go.Figure()\n",
    "    fig.add_trace(go.Scattermapbox(\n",
    "                        lat=per_lat,\n",
    "                        lon=per_lon,\n",
    "                        marker=go.scattermapbox.Marker(\n",
    "                                size=8,\n",
    "                                color='rgb(0, 0, 0)',\n",
    "                                opacity=0.7\n",
    "                            )\n",
    "                    )\n",
    "    )\n",
    "\n",
    "    fig.add_trace(go.Scattermapbox(\n",
    "                        lat=points_lat,\n",
    "                        lon=points_lon,\n",
    "                        marker=go.scattermapbox.Marker(\n",
    "                                size=8,\n",
    "                                color='rgb(0, 50, 200)',\n",
    "                                opacity=0.9\n",
    "                            )\n",
    "                    )\n",
    "    )\n",
    "    fig.update_layout(mapbox_style=\"open-street-map\")#, zoom=5, height=500)\n",
    "\n",
    "    fig.show()\n",
    "\n",
    "\n",
    "def get_rnd_point_on_circle_and_print_map(lat_c, lon_c, raggio, n = 100):\n",
    "    '''return n random point on a circle defined by latitude, longitude and radius (in radiants)'''\n",
    "    # Creare una lista vuota per contenere i punti\n",
    "    punti = []\n",
    "    punti_lat_perimeto_cerchio = []\n",
    "    punti_lon_perimeto_cerchio = []\n",
    "\n",
    "    n_punti_perimetro = 100\n",
    "\n",
    "    # Calcolare l'angolo tra ogni punto in radianti\n",
    "    angolo = 2 * math.pi / n_punti_perimetro\n",
    "\n",
    "    # Iterare su ogni punto\n",
    "    for i in range(n_punti_perimetro):\n",
    "        # Calcolare la latitudine e la longitudine del punto in radianti\n",
    "        lat_p = math.asin(math.sin(lat_c) * math.cos(raggio) + math.cos(lat_c) * math.sin(raggio) * math.cos(i * angolo))\n",
    "        lon_p = lon_c + math.atan2(math.sin(i * angolo) * math.sin(raggio) * math.cos(lat_c), math.cos(raggio) - math.sin(lat_c) * math.sin(lat_p))\n",
    "        punti_lat_perimeto_cerchio.append(lat_p)\n",
    "        punti_lon_perimeto_cerchio.append(lon_p)\n",
    "        # Convertire la latitudine e la longitudine del punto in gradi\n",
    "        lat_p = math.degrees(lat_p)\n",
    "        lon_p = math.degrees(lon_p)\n",
    "\n",
    "        #punti.append((lat_p, lon_p))\n",
    "\n",
    "    min_lat = min(punti_lat_perimeto_cerchio)\n",
    "    max_lat = max(punti_lat_perimeto_cerchio)\n",
    "    min_lon = min(punti_lon_perimeto_cerchio)\n",
    "    max_lon = max(punti_lon_perimeto_cerchio)\n",
    "\n",
    "    punti_rnd = get_rnd_point_in_limits(lat_c, lon_c, raggio,min_lat, max_lat, min_lon, max_lon, n)\n",
    "    for punto_rnd in punti_rnd:\n",
    "        punti.append(punto_rnd)\n",
    "    \n",
    "    per_lat = [math.degrees(i) for i in punti_lat_perimeto_cerchio ]\n",
    "    per_lon = [math.degrees(i) for i in punti_lon_perimeto_cerchio ]\n",
    "    rnd_lat = [l[0] for l in punti ]\n",
    "    rnd_lon = [l[1] for l in punti ]\n",
    "\n",
    "    #plot point and perimeter points\n",
    "    plot_points_with_perimeter(per_lat, per_lon, rnd_lat, rnd_lon)\n",
    "\n",
    "    return punti"
   ]
  },
  {
   "cell_type": "code",
   "execution_count": 40,
   "metadata": {},
   "outputs": [],
   "source": [
    "def radiants_distance(lat1, lon1, lat2, lon2):\n",
    "    '''return differenze from point in latitude and longitude'''\n",
    "    dlat = lat2 - lat1\n",
    "    dlon = lon2 - lon1\n",
    "\n",
    "    # Applicare la formula dell'averseno per calcolare la distanza angolare\n",
    "    a = math.sin(dlat / 2) ** 2 + math.cos(lat1) * math.cos(lat2) * math.sin(dlon / 2) ** 2\n",
    "    c = 2 * math.asin(math.sqrt(a))\n",
    "    return c\n",
    "\n",
    "\n",
    "def get_rnd_point_in_limits(lat_c, lon_c, raggio,\n",
    "                            min_lat=-math.pi / 2 , max_lat=math.pi / 2,\n",
    "                            min_lon=-math.pi,max_lon=math.pi, n=10):\n",
    "    '''return n random point in limit defined as input parameter '''\n",
    "    punti = []\n",
    "\n",
    "    # Iterare fino a che non si raggiunge il numero desiderato di punti\n",
    "    while len(punti) < n:\n",
    "        # Generare una latitudine e una longitudine casuali tra -$\\pi$/2 e $\\pi$/2 radianti\n",
    "        lat_p = random.uniform(min_lat, max_lat)\n",
    "        lon_p = random.uniform(min_lon, max_lon)\n",
    "\n",
    "        # Calcolare la distanza tra il punto casuale e il centro dell'area circolare\n",
    "        distanza = radiants_distance(lat_c, lon_c, lat_p, lon_p)\n",
    "\n",
    "        # Se la distanza è minore o uguale al raggio, aggiungere il punto alla lista dei punti\n",
    "        if distanza <= raggio:\n",
    "            punti.append((math.degrees(lat_p), math.degrees(lon_p)))\n",
    "\n",
    "    # Restituire la lista dei punti in gradi\n",
    "    return punti\n",
    "\n",
    "def plot_points_with_perimeter(per_lat: list, per_lon: list, points_lat: list, points_lon: list):\n",
    "    '''plot point in blue in black perimeter'''\n",
    "    fig = go.Figure()\n",
    "    fig.add_trace(go.Scattermapbox(\n",
    "                        lat=per_lat,\n",
    "                        lon=per_lon,\n",
    "                        marker=go.scattermapbox.Marker(\n",
    "                                size=8,\n",
    "                                color='rgb(0, 0, 0)',\n",
    "                                opacity=0.7\n",
    "                            )\n",
    "                    )\n",
    "    )\n",
    "\n",
    "    fig.add_trace(go.Scattermapbox(\n",
    "                        lat=points_lat,\n",
    "                        lon=points_lon,\n",
    "                        marker=go.scattermapbox.Marker(\n",
    "                                size=8,\n",
    "                                color='rgb(0, 50, 200)',\n",
    "                                opacity=0.9\n",
    "                            )\n",
    "                    )\n",
    "    )\n",
    "    fig.update_layout(mapbox_style=\"open-street-map\")#, zoom=5, height=500)\n",
    "\n",
    "    fig.show()\n",
    "\n",
    "\n",
    "def get_rnd_point_on_rectangle_and_print_map(lat_c, lon_c, raggio, incline_value, n = 100):\n",
    "    '''return n random point on a circle defined by latitude, longitude and radius (in radiants)'''\n",
    "    # Creare una lista vuota per contenere i punti\n",
    "    punti = []\n",
    "    punti_lat_perimeto_cerchio = []\n",
    "    punti_lon_perimeto_cerchio = []\n",
    "\n",
    "    n_punti_perimetro = 100\n",
    "\n",
    "    # Calcolare l'angolo tra ogni punto in radianti\n",
    "    angolo = 2 * math.pi / n_punti_perimetro\n",
    "\n",
    "    lat_1 = math.asin(math.sin(lat_c) * math.cos(raggio) + math.cos(lat_c) * math.sin(raggio) * math.cos( incline_value * angolo))\n",
    "    lon_1 = lon_c + math.atan2(math.sin(incline_value *  angolo) * math.sin(raggio) * math.cos(lat_c), math.cos(raggio) - math.sin(lat_c) * math.sin(lat_1))\n",
    "\n",
    "    lat_2 = -lat_1\n",
    "    lon_2 = -lon_1\n",
    "\n",
    "    # Iterare su ogni punto\n",
    "    for i in range(n_punti_perimetro):\n",
    "        # Calcolare la latitudine e la longitudine del punto in radianti\n",
    "        lat_p = math.asin(math.sin(lat_c) * math.cos(raggio) + math.cos(lat_c) * math.sin(raggio) * math.cos(i * angolo))\n",
    "        lon_p = lon_c + math.atan2(math.sin(i * angolo) * math.sin(raggio) * math.cos(lat_c), math.cos(raggio) - math.sin(lat_c) * math.sin(lat_p))\n",
    "        punti_lat_perimeto_cerchio.append(lat_p)\n",
    "        punti_lon_perimeto_cerchio.append(lon_p)\n",
    "        # Convertire la latitudine e la longitudine del punto in gradi\n",
    "        lat_p = math.degrees(lat_p)\n",
    "        lon_p = math.degrees(lon_p)\n",
    "\n",
    "        #punti.append((lat_p, lon_p))\n",
    "\n",
    "    min_lat = min(punti_lat_perimeto_cerchio)\n",
    "    max_lat = max(punti_lat_perimeto_cerchio)\n",
    "    min_lon = min(punti_lon_perimeto_cerchio)\n",
    "    max_lon = max(punti_lon_perimeto_cerchio)\n",
    "\n",
    "    punti_rnd = get_rnd_point_in_limits(lat_c, lon_c, raggio,min_lat, max_lat, min_lon, max_lon, n)\n",
    "    for punto_rnd in punti_rnd:\n",
    "        punti.append(punto_rnd)\n",
    "    \n",
    "    per_lat = [math.degrees(lat_1), math.degrees(lat_2)]#[math.degrees(i) for i in punti_lat_perimeto_cerchio ]\n",
    "    per_lon =  [math.degrees(lon_1), math.degrees(lon_2)]#[math.degrees(i) for i in punti_lon_perimeto_cerchio ]\n",
    "    rnd_lat = [l[0] for l in punti ]\n",
    "    rnd_lon = [l[1] for l in punti ]\n",
    "\n",
    "    #plot point and perimeter points\n",
    "    plot_points_with_perimeter(per_lat, per_lon, rnd_lat, rnd_lon)\n",
    "\n",
    "    return punti"
   ]
  },
  {
   "cell_type": "code",
   "execution_count": 41,
   "metadata": {},
   "outputs": [
    {
     "data": {
      "application/vnd.plotly.v1+json": {
       "config": {
        "plotlyServerURL": "https://plot.ly"
       },
       "data": [
        {
         "lat": [
          41.749927376178114,
          -41.749927376178114
         ],
         "lon": [
          13.068494221114298,
          -13.068494221114298
         ],
         "marker": {
          "color": "rgb(0, 0, 0)",
          "opacity": 0.7,
          "size": 8
         },
         "type": "scattermapbox"
        },
        {
         "lat": [
          41.97908605082302,
          41.81828179232827,
          41.72863972459648,
          41.977597811389614,
          41.73467203183033,
          42.027694681843066,
          42.10126536275662,
          41.684072693476146,
          41.58294519219187,
          42.282485248370946,
          42.05776553056913,
          42.07187418796977,
          42.06439238129397,
          41.76398277198121,
          41.864359643009976,
          41.74229984731889,
          41.75928903483623,
          41.67343874827211,
          41.71520919369998,
          42.17297440092886,
          41.518005495273805,
          41.89556062066094,
          42.17000702056847,
          42.0935806175045,
          41.84332779143873,
          42.01028986441179,
          42.19377448375495,
          41.79525397863303,
          42.169669728256125,
          42.06891334589271,
          42.03273013880353,
          41.96815184456203,
          41.94518900575278,
          41.66497362074743,
          41.63294274143081,
          41.684933121446136,
          41.549698565469384,
          41.88223287936862,
          42.14486310541696,
          42.19740804576488,
          41.97416603212048,
          42.1620608274965,
          41.95502329748541,
          41.96199222270736,
          41.53183792824062,
          41.67464336521636,
          42.101801561342356,
          41.76844240432477,
          41.65718168723953,
          41.530708370891865,
          42.17891608292843,
          41.9375942749651,
          41.56463000082656,
          42.14166371150234,
          42.247161066530644,
          41.80307794039223,
          41.682660861741965,
          41.64553061545485,
          42.264234423072594,
          41.80770214670391,
          42.15879992768024,
          42.32161237039727,
          41.901576745555154,
          42.0765475442747,
          41.78017527108581,
          42.21764626548254,
          41.54506180586836,
          41.62449647108317,
          41.850193106455336,
          42.23916446690689,
          42.10058566685368,
          42.009193404368695,
          42.01744369531139,
          42.043119480743975,
          41.66049004484303,
          42.12968414460136,
          41.5536538447,
          42.251313864840974,
          42.011028042944076,
          41.63296544145159,
          41.7572172079209,
          42.19160910894124,
          41.87261730728458,
          42.098555000715145,
          41.80073757338207,
          41.82614912302062,
          41.707590427892484,
          42.06863554227014,
          41.80883946107566,
          41.75824562406351,
          41.91082842006414,
          41.88516700638943,
          42.147951008295145,
          41.55598163928665,
          42.01772013712867,
          41.81119704241416,
          42.01566751717065,
          42.32693801276133,
          41.6184756551225,
          42.22786618696018
         ],
         "lon": [
          13.07741446767802,
          12.468969405698038,
          12.794900380248025,
          12.147957820723542,
          12.314380807622168,
          12.117928960496078,
          12.530740633810582,
          12.009105763341516,
          12.729722331412091,
          12.298540014303773,
          13.026842136031561,
          11.961046216765006,
          12.59555698049453,
          13.062871042023694,
          12.407943097872407,
          12.68817472924289,
          12.752187332928164,
          12.74533804419065,
          12.05015895226146,
          12.820841806618846,
          12.511415665125746,
          13.014553711739403,
          12.310487035799587,
          12.116287928619943,
          12.94856835724511,
          12.97429062303734,
          12.354625851710924,
          12.258408269648061,
          12.157480911897922,
          12.592046624971653,
          12.36421116267745,
          12.708863219945837,
          12.730655267862634,
          11.98251072335085,
          12.356726604867433,
          12.165531063172857,
          12.385699789909562,
          11.938133366221813,
          12.620894914922832,
          12.15958529151365,
          12.413794114401265,
          12.617213471292663,
          13.041869952460582,
          12.263175555139654,
          12.1539593832594,
          12.192033399232118,
          12.367490817950863,
          11.941512833819926,
          12.048679596845579,
          12.78588783461616,
          12.38469815423509,
          12.121037904454171,
          12.783748605840868,
          12.749360776215362,
          12.854125226017825,
          13.02253609955677,
          12.684095644829917,
          12.754437429625506,
          12.65355014251982,
          12.369622248932401,
          12.497053167538576,
          12.412892990845704,
          12.414330881080822,
          12.80674426306395,
          12.215374109963344,
          12.41285492642471,
          12.325825990390573,
          12.748388156753387,
          11.923175103013337,
          12.115333185050948,
          12.645926775958726,
          12.660677508952771,
          12.076998083936614,
          12.875904502211945,
          12.34070525470038,
          12.957564290848556,
          12.358682867848245,
          12.813555920439395,
          12.833461928422519,
          12.561862190980078,
          12.148445978461845,
          12.425047818701273,
          12.976471531832305,
          12.266134644051812,
          12.738128507346156,
          12.573581500011727,
          12.631643099817765,
          12.468631833416522,
          12.242837589591483,
          12.764702488920344,
          12.545801881177889,
          12.917902469559913,
          12.810424151126336,
          12.629770669741728,
          12.383402007340553,
          12.375203385733244,
          13.001246503210986,
          12.642872692293171,
          12.080253065408511,
          12.116972958240618
         ],
         "marker": {
          "color": "rgb(0, 50, 200)",
          "opacity": 0.9,
          "size": 8
         },
         "type": "scattermapbox"
        }
       ],
       "layout": {
        "mapbox": {
         "style": "open-street-map"
        },
        "template": {
         "data": {
          "bar": [
           {
            "error_x": {
             "color": "#2a3f5f"
            },
            "error_y": {
             "color": "#2a3f5f"
            },
            "marker": {
             "line": {
              "color": "#E5ECF6",
              "width": 0.5
             },
             "pattern": {
              "fillmode": "overlay",
              "size": 10,
              "solidity": 0.2
             }
            },
            "type": "bar"
           }
          ],
          "barpolar": [
           {
            "marker": {
             "line": {
              "color": "#E5ECF6",
              "width": 0.5
             },
             "pattern": {
              "fillmode": "overlay",
              "size": 10,
              "solidity": 0.2
             }
            },
            "type": "barpolar"
           }
          ],
          "carpet": [
           {
            "aaxis": {
             "endlinecolor": "#2a3f5f",
             "gridcolor": "white",
             "linecolor": "white",
             "minorgridcolor": "white",
             "startlinecolor": "#2a3f5f"
            },
            "baxis": {
             "endlinecolor": "#2a3f5f",
             "gridcolor": "white",
             "linecolor": "white",
             "minorgridcolor": "white",
             "startlinecolor": "#2a3f5f"
            },
            "type": "carpet"
           }
          ],
          "choropleth": [
           {
            "colorbar": {
             "outlinewidth": 0,
             "ticks": ""
            },
            "type": "choropleth"
           }
          ],
          "contour": [
           {
            "colorbar": {
             "outlinewidth": 0,
             "ticks": ""
            },
            "colorscale": [
             [
              0,
              "#0d0887"
             ],
             [
              0.1111111111111111,
              "#46039f"
             ],
             [
              0.2222222222222222,
              "#7201a8"
             ],
             [
              0.3333333333333333,
              "#9c179e"
             ],
             [
              0.4444444444444444,
              "#bd3786"
             ],
             [
              0.5555555555555556,
              "#d8576b"
             ],
             [
              0.6666666666666666,
              "#ed7953"
             ],
             [
              0.7777777777777778,
              "#fb9f3a"
             ],
             [
              0.8888888888888888,
              "#fdca26"
             ],
             [
              1,
              "#f0f921"
             ]
            ],
            "type": "contour"
           }
          ],
          "contourcarpet": [
           {
            "colorbar": {
             "outlinewidth": 0,
             "ticks": ""
            },
            "type": "contourcarpet"
           }
          ],
          "heatmap": [
           {
            "colorbar": {
             "outlinewidth": 0,
             "ticks": ""
            },
            "colorscale": [
             [
              0,
              "#0d0887"
             ],
             [
              0.1111111111111111,
              "#46039f"
             ],
             [
              0.2222222222222222,
              "#7201a8"
             ],
             [
              0.3333333333333333,
              "#9c179e"
             ],
             [
              0.4444444444444444,
              "#bd3786"
             ],
             [
              0.5555555555555556,
              "#d8576b"
             ],
             [
              0.6666666666666666,
              "#ed7953"
             ],
             [
              0.7777777777777778,
              "#fb9f3a"
             ],
             [
              0.8888888888888888,
              "#fdca26"
             ],
             [
              1,
              "#f0f921"
             ]
            ],
            "type": "heatmap"
           }
          ],
          "heatmapgl": [
           {
            "colorbar": {
             "outlinewidth": 0,
             "ticks": ""
            },
            "colorscale": [
             [
              0,
              "#0d0887"
             ],
             [
              0.1111111111111111,
              "#46039f"
             ],
             [
              0.2222222222222222,
              "#7201a8"
             ],
             [
              0.3333333333333333,
              "#9c179e"
             ],
             [
              0.4444444444444444,
              "#bd3786"
             ],
             [
              0.5555555555555556,
              "#d8576b"
             ],
             [
              0.6666666666666666,
              "#ed7953"
             ],
             [
              0.7777777777777778,
              "#fb9f3a"
             ],
             [
              0.8888888888888888,
              "#fdca26"
             ],
             [
              1,
              "#f0f921"
             ]
            ],
            "type": "heatmapgl"
           }
          ],
          "histogram": [
           {
            "marker": {
             "pattern": {
              "fillmode": "overlay",
              "size": 10,
              "solidity": 0.2
             }
            },
            "type": "histogram"
           }
          ],
          "histogram2d": [
           {
            "colorbar": {
             "outlinewidth": 0,
             "ticks": ""
            },
            "colorscale": [
             [
              0,
              "#0d0887"
             ],
             [
              0.1111111111111111,
              "#46039f"
             ],
             [
              0.2222222222222222,
              "#7201a8"
             ],
             [
              0.3333333333333333,
              "#9c179e"
             ],
             [
              0.4444444444444444,
              "#bd3786"
             ],
             [
              0.5555555555555556,
              "#d8576b"
             ],
             [
              0.6666666666666666,
              "#ed7953"
             ],
             [
              0.7777777777777778,
              "#fb9f3a"
             ],
             [
              0.8888888888888888,
              "#fdca26"
             ],
             [
              1,
              "#f0f921"
             ]
            ],
            "type": "histogram2d"
           }
          ],
          "histogram2dcontour": [
           {
            "colorbar": {
             "outlinewidth": 0,
             "ticks": ""
            },
            "colorscale": [
             [
              0,
              "#0d0887"
             ],
             [
              0.1111111111111111,
              "#46039f"
             ],
             [
              0.2222222222222222,
              "#7201a8"
             ],
             [
              0.3333333333333333,
              "#9c179e"
             ],
             [
              0.4444444444444444,
              "#bd3786"
             ],
             [
              0.5555555555555556,
              "#d8576b"
             ],
             [
              0.6666666666666666,
              "#ed7953"
             ],
             [
              0.7777777777777778,
              "#fb9f3a"
             ],
             [
              0.8888888888888888,
              "#fdca26"
             ],
             [
              1,
              "#f0f921"
             ]
            ],
            "type": "histogram2dcontour"
           }
          ],
          "mesh3d": [
           {
            "colorbar": {
             "outlinewidth": 0,
             "ticks": ""
            },
            "type": "mesh3d"
           }
          ],
          "parcoords": [
           {
            "line": {
             "colorbar": {
              "outlinewidth": 0,
              "ticks": ""
             }
            },
            "type": "parcoords"
           }
          ],
          "pie": [
           {
            "automargin": true,
            "type": "pie"
           }
          ],
          "scatter": [
           {
            "fillpattern": {
             "fillmode": "overlay",
             "size": 10,
             "solidity": 0.2
            },
            "type": "scatter"
           }
          ],
          "scatter3d": [
           {
            "line": {
             "colorbar": {
              "outlinewidth": 0,
              "ticks": ""
             }
            },
            "marker": {
             "colorbar": {
              "outlinewidth": 0,
              "ticks": ""
             }
            },
            "type": "scatter3d"
           }
          ],
          "scattercarpet": [
           {
            "marker": {
             "colorbar": {
              "outlinewidth": 0,
              "ticks": ""
             }
            },
            "type": "scattercarpet"
           }
          ],
          "scattergeo": [
           {
            "marker": {
             "colorbar": {
              "outlinewidth": 0,
              "ticks": ""
             }
            },
            "type": "scattergeo"
           }
          ],
          "scattergl": [
           {
            "marker": {
             "colorbar": {
              "outlinewidth": 0,
              "ticks": ""
             }
            },
            "type": "scattergl"
           }
          ],
          "scattermapbox": [
           {
            "marker": {
             "colorbar": {
              "outlinewidth": 0,
              "ticks": ""
             }
            },
            "type": "scattermapbox"
           }
          ],
          "scatterpolar": [
           {
            "marker": {
             "colorbar": {
              "outlinewidth": 0,
              "ticks": ""
             }
            },
            "type": "scatterpolar"
           }
          ],
          "scatterpolargl": [
           {
            "marker": {
             "colorbar": {
              "outlinewidth": 0,
              "ticks": ""
             }
            },
            "type": "scatterpolargl"
           }
          ],
          "scatterternary": [
           {
            "marker": {
             "colorbar": {
              "outlinewidth": 0,
              "ticks": ""
             }
            },
            "type": "scatterternary"
           }
          ],
          "surface": [
           {
            "colorbar": {
             "outlinewidth": 0,
             "ticks": ""
            },
            "colorscale": [
             [
              0,
              "#0d0887"
             ],
             [
              0.1111111111111111,
              "#46039f"
             ],
             [
              0.2222222222222222,
              "#7201a8"
             ],
             [
              0.3333333333333333,
              "#9c179e"
             ],
             [
              0.4444444444444444,
              "#bd3786"
             ],
             [
              0.5555555555555556,
              "#d8576b"
             ],
             [
              0.6666666666666666,
              "#ed7953"
             ],
             [
              0.7777777777777778,
              "#fb9f3a"
             ],
             [
              0.8888888888888888,
              "#fdca26"
             ],
             [
              1,
              "#f0f921"
             ]
            ],
            "type": "surface"
           }
          ],
          "table": [
           {
            "cells": {
             "fill": {
              "color": "#EBF0F8"
             },
             "line": {
              "color": "white"
             }
            },
            "header": {
             "fill": {
              "color": "#C8D4E3"
             },
             "line": {
              "color": "white"
             }
            },
            "type": "table"
           }
          ]
         },
         "layout": {
          "annotationdefaults": {
           "arrowcolor": "#2a3f5f",
           "arrowhead": 0,
           "arrowwidth": 1
          },
          "autotypenumbers": "strict",
          "coloraxis": {
           "colorbar": {
            "outlinewidth": 0,
            "ticks": ""
           }
          },
          "colorscale": {
           "diverging": [
            [
             0,
             "#8e0152"
            ],
            [
             0.1,
             "#c51b7d"
            ],
            [
             0.2,
             "#de77ae"
            ],
            [
             0.3,
             "#f1b6da"
            ],
            [
             0.4,
             "#fde0ef"
            ],
            [
             0.5,
             "#f7f7f7"
            ],
            [
             0.6,
             "#e6f5d0"
            ],
            [
             0.7,
             "#b8e186"
            ],
            [
             0.8,
             "#7fbc41"
            ],
            [
             0.9,
             "#4d9221"
            ],
            [
             1,
             "#276419"
            ]
           ],
           "sequential": [
            [
             0,
             "#0d0887"
            ],
            [
             0.1111111111111111,
             "#46039f"
            ],
            [
             0.2222222222222222,
             "#7201a8"
            ],
            [
             0.3333333333333333,
             "#9c179e"
            ],
            [
             0.4444444444444444,
             "#bd3786"
            ],
            [
             0.5555555555555556,
             "#d8576b"
            ],
            [
             0.6666666666666666,
             "#ed7953"
            ],
            [
             0.7777777777777778,
             "#fb9f3a"
            ],
            [
             0.8888888888888888,
             "#fdca26"
            ],
            [
             1,
             "#f0f921"
            ]
           ],
           "sequentialminus": [
            [
             0,
             "#0d0887"
            ],
            [
             0.1111111111111111,
             "#46039f"
            ],
            [
             0.2222222222222222,
             "#7201a8"
            ],
            [
             0.3333333333333333,
             "#9c179e"
            ],
            [
             0.4444444444444444,
             "#bd3786"
            ],
            [
             0.5555555555555556,
             "#d8576b"
            ],
            [
             0.6666666666666666,
             "#ed7953"
            ],
            [
             0.7777777777777778,
             "#fb9f3a"
            ],
            [
             0.8888888888888888,
             "#fdca26"
            ],
            [
             1,
             "#f0f921"
            ]
           ]
          },
          "colorway": [
           "#636efa",
           "#EF553B",
           "#00cc96",
           "#ab63fa",
           "#FFA15A",
           "#19d3f3",
           "#FF6692",
           "#B6E880",
           "#FF97FF",
           "#FECB52"
          ],
          "font": {
           "color": "#2a3f5f"
          },
          "geo": {
           "bgcolor": "white",
           "lakecolor": "white",
           "landcolor": "#E5ECF6",
           "showlakes": true,
           "showland": true,
           "subunitcolor": "white"
          },
          "hoverlabel": {
           "align": "left"
          },
          "hovermode": "closest",
          "mapbox": {
           "style": "light"
          },
          "paper_bgcolor": "white",
          "plot_bgcolor": "#E5ECF6",
          "polar": {
           "angularaxis": {
            "gridcolor": "white",
            "linecolor": "white",
            "ticks": ""
           },
           "bgcolor": "#E5ECF6",
           "radialaxis": {
            "gridcolor": "white",
            "linecolor": "white",
            "ticks": ""
           }
          },
          "scene": {
           "xaxis": {
            "backgroundcolor": "#E5ECF6",
            "gridcolor": "white",
            "gridwidth": 2,
            "linecolor": "white",
            "showbackground": true,
            "ticks": "",
            "zerolinecolor": "white"
           },
           "yaxis": {
            "backgroundcolor": "#E5ECF6",
            "gridcolor": "white",
            "gridwidth": 2,
            "linecolor": "white",
            "showbackground": true,
            "ticks": "",
            "zerolinecolor": "white"
           },
           "zaxis": {
            "backgroundcolor": "#E5ECF6",
            "gridcolor": "white",
            "gridwidth": 2,
            "linecolor": "white",
            "showbackground": true,
            "ticks": "",
            "zerolinecolor": "white"
           }
          },
          "shapedefaults": {
           "line": {
            "color": "#2a3f5f"
           }
          },
          "ternary": {
           "aaxis": {
            "gridcolor": "white",
            "linecolor": "white",
            "ticks": ""
           },
           "baxis": {
            "gridcolor": "white",
            "linecolor": "white",
            "ticks": ""
           },
           "bgcolor": "#E5ECF6",
           "caxis": {
            "gridcolor": "white",
            "linecolor": "white",
            "ticks": ""
           }
          },
          "title": {
           "x": 0.05
          },
          "xaxis": {
           "automargin": true,
           "gridcolor": "white",
           "linecolor": "white",
           "ticks": "",
           "title": {
            "standoff": 15
           },
           "zerolinecolor": "white",
           "zerolinewidth": 2
          },
          "yaxis": {
           "automargin": true,
           "gridcolor": "white",
           "linecolor": "white",
           "ticks": "",
           "title": {
            "standoff": 15
           },
           "zerolinecolor": "white",
           "zerolinewidth": 2
          }
         }
        }
       }
      }
     },
     "metadata": {},
     "output_type": "display_data"
    },
    {
     "data": {
      "text/plain": [
       "[(41.97908605082302, 13.07741446767802),\n",
       " (41.81828179232827, 12.468969405698038),\n",
       " (41.72863972459648, 12.794900380248025),\n",
       " (41.977597811389614, 12.147957820723542),\n",
       " (41.73467203183033, 12.314380807622168),\n",
       " (42.027694681843066, 12.117928960496078),\n",
       " (42.10126536275662, 12.530740633810582),\n",
       " (41.684072693476146, 12.009105763341516),\n",
       " (41.58294519219187, 12.729722331412091),\n",
       " (42.282485248370946, 12.298540014303773),\n",
       " (42.05776553056913, 13.026842136031561),\n",
       " (42.07187418796977, 11.961046216765006),\n",
       " (42.06439238129397, 12.59555698049453),\n",
       " (41.76398277198121, 13.062871042023694),\n",
       " (41.864359643009976, 12.407943097872407),\n",
       " (41.74229984731889, 12.68817472924289),\n",
       " (41.75928903483623, 12.752187332928164),\n",
       " (41.67343874827211, 12.74533804419065),\n",
       " (41.71520919369998, 12.05015895226146),\n",
       " (42.17297440092886, 12.820841806618846),\n",
       " (41.518005495273805, 12.511415665125746),\n",
       " (41.89556062066094, 13.014553711739403),\n",
       " (42.17000702056847, 12.310487035799587),\n",
       " (42.0935806175045, 12.116287928619943),\n",
       " (41.84332779143873, 12.94856835724511),\n",
       " (42.01028986441179, 12.97429062303734),\n",
       " (42.19377448375495, 12.354625851710924),\n",
       " (41.79525397863303, 12.258408269648061),\n",
       " (42.169669728256125, 12.157480911897922),\n",
       " (42.06891334589271, 12.592046624971653),\n",
       " (42.03273013880353, 12.36421116267745),\n",
       " (41.96815184456203, 12.708863219945837),\n",
       " (41.94518900575278, 12.730655267862634),\n",
       " (41.66497362074743, 11.98251072335085),\n",
       " (41.63294274143081, 12.356726604867433),\n",
       " (41.684933121446136, 12.165531063172857),\n",
       " (41.549698565469384, 12.385699789909562),\n",
       " (41.88223287936862, 11.938133366221813),\n",
       " (42.14486310541696, 12.620894914922832),\n",
       " (42.19740804576488, 12.15958529151365),\n",
       " (41.97416603212048, 12.413794114401265),\n",
       " (42.1620608274965, 12.617213471292663),\n",
       " (41.95502329748541, 13.041869952460582),\n",
       " (41.96199222270736, 12.263175555139654),\n",
       " (41.53183792824062, 12.1539593832594),\n",
       " (41.67464336521636, 12.192033399232118),\n",
       " (42.101801561342356, 12.367490817950863),\n",
       " (41.76844240432477, 11.941512833819926),\n",
       " (41.65718168723953, 12.048679596845579),\n",
       " (41.530708370891865, 12.78588783461616),\n",
       " (42.17891608292843, 12.38469815423509),\n",
       " (41.9375942749651, 12.121037904454171),\n",
       " (41.56463000082656, 12.783748605840868),\n",
       " (42.14166371150234, 12.749360776215362),\n",
       " (42.247161066530644, 12.854125226017825),\n",
       " (41.80307794039223, 13.02253609955677),\n",
       " (41.682660861741965, 12.684095644829917),\n",
       " (41.64553061545485, 12.754437429625506),\n",
       " (42.264234423072594, 12.65355014251982),\n",
       " (41.80770214670391, 12.369622248932401),\n",
       " (42.15879992768024, 12.497053167538576),\n",
       " (42.32161237039727, 12.412892990845704),\n",
       " (41.901576745555154, 12.414330881080822),\n",
       " (42.0765475442747, 12.80674426306395),\n",
       " (41.78017527108581, 12.215374109963344),\n",
       " (42.21764626548254, 12.41285492642471),\n",
       " (41.54506180586836, 12.325825990390573),\n",
       " (41.62449647108317, 12.748388156753387),\n",
       " (41.850193106455336, 11.923175103013337),\n",
       " (42.23916446690689, 12.115333185050948),\n",
       " (42.10058566685368, 12.645926775958726),\n",
       " (42.009193404368695, 12.660677508952771),\n",
       " (42.01744369531139, 12.076998083936614),\n",
       " (42.043119480743975, 12.875904502211945),\n",
       " (41.66049004484303, 12.34070525470038),\n",
       " (42.12968414460136, 12.957564290848556),\n",
       " (41.5536538447, 12.358682867848245),\n",
       " (42.251313864840974, 12.813555920439395),\n",
       " (42.011028042944076, 12.833461928422519),\n",
       " (41.63296544145159, 12.561862190980078),\n",
       " (41.7572172079209, 12.148445978461845),\n",
       " (42.19160910894124, 12.425047818701273),\n",
       " (41.87261730728458, 12.976471531832305),\n",
       " (42.098555000715145, 12.266134644051812),\n",
       " (41.80073757338207, 12.738128507346156),\n",
       " (41.82614912302062, 12.573581500011727),\n",
       " (41.707590427892484, 12.631643099817765),\n",
       " (42.06863554227014, 12.468631833416522),\n",
       " (41.80883946107566, 12.242837589591483),\n",
       " (41.75824562406351, 12.764702488920344),\n",
       " (41.91082842006414, 12.545801881177889),\n",
       " (41.88516700638943, 12.917902469559913),\n",
       " (42.147951008295145, 12.810424151126336),\n",
       " (41.55598163928665, 12.629770669741728),\n",
       " (42.01772013712867, 12.383402007340553),\n",
       " (41.81119704241416, 12.375203385733244),\n",
       " (42.01566751717065, 13.001246503210986),\n",
       " (42.32693801276133, 12.642872692293171),\n",
       " (41.6184756551225, 12.080253065408511),\n",
       " (42.22786618696018, 12.116972958240618)]"
      ]
     },
     "execution_count": 41,
     "metadata": {},
     "output_type": "execute_result"
    }
   ],
   "source": [
    "get_rnd_point_on_rectangle_and_print_map(math.radians(41.89055634),math.radians(12.49426746), math.radians(50/111),30, 100)"
   ]
  },
  {
   "cell_type": "code",
   "execution_count": 42,
   "metadata": {},
   "outputs": [
    {
     "data": {
      "application/vnd.plotly.v1+json": {
       "config": {
        "plotlyServerURL": "https://plot.ly"
       },
       "data": [
        {
         "lat": [
          42.34100679045046,
          42.34011160469349,
          42.33742965659868,
          42.33297175820209,
          42.32675587800569,
          42.318807063928205,
          42.309157336009555,
          42.29784554943645,
          42.284917228610034,
          42.27042437312384,
          42.254425236660815,
          42.23698407994938,
          42.21817089904101,
          42.198061130284025,
          42.1767353334695,
          42.15427885471563,
          42.130781470734554,
          42.10633701619331,
          42.081042995934176,
          42.055000183863214,
          42.02831221034683,
          42.001085139976055,
          41.97342704156755,
          41.94544755226891,
          41.91725743762535,
          41.88896814944425,
          41.860691383266555,
          41.83253863721741,
          41.80462077396622,
          41.7770475874773,
          41.749927376178114,
          41.72336652411377,
          41.69746909159327,
          41.67233641676788,
          41.64806672951318,
          41.624754778916106,
          41.60249147559642,
          41.58136355001923,
          41.56145322788157,
          41.54283792358229,
          41.52558995271103,
          41.509776264418356,
          41.495458194456354,
          41.48269123960669,
          41.47152485414161,
          41.462002268892604,
          41.45416033343115,
          41.44802938179758,
          41.443633122144725,
          41.44098855059589,
          41.44010588954955,
          41.44098855059589,
          41.443633122144725,
          41.44802938179758,
          41.45416033343115,
          41.462002268892604,
          41.47152485414161,
          41.48269123960669,
          41.495458194456354,
          41.509776264418356,
          41.52558995271103,
          41.54283792358229,
          41.56145322788157,
          41.58136355001923,
          41.60249147559642,
          41.624754778916106,
          41.64806672951318,
          41.67233641676788,
          41.69746909159327,
          41.72336652411377,
          41.749927376178114,
          41.7770475874773,
          41.80462077396622,
          41.83253863721741,
          41.860691383266555,
          41.88896814944425,
          41.91725743762535,
          41.94544755226891,
          41.97342704156755,
          42.001085139976055,
          42.02831221034683,
          42.055000183863214,
          42.081042995934176,
          42.10633701619331,
          42.130781470734554,
          42.15427885471563,
          42.1767353334695,
          42.198061130284025,
          42.21817089904101,
          42.23698407994938,
          42.254425236660815,
          42.27042437312384,
          42.284917228610034,
          42.29784554943645,
          42.309157336009555,
          42.318807063928205,
          42.32675587800569,
          42.33297175820209,
          42.33742965659868,
          42.34011160469349
         ],
         "lon": [
          12.494267460000001,
          12.532532163249709,
          12.570642612616412,
          12.608445215677538,
          12.645787699432065,
          12.682519761293014,
          12.718493709701477,
          12.753565091040565,
          12.78759329964304,
          12.820442167827443,
          12.851980533062017,
          12.882082779541374,
          12.910629351664848,
          12.937507237125175,
          12.962610417548417,
          12.985840284867859,
          13.007106021862901,
          13.026324945545648,
          13.04342281233009,
          13.058334084168617,
          13.071002155085376,
          13.081379537773621,
          13.089428010152078,
          13.09511872199211,
          13.09843226193114,
          13.099358685377368,
          13.097897503985198,
          13.094057637539452,
          13.087857329228774,
          13.079324025414895,
          13.068494221114298,
          13.0554132725032,
          13.040135177835753,
          13.022722328230055,
          13.003245229827709,
          12.98178219887129,
          12.958419031271347,
          12.933248648251666,
          12.90637071966958,
          12.877891266608524,
          12.847922244833892,
          12.816581110691875,
          12.783990371015483,
          12.750277118583547,
          12.715572554658106,
          12.680011500104404,
          12.643731896576512,
          12.606874299231094,
          12.569581362413091,
          12.531997319740302,
          12.494267460000001,
          12.456537600259699,
          12.41895355758691,
          12.381660620768907,
          12.34480302342349,
          12.308523419895597,
          12.272962365341895,
          12.238257801416454,
          12.204544548984519,
          12.171953809308127,
          12.140612675166109,
          12.110643653391477,
          12.08216420033042,
          12.055286271748335,
          12.030115888728654,
          12.006752721128711,
          11.985289690172293,
          11.965812591769946,
          11.948399742164248,
          11.933121647496801,
          11.920040698885703,
          11.909210894585106,
          11.900677590771226,
          11.89447728246055,
          11.890637416014803,
          11.889176234622633,
          11.89010265806886,
          11.893416198007891,
          11.899106909847923,
          11.90715538222638,
          11.917532764914625,
          11.930200835831384,
          11.94511210766991,
          11.962209974454355,
          11.9814288981371,
          12.002694635132142,
          12.025924502451584,
          12.051027682874826,
          12.077905568335153,
          12.106452140458627,
          12.136554386937986,
          12.168092752172559,
          12.20094162035696,
          12.234969828959436,
          12.270041210298524,
          12.306015158706987,
          12.342747220567936,
          12.380089704322463,
          12.417892307383589,
          12.456002756750292
         ],
         "marker": {
          "color": "rgb(0, 0, 0)",
          "opacity": 0.7,
          "size": 8
         },
         "type": "scattermapbox"
        },
        {
         "lat": [
          41.894588162271,
          41.93110172983183,
          41.441142018532936,
          41.69001548898141,
          41.931171453798434,
          42.18800646071892,
          42.26080009055208,
          41.51086053290235,
          41.897470074733576,
          41.91453312261366,
          42.245822470937725,
          42.174643606343935,
          41.845945873042545,
          42.33210938753214,
          42.261522689631555,
          41.727343314723186,
          42.20972888114726,
          42.12719508788698,
          41.59839600547821,
          42.27453814784578,
          41.51236847219413,
          42.20709550160811,
          41.9216068135425,
          41.946992795274426,
          41.9385582596157,
          42.030557078996274,
          42.0265579387573,
          42.27467766873311,
          41.8834644493306,
          41.629207641618756,
          41.98333707085036,
          41.631550366659745,
          41.9036687204822,
          41.98927035458547,
          41.88167893933681,
          42.24274486505147,
          41.89040447266848,
          41.554103966278404,
          42.00253736117034,
          41.48043832665456,
          41.962593779833504,
          41.99960397735445,
          42.2052643330962,
          41.489162085142624,
          41.458269195118525,
          42.278162411572474,
          41.91585142782943,
          41.939999887340115,
          42.11225729377706,
          41.48333734764484,
          41.84254501075363,
          41.91019540278923,
          41.738567170630866,
          41.67750783408006,
          42.32244649643709,
          41.89129441196008,
          42.00302509625925,
          41.74665662256279,
          42.04710487095003,
          41.75574403882608,
          41.931022398581796,
          41.78916631416245,
          41.54618821237389,
          41.87134141671744,
          41.827036290815805,
          42.13563606995475,
          41.575768323179155,
          42.12707604586569,
          42.13037592717866,
          41.62531777036024,
          41.85184176420225,
          41.83054729801313,
          41.90441599108828,
          41.72124043811663,
          42.216975769806105,
          42.020784349501405,
          41.700352593044514,
          42.23292710327048,
          42.183870475343284,
          42.133880792072645,
          42.12490599504431,
          42.0107437030713,
          42.17603288277379,
          41.825420759277264,
          41.85342563601618,
          42.178152083112536,
          41.77938936220993,
          41.97519673358693,
          41.64552863716385,
          42.13325934388283,
          41.65614159986848,
          41.66716994872885,
          42.20919064502572,
          42.06048651526459,
          41.636041202063396,
          41.617639076414264,
          41.74526650326668,
          42.128212385442886,
          42.22887861405676,
          41.676679635095745
         ],
         "lon": [
          12.266845813356644,
          12.337634085108972,
          12.530743739227809,
          12.81648230665726,
          12.029841024637571,
          12.660183627108767,
          12.383376384384336,
          12.343199518429737,
          13.003413314121229,
          12.132772997206168,
          12.575575113207401,
          12.187744486491896,
          12.986494281468564,
          12.41468744880816,
          12.646013418380335,
          12.649909940352515,
          12.478114677204081,
          12.049491928277677,
          12.616687601937647,
          12.467895274811001,
          12.765259355601296,
          12.860482256378704,
          12.458573016907623,
          12.526466833690764,
          11.90364465114442,
          12.46573009896753,
          12.38869698624231,
          12.19527336258905,
          12.74314876063672,
          12.725070751171431,
          12.752143886642205,
          12.492763320500568,
          12.810926195046614,
          12.369980966430294,
          12.89065875210959,
          12.549448207953981,
          12.576780666396084,
          12.403204785560838,
          12.629889932545364,
          12.437751458859966,
          12.209282255167764,
          12.371456025024884,
          12.343949289854361,
          12.404391400705508,
          12.614908183935983,
          12.199987963394873,
          12.73809202158292,
          12.513977629692416,
          12.063553013012493,
          12.619810594980338,
          12.315360463239974,
          11.9642503382704,
          12.454312954959994,
          12.01159537153243,
          12.411159439938755,
          12.277447084907061,
          12.513125697994328,
          12.674171018310123,
          12.691964139843783,
          11.98141331018171,
          12.291617697398364,
          12.339560586545621,
          12.438742536427604,
          13.090257495933336,
          12.265932234456306,
          12.093671041273387,
          12.182277209850456,
          12.866847177827168,
          12.095426720381564,
          12.483946934066575,
          12.407095473973914,
          12.777705474562334,
          12.68169142611207,
          12.898737392518163,
          12.75729984511056,
          13.031676664067042,
          12.289667573617141,
          12.75282770981043,
          12.910138094434455,
          12.325002423115922,
          12.6081791502521,
          12.50250004921404,
          12.226256087555392,
          12.397167442085752,
          12.253690374525744,
          12.577280403409185,
          12.865658725609258,
          12.001629669172873,
          12.866246660694792,
          12.354294506775773,
          12.468667806430364,
          12.99605136330079,
          12.26565795416815,
          12.114189102378612,
          12.248048292934019,
          12.37149276414664,
          12.757205414673251,
          12.072159985628184,
          12.466051909597379,
          12.645399529050497
         ],
         "marker": {
          "color": "rgb(0, 50, 200)",
          "opacity": 0.9,
          "size": 8
         },
         "type": "scattermapbox"
        }
       ],
       "layout": {
        "mapbox": {
         "style": "open-street-map"
        },
        "template": {
         "data": {
          "bar": [
           {
            "error_x": {
             "color": "#2a3f5f"
            },
            "error_y": {
             "color": "#2a3f5f"
            },
            "marker": {
             "line": {
              "color": "#E5ECF6",
              "width": 0.5
             },
             "pattern": {
              "fillmode": "overlay",
              "size": 10,
              "solidity": 0.2
             }
            },
            "type": "bar"
           }
          ],
          "barpolar": [
           {
            "marker": {
             "line": {
              "color": "#E5ECF6",
              "width": 0.5
             },
             "pattern": {
              "fillmode": "overlay",
              "size": 10,
              "solidity": 0.2
             }
            },
            "type": "barpolar"
           }
          ],
          "carpet": [
           {
            "aaxis": {
             "endlinecolor": "#2a3f5f",
             "gridcolor": "white",
             "linecolor": "white",
             "minorgridcolor": "white",
             "startlinecolor": "#2a3f5f"
            },
            "baxis": {
             "endlinecolor": "#2a3f5f",
             "gridcolor": "white",
             "linecolor": "white",
             "minorgridcolor": "white",
             "startlinecolor": "#2a3f5f"
            },
            "type": "carpet"
           }
          ],
          "choropleth": [
           {
            "colorbar": {
             "outlinewidth": 0,
             "ticks": ""
            },
            "type": "choropleth"
           }
          ],
          "contour": [
           {
            "colorbar": {
             "outlinewidth": 0,
             "ticks": ""
            },
            "colorscale": [
             [
              0,
              "#0d0887"
             ],
             [
              0.1111111111111111,
              "#46039f"
             ],
             [
              0.2222222222222222,
              "#7201a8"
             ],
             [
              0.3333333333333333,
              "#9c179e"
             ],
             [
              0.4444444444444444,
              "#bd3786"
             ],
             [
              0.5555555555555556,
              "#d8576b"
             ],
             [
              0.6666666666666666,
              "#ed7953"
             ],
             [
              0.7777777777777778,
              "#fb9f3a"
             ],
             [
              0.8888888888888888,
              "#fdca26"
             ],
             [
              1,
              "#f0f921"
             ]
            ],
            "type": "contour"
           }
          ],
          "contourcarpet": [
           {
            "colorbar": {
             "outlinewidth": 0,
             "ticks": ""
            },
            "type": "contourcarpet"
           }
          ],
          "heatmap": [
           {
            "colorbar": {
             "outlinewidth": 0,
             "ticks": ""
            },
            "colorscale": [
             [
              0,
              "#0d0887"
             ],
             [
              0.1111111111111111,
              "#46039f"
             ],
             [
              0.2222222222222222,
              "#7201a8"
             ],
             [
              0.3333333333333333,
              "#9c179e"
             ],
             [
              0.4444444444444444,
              "#bd3786"
             ],
             [
              0.5555555555555556,
              "#d8576b"
             ],
             [
              0.6666666666666666,
              "#ed7953"
             ],
             [
              0.7777777777777778,
              "#fb9f3a"
             ],
             [
              0.8888888888888888,
              "#fdca26"
             ],
             [
              1,
              "#f0f921"
             ]
            ],
            "type": "heatmap"
           }
          ],
          "heatmapgl": [
           {
            "colorbar": {
             "outlinewidth": 0,
             "ticks": ""
            },
            "colorscale": [
             [
              0,
              "#0d0887"
             ],
             [
              0.1111111111111111,
              "#46039f"
             ],
             [
              0.2222222222222222,
              "#7201a8"
             ],
             [
              0.3333333333333333,
              "#9c179e"
             ],
             [
              0.4444444444444444,
              "#bd3786"
             ],
             [
              0.5555555555555556,
              "#d8576b"
             ],
             [
              0.6666666666666666,
              "#ed7953"
             ],
             [
              0.7777777777777778,
              "#fb9f3a"
             ],
             [
              0.8888888888888888,
              "#fdca26"
             ],
             [
              1,
              "#f0f921"
             ]
            ],
            "type": "heatmapgl"
           }
          ],
          "histogram": [
           {
            "marker": {
             "pattern": {
              "fillmode": "overlay",
              "size": 10,
              "solidity": 0.2
             }
            },
            "type": "histogram"
           }
          ],
          "histogram2d": [
           {
            "colorbar": {
             "outlinewidth": 0,
             "ticks": ""
            },
            "colorscale": [
             [
              0,
              "#0d0887"
             ],
             [
              0.1111111111111111,
              "#46039f"
             ],
             [
              0.2222222222222222,
              "#7201a8"
             ],
             [
              0.3333333333333333,
              "#9c179e"
             ],
             [
              0.4444444444444444,
              "#bd3786"
             ],
             [
              0.5555555555555556,
              "#d8576b"
             ],
             [
              0.6666666666666666,
              "#ed7953"
             ],
             [
              0.7777777777777778,
              "#fb9f3a"
             ],
             [
              0.8888888888888888,
              "#fdca26"
             ],
             [
              1,
              "#f0f921"
             ]
            ],
            "type": "histogram2d"
           }
          ],
          "histogram2dcontour": [
           {
            "colorbar": {
             "outlinewidth": 0,
             "ticks": ""
            },
            "colorscale": [
             [
              0,
              "#0d0887"
             ],
             [
              0.1111111111111111,
              "#46039f"
             ],
             [
              0.2222222222222222,
              "#7201a8"
             ],
             [
              0.3333333333333333,
              "#9c179e"
             ],
             [
              0.4444444444444444,
              "#bd3786"
             ],
             [
              0.5555555555555556,
              "#d8576b"
             ],
             [
              0.6666666666666666,
              "#ed7953"
             ],
             [
              0.7777777777777778,
              "#fb9f3a"
             ],
             [
              0.8888888888888888,
              "#fdca26"
             ],
             [
              1,
              "#f0f921"
             ]
            ],
            "type": "histogram2dcontour"
           }
          ],
          "mesh3d": [
           {
            "colorbar": {
             "outlinewidth": 0,
             "ticks": ""
            },
            "type": "mesh3d"
           }
          ],
          "parcoords": [
           {
            "line": {
             "colorbar": {
              "outlinewidth": 0,
              "ticks": ""
             }
            },
            "type": "parcoords"
           }
          ],
          "pie": [
           {
            "automargin": true,
            "type": "pie"
           }
          ],
          "scatter": [
           {
            "fillpattern": {
             "fillmode": "overlay",
             "size": 10,
             "solidity": 0.2
            },
            "type": "scatter"
           }
          ],
          "scatter3d": [
           {
            "line": {
             "colorbar": {
              "outlinewidth": 0,
              "ticks": ""
             }
            },
            "marker": {
             "colorbar": {
              "outlinewidth": 0,
              "ticks": ""
             }
            },
            "type": "scatter3d"
           }
          ],
          "scattercarpet": [
           {
            "marker": {
             "colorbar": {
              "outlinewidth": 0,
              "ticks": ""
             }
            },
            "type": "scattercarpet"
           }
          ],
          "scattergeo": [
           {
            "marker": {
             "colorbar": {
              "outlinewidth": 0,
              "ticks": ""
             }
            },
            "type": "scattergeo"
           }
          ],
          "scattergl": [
           {
            "marker": {
             "colorbar": {
              "outlinewidth": 0,
              "ticks": ""
             }
            },
            "type": "scattergl"
           }
          ],
          "scattermapbox": [
           {
            "marker": {
             "colorbar": {
              "outlinewidth": 0,
              "ticks": ""
             }
            },
            "type": "scattermapbox"
           }
          ],
          "scatterpolar": [
           {
            "marker": {
             "colorbar": {
              "outlinewidth": 0,
              "ticks": ""
             }
            },
            "type": "scatterpolar"
           }
          ],
          "scatterpolargl": [
           {
            "marker": {
             "colorbar": {
              "outlinewidth": 0,
              "ticks": ""
             }
            },
            "type": "scatterpolargl"
           }
          ],
          "scatterternary": [
           {
            "marker": {
             "colorbar": {
              "outlinewidth": 0,
              "ticks": ""
             }
            },
            "type": "scatterternary"
           }
          ],
          "surface": [
           {
            "colorbar": {
             "outlinewidth": 0,
             "ticks": ""
            },
            "colorscale": [
             [
              0,
              "#0d0887"
             ],
             [
              0.1111111111111111,
              "#46039f"
             ],
             [
              0.2222222222222222,
              "#7201a8"
             ],
             [
              0.3333333333333333,
              "#9c179e"
             ],
             [
              0.4444444444444444,
              "#bd3786"
             ],
             [
              0.5555555555555556,
              "#d8576b"
             ],
             [
              0.6666666666666666,
              "#ed7953"
             ],
             [
              0.7777777777777778,
              "#fb9f3a"
             ],
             [
              0.8888888888888888,
              "#fdca26"
             ],
             [
              1,
              "#f0f921"
             ]
            ],
            "type": "surface"
           }
          ],
          "table": [
           {
            "cells": {
             "fill": {
              "color": "#EBF0F8"
             },
             "line": {
              "color": "white"
             }
            },
            "header": {
             "fill": {
              "color": "#C8D4E3"
             },
             "line": {
              "color": "white"
             }
            },
            "type": "table"
           }
          ]
         },
         "layout": {
          "annotationdefaults": {
           "arrowcolor": "#2a3f5f",
           "arrowhead": 0,
           "arrowwidth": 1
          },
          "autotypenumbers": "strict",
          "coloraxis": {
           "colorbar": {
            "outlinewidth": 0,
            "ticks": ""
           }
          },
          "colorscale": {
           "diverging": [
            [
             0,
             "#8e0152"
            ],
            [
             0.1,
             "#c51b7d"
            ],
            [
             0.2,
             "#de77ae"
            ],
            [
             0.3,
             "#f1b6da"
            ],
            [
             0.4,
             "#fde0ef"
            ],
            [
             0.5,
             "#f7f7f7"
            ],
            [
             0.6,
             "#e6f5d0"
            ],
            [
             0.7,
             "#b8e186"
            ],
            [
             0.8,
             "#7fbc41"
            ],
            [
             0.9,
             "#4d9221"
            ],
            [
             1,
             "#276419"
            ]
           ],
           "sequential": [
            [
             0,
             "#0d0887"
            ],
            [
             0.1111111111111111,
             "#46039f"
            ],
            [
             0.2222222222222222,
             "#7201a8"
            ],
            [
             0.3333333333333333,
             "#9c179e"
            ],
            [
             0.4444444444444444,
             "#bd3786"
            ],
            [
             0.5555555555555556,
             "#d8576b"
            ],
            [
             0.6666666666666666,
             "#ed7953"
            ],
            [
             0.7777777777777778,
             "#fb9f3a"
            ],
            [
             0.8888888888888888,
             "#fdca26"
            ],
            [
             1,
             "#f0f921"
            ]
           ],
           "sequentialminus": [
            [
             0,
             "#0d0887"
            ],
            [
             0.1111111111111111,
             "#46039f"
            ],
            [
             0.2222222222222222,
             "#7201a8"
            ],
            [
             0.3333333333333333,
             "#9c179e"
            ],
            [
             0.4444444444444444,
             "#bd3786"
            ],
            [
             0.5555555555555556,
             "#d8576b"
            ],
            [
             0.6666666666666666,
             "#ed7953"
            ],
            [
             0.7777777777777778,
             "#fb9f3a"
            ],
            [
             0.8888888888888888,
             "#fdca26"
            ],
            [
             1,
             "#f0f921"
            ]
           ]
          },
          "colorway": [
           "#636efa",
           "#EF553B",
           "#00cc96",
           "#ab63fa",
           "#FFA15A",
           "#19d3f3",
           "#FF6692",
           "#B6E880",
           "#FF97FF",
           "#FECB52"
          ],
          "font": {
           "color": "#2a3f5f"
          },
          "geo": {
           "bgcolor": "white",
           "lakecolor": "white",
           "landcolor": "#E5ECF6",
           "showlakes": true,
           "showland": true,
           "subunitcolor": "white"
          },
          "hoverlabel": {
           "align": "left"
          },
          "hovermode": "closest",
          "mapbox": {
           "style": "light"
          },
          "paper_bgcolor": "white",
          "plot_bgcolor": "#E5ECF6",
          "polar": {
           "angularaxis": {
            "gridcolor": "white",
            "linecolor": "white",
            "ticks": ""
           },
           "bgcolor": "#E5ECF6",
           "radialaxis": {
            "gridcolor": "white",
            "linecolor": "white",
            "ticks": ""
           }
          },
          "scene": {
           "xaxis": {
            "backgroundcolor": "#E5ECF6",
            "gridcolor": "white",
            "gridwidth": 2,
            "linecolor": "white",
            "showbackground": true,
            "ticks": "",
            "zerolinecolor": "white"
           },
           "yaxis": {
            "backgroundcolor": "#E5ECF6",
            "gridcolor": "white",
            "gridwidth": 2,
            "linecolor": "white",
            "showbackground": true,
            "ticks": "",
            "zerolinecolor": "white"
           },
           "zaxis": {
            "backgroundcolor": "#E5ECF6",
            "gridcolor": "white",
            "gridwidth": 2,
            "linecolor": "white",
            "showbackground": true,
            "ticks": "",
            "zerolinecolor": "white"
           }
          },
          "shapedefaults": {
           "line": {
            "color": "#2a3f5f"
           }
          },
          "ternary": {
           "aaxis": {
            "gridcolor": "white",
            "linecolor": "white",
            "ticks": ""
           },
           "baxis": {
            "gridcolor": "white",
            "linecolor": "white",
            "ticks": ""
           },
           "bgcolor": "#E5ECF6",
           "caxis": {
            "gridcolor": "white",
            "linecolor": "white",
            "ticks": ""
           }
          },
          "title": {
           "x": 0.05
          },
          "xaxis": {
           "automargin": true,
           "gridcolor": "white",
           "linecolor": "white",
           "ticks": "",
           "title": {
            "standoff": 15
           },
           "zerolinecolor": "white",
           "zerolinewidth": 2
          },
          "yaxis": {
           "automargin": true,
           "gridcolor": "white",
           "linecolor": "white",
           "ticks": "",
           "title": {
            "standoff": 15
           },
           "zerolinecolor": "white",
           "zerolinewidth": 2
          }
         }
        }
       }
      }
     },
     "metadata": {},
     "output_type": "display_data"
    },
    {
     "data": {
      "text/plain": [
       "[(41.894588162271, 12.266845813356644),\n",
       " (41.93110172983183, 12.337634085108972),\n",
       " (41.441142018532936, 12.530743739227809),\n",
       " (41.69001548898141, 12.81648230665726),\n",
       " (41.931171453798434, 12.029841024637571),\n",
       " (42.18800646071892, 12.660183627108767),\n",
       " (42.26080009055208, 12.383376384384336),\n",
       " (41.51086053290235, 12.343199518429737),\n",
       " (41.897470074733576, 13.003413314121229),\n",
       " (41.91453312261366, 12.132772997206168),\n",
       " (42.245822470937725, 12.575575113207401),\n",
       " (42.174643606343935, 12.187744486491896),\n",
       " (41.845945873042545, 12.986494281468564),\n",
       " (42.33210938753214, 12.41468744880816),\n",
       " (42.261522689631555, 12.646013418380335),\n",
       " (41.727343314723186, 12.649909940352515),\n",
       " (42.20972888114726, 12.478114677204081),\n",
       " (42.12719508788698, 12.049491928277677),\n",
       " (41.59839600547821, 12.616687601937647),\n",
       " (42.27453814784578, 12.467895274811001),\n",
       " (41.51236847219413, 12.765259355601296),\n",
       " (42.20709550160811, 12.860482256378704),\n",
       " (41.9216068135425, 12.458573016907623),\n",
       " (41.946992795274426, 12.526466833690764),\n",
       " (41.9385582596157, 11.90364465114442),\n",
       " (42.030557078996274, 12.46573009896753),\n",
       " (42.0265579387573, 12.38869698624231),\n",
       " (42.27467766873311, 12.19527336258905),\n",
       " (41.8834644493306, 12.74314876063672),\n",
       " (41.629207641618756, 12.725070751171431),\n",
       " (41.98333707085036, 12.752143886642205),\n",
       " (41.631550366659745, 12.492763320500568),\n",
       " (41.9036687204822, 12.810926195046614),\n",
       " (41.98927035458547, 12.369980966430294),\n",
       " (41.88167893933681, 12.89065875210959),\n",
       " (42.24274486505147, 12.549448207953981),\n",
       " (41.89040447266848, 12.576780666396084),\n",
       " (41.554103966278404, 12.403204785560838),\n",
       " (42.00253736117034, 12.629889932545364),\n",
       " (41.48043832665456, 12.437751458859966),\n",
       " (41.962593779833504, 12.209282255167764),\n",
       " (41.99960397735445, 12.371456025024884),\n",
       " (42.2052643330962, 12.343949289854361),\n",
       " (41.489162085142624, 12.404391400705508),\n",
       " (41.458269195118525, 12.614908183935983),\n",
       " (42.278162411572474, 12.199987963394873),\n",
       " (41.91585142782943, 12.73809202158292),\n",
       " (41.939999887340115, 12.513977629692416),\n",
       " (42.11225729377706, 12.063553013012493),\n",
       " (41.48333734764484, 12.619810594980338),\n",
       " (41.84254501075363, 12.315360463239974),\n",
       " (41.91019540278923, 11.9642503382704),\n",
       " (41.738567170630866, 12.454312954959994),\n",
       " (41.67750783408006, 12.01159537153243),\n",
       " (42.32244649643709, 12.411159439938755),\n",
       " (41.89129441196008, 12.277447084907061),\n",
       " (42.00302509625925, 12.513125697994328),\n",
       " (41.74665662256279, 12.674171018310123),\n",
       " (42.04710487095003, 12.691964139843783),\n",
       " (41.75574403882608, 11.98141331018171),\n",
       " (41.931022398581796, 12.291617697398364),\n",
       " (41.78916631416245, 12.339560586545621),\n",
       " (41.54618821237389, 12.438742536427604),\n",
       " (41.87134141671744, 13.090257495933336),\n",
       " (41.827036290815805, 12.265932234456306),\n",
       " (42.13563606995475, 12.093671041273387),\n",
       " (41.575768323179155, 12.182277209850456),\n",
       " (42.12707604586569, 12.866847177827168),\n",
       " (42.13037592717866, 12.095426720381564),\n",
       " (41.62531777036024, 12.483946934066575),\n",
       " (41.85184176420225, 12.407095473973914),\n",
       " (41.83054729801313, 12.777705474562334),\n",
       " (41.90441599108828, 12.68169142611207),\n",
       " (41.72124043811663, 12.898737392518163),\n",
       " (42.216975769806105, 12.75729984511056),\n",
       " (42.020784349501405, 13.031676664067042),\n",
       " (41.700352593044514, 12.289667573617141),\n",
       " (42.23292710327048, 12.75282770981043),\n",
       " (42.183870475343284, 12.910138094434455),\n",
       " (42.133880792072645, 12.325002423115922),\n",
       " (42.12490599504431, 12.6081791502521),\n",
       " (42.0107437030713, 12.50250004921404),\n",
       " (42.17603288277379, 12.226256087555392),\n",
       " (41.825420759277264, 12.397167442085752),\n",
       " (41.85342563601618, 12.253690374525744),\n",
       " (42.178152083112536, 12.577280403409185),\n",
       " (41.77938936220993, 12.865658725609258),\n",
       " (41.97519673358693, 12.001629669172873),\n",
       " (41.64552863716385, 12.866246660694792),\n",
       " (42.13325934388283, 12.354294506775773),\n",
       " (41.65614159986848, 12.468667806430364),\n",
       " (41.66716994872885, 12.99605136330079),\n",
       " (42.20919064502572, 12.26565795416815),\n",
       " (42.06048651526459, 12.114189102378612),\n",
       " (41.636041202063396, 12.248048292934019),\n",
       " (41.617639076414264, 12.37149276414664),\n",
       " (41.74526650326668, 12.757205414673251),\n",
       " (42.128212385442886, 12.072159985628184),\n",
       " (42.22887861405676, 12.466051909597379),\n",
       " (41.676679635095745, 12.645399529050497)]"
      ]
     },
     "execution_count": 42,
     "metadata": {},
     "output_type": "execute_result"
    }
   ],
   "source": [
    "#TEST and view point on map\n",
    "get_rnd_point_on_circle_and_print_map(math.radians(41.89055634),math.radians(12.49426746), math.radians(50/111), 100)\n"
   ]
  },
  {
   "cell_type": "code",
   "execution_count": 43,
   "metadata": {},
   "outputs": [],
   "source": [
    "def get_address_by_lat_and_long(api_key_bing, url, lat, lon):\n",
    "    '''return address and postal code near point idenitified by latitude and longitude'''\n",
    "    list_of_results = []\n",
    "    url = f\"{url}{lat},{lon}\"\n",
    "\n",
    "    # Definisco i parametri della richiesta inversa\n",
    "    params = {\n",
    "        \"includeEntityTypes\":  \"Address\",\n",
    "        \"includeNeighborhood\": 1,\n",
    "        \"key\": api_key_bing\n",
    "    }\n",
    "\n",
    "    # Invio la richiesta inversa e ottengo la risposta\n",
    "    response = requests.get(url, params=params)\n",
    "    \n",
    "    # Controllo se la richiesta inversa è andata a buon fine\n",
    "    if response.status_code == 200:\n",
    "        data = None\n",
    "        data_status_code = None\n",
    "\n",
    "        # Estraggo i dati JSON dalla risposta inversa\n",
    "        try:\n",
    "            data = response.json()\n",
    "            data_status_code =  data[\"statusCode\"]\n",
    "        except Exception as err:\n",
    "            print(f'{err=}')\n",
    "        \n",
    "        # Controllo se ci sono risultati validi\n",
    "        if data_status_code == 200 and data[\"resourceSets\"][0][\"estimatedTotal\"] > 0:\n",
    "            \n",
    "            # Estraggo tutti i risultati (i numeri civici)\n",
    "            results = data[\"resourceSets\"][0][\"resources\"]\n",
    "            # Per ogni risultato, estraggo e stampo il numero civico e l'indirizzo completo\n",
    "            for result in results:\n",
    "                indirizzo_e_numero_civico = result[\"address\"][\"addressLine\"]\n",
    "                numero_civico = [int(s) for s in re.findall(r' \\d+', indirizzo_e_numero_civico)]\n",
    "                indirizzo_completo = result[\"address\"][\"formattedAddress\"]\n",
    "                regione = result[\"address\"][\"adminDistrict\"]\n",
    "                provincia = result[\"address\"][\"adminDistrict2\"]\n",
    "                comune = result[\"address\"][\"locality\"]\n",
    "                coordinate = result[\"geocodePoints\"][0][\"coordinates\"]\n",
    "                #print(data[\"resourceSets\"][0])\n",
    " \n",
    "                list_of_results.append( ( regione, provincia, comune, indirizzo_completo, indirizzo_e_numero_civico, numero_civico, coordinate))\n",
    "            \n",
    "        else:\n",
    "            #print(f\"Non sono stati trovati risultati validi, la richiesta alla mappe bing ha risposto con stato={data_status_code}\")\n",
    "            return data_status_code\n",
    "    else:\n",
    "        #print(f\"Errore nella richiesta di recupero indirizzi: {response.status_code}\")\n",
    "        return data_status_code\n",
    "\n",
    "\n",
    "    return list_of_results"
   ]
  },
  {
   "cell_type": "code",
   "execution_count": 44,
   "metadata": {},
   "outputs": [],
   "source": [
    "def find_only_address_in_town_and_with_number(api_key_bing,url, points_for_request, town_ref, provinces, towns, address_complete,address_lite, latitudes, longitudes, response_errors ):    \n",
    "    with IncrementalBar('recupero indirizzi...', max=len(points_for_request)) as p_bar:\n",
    "        for item_lat, item_lng in points_for_request:\n",
    "\n",
    "            address_response = get_address_by_lat_and_long(api_key_bing,url, item_lat,  item_lng)\n",
    "\n",
    "            if (isinstance(address_response, list) and len(address_response)>0):\n",
    "                for ( _, provincia_resp, comune_resp,  indirizzo_completo_resp, indirizzo_e_numero_civico_resp, numero_civico_resp, coordinate_resp) in address_response:\n",
    "                    if indirizzo_completo_resp and comune_resp == town_ref and len(numero_civico_resp)>0 and numero_civico_resp[0] > 0 :\n",
    "                        provinces.append(provincia_resp)\n",
    "                        towns.append(comune_resp)\n",
    "                        address_complete.append(indirizzo_completo_resp)\n",
    "                        address_lite.append(indirizzo_e_numero_civico_resp)\n",
    "                        latitudes.append(coordinate_resp[0])\n",
    "                        longitudes.append(coordinate_resp[1])\n",
    "            else:\n",
    "                response_errors.append(address_response)\n",
    "\n",
    "\n",
    "            p_bar.next()"
   ]
  },
  {
   "cell_type": "code",
   "execution_count": 47,
   "metadata": {},
   "outputs": [],
   "source": [
    "def recover_address_in_a_town ( api_key_bing, url,  town_req, radius = 10, precision=10, num_threads=2 ):\n",
    "    '''retrieve ddress_number from a city name using bing maps api'''\n",
    "\n",
    "    provinces = []\n",
    "    towns = []\n",
    "    address_complete = []\n",
    "    address_lite = []\n",
    "    latitudes = []\n",
    "    longitueds = []\n",
    "    response_errors = []\n",
    "\n",
    "    # Definisco i parametri della richiesta\n",
    "    params = {\n",
    "        \"locality\": town_req,\n",
    "        \"key\": api_key_bing\n",
    "    }\n",
    "\n",
    "    # Invio la richiesta e ottengo la risposta\n",
    "    response = requests.get(url, params=params)\n",
    "\n",
    "    # Controllo se la richiesta è andata a buon fine\n",
    "    if response.status_code == 200:\n",
    "        # Estraggo i dati JSON dalla risposta\n",
    "        data = None\n",
    "        data_status_code = None\n",
    "        try:\n",
    "            data = response.json()\n",
    "            data_status_code = data[\"statusCode\"]\n",
    "        except Exception as err:\n",
    "            print(f'{err=}')\n",
    "\n",
    "        # Controllo se ci sono risultati validi\n",
    "        if data_status_code == 200 and data[\"resourceSets\"][0][\"estimatedTotal\"] > 0:\n",
    "            \n",
    "            # Estraggo il primo risultato (il più rilevante)\n",
    "            result = data[\"resourceSets\"][0][\"resources\"][0]\n",
    "\n",
    "            # Estraggo le coordinate geografiche del comune\n",
    "            lat = result[\"point\"][\"coordinates\"][0]\n",
    "            lng = result[\"point\"][\"coordinates\"][1]\n",
    "\n",
    "            # Stampo le coordinate geografiche della regione\n",
    "            print(f\"Le coordinate geografiche di riferimento usate per {town_req} sono: {lat}, {lng}\")\n",
    "            points = []\n",
    "            #recupero il admmin_district_ref della regione per filtare successivamente eventuali punti di altri regioni\n",
    "            (_, _,  town_ref,  _, _, _, _ ) = get_address_by_lat_and_long(api_key_bing,url, lat, lng)[0]\n",
    "\n",
    "            if town_ref:\n",
    "                points = get_rnd_point_on_circle_and_print_map(math.radians(lat), math.radians(lng), math.radians(radius), precision)\n",
    "                #find_only_address_of_privince_and_with_number(api_key_bing,url, points, provincie_ref, provinces, towns, address_complete,address_lite, latitudes, longitueds )\n",
    "\n",
    "\n",
    "                user_ctrl =input('in base ai punti visualizzati sulla mappa nel browser, vuoi procedere con le richieste per ottenere gli indirizzi? (s/n)')\n",
    "                if(user_ctrl == 's' or user_ctrl == 'S'):\n",
    "                    diveded_points = list(more_itertools.chunked(points, len(points) // num_threads))\n",
    "                    threads = list()\n",
    "\n",
    "                    for sub_points in diveded_points: \n",
    "                        t = threading.Thread(target=find_only_address_in_town_and_with_number,args=\n",
    "                                                (api_key_bing,\n",
    "                                                url,\n",
    "                                                sub_points,\n",
    "                                                town_ref,\n",
    "                                                provinces,\n",
    "                                                towns,\n",
    "                                                address_complete,\n",
    "                                                address_lite,\n",
    "                                                latitudes,\n",
    "                                                longitueds,\n",
    "                                                response_errors )\n",
    "                                                )\n",
    "                        \n",
    "                        threads.append(t)\n",
    "                        t.start()\n",
    "                    \n",
    "                    for t in threads:\n",
    "                        t.join()\n",
    "\n",
    "            else:\n",
    "                print(f\"Fallito recupero informazioni in {town_ref}, codice risposta http: {data_status_code}\")\n",
    "                \n",
    "        else:\n",
    "            # Stampo un messaggio di errore se non ci sono risultati validi\n",
    "            print(f\"Nessun risultato trovato in {town_ref}\")\n",
    "    else:\n",
    "        # Stampo un messaggio di errore se la richiesta non è andata a buon fine\n",
    "        print(f\"Errore nella richiesta: {response.status_code}\")\n",
    "\n",
    "        \n",
    "    df_address_region = pd.DataFrame()\n",
    "    df_address_region['Provincia'] = provinces\n",
    "    df_address_region['Comune'] = towns\n",
    "    df_address_region['Indirizzo completo'] = address_complete\n",
    "    df_address_region['Indirizzo'] = address_lite\n",
    "    df_address_region['latitudine'] = latitudes\n",
    "    df_address_region['longitudine'] = longitueds\n",
    "\n",
    "    if len(response_errors)> 0:\n",
    "        print(f\"{len(response_errors)} su {precision} richieste non hanno dato risposta\")\n",
    "        print(f\"{precision - (len(response_errors) + len(address_complete))} su {precision} richieste hanno risposto con un indirizzo NON valido\")\n",
    "\n",
    "    df_address_region.drop_duplicates(inplace=True)\n",
    "    # Stampo il numero dei risultati trovati\n",
    "    if len(address_complete)> 0:\n",
    "        print(f\"Trovati {len(address_complete)} numeri civici (senza duplicati) all'interno di un cerchio di raggio {radius*111} km con centro {town_ref} ({lat}, {lng})\")\n",
    "\n",
    "    #rimozione indirizzi duplicati\n",
    "    df_address_region.drop_duplicates(inplace=True)\n",
    "    df_address_region.sort_values(by=['Comune', 'Indirizzo completo'], inplace=True)\n",
    "    return df_address_region\n"
   ]
  },
  {
   "cell_type": "code",
   "execution_count": 48,
   "metadata": {},
   "outputs": [
    {
     "name": "stdout",
     "output_type": "stream",
     "text": [
      "Le coordinate geografiche di riferimento usate per Alatri sono: 41.72649384, 13.34210968\n"
     ]
    },
    {
     "data": {
      "application/vnd.plotly.v1+json": {
       "config": {
        "plotlyServerURL": "https://plot.ly"
       },
       "data": [
        {
         "lat": [
          41.816583930090104,
          41.81640590834863,
          41.81587254865683,
          41.814985964781144,
          41.813749670239304,
          41.81216856420252,
          41.810248911841775,
          41.80799831920075,
          41.80542570270115,
          41.802541253408315,
          41.79935639620684,
          41.79588374405712,
          41.792137047523624,
          41.788131139785314,
          41.7838818773567,
          41.779406076765135,
          41.774721447446325,
          41.769846521134205,
          41.76480057803575,
          41.75960357009245,
          41.75427604164188,
          41.74883904780173,
          41.743314070906855,
          41.737722935336436,
          41.7320877210734,
          41.72643067634229,
          41.720774129673345,
          41.71514040174218,
          41.70955171733328,
          41.70403011777376,
          41.69859737418085,
          41.69327490186116,
          41.688083676194985,
          41.68304415033074,
          41.67817617500704,
          41.67349892081032,
          41.66903080316497,
          41.66478941034246,
          41.66079143476191,
          41.657052607842985,
          41.653587638655935,
          41.650410156599925,
          41.64753265832434,
          41.64496645909141,
          41.64272164876158,
          41.64080705256524,
          41.63923019680659,
          41.63799727962641,
          41.63711314693231,
          41.63658127358495,
          41.63640374990992,
          41.63658127358495,
          41.63711314693231,
          41.63799727962641,
          41.63923019680659,
          41.64080705256524,
          41.64272164876158,
          41.64496645909141,
          41.64753265832434,
          41.650410156599925,
          41.653587638655935,
          41.657052607842985,
          41.66079143476191,
          41.66478941034246,
          41.66903080316497,
          41.67349892081032,
          41.67817617500704,
          41.68304415033074,
          41.688083676194985,
          41.69327490186116,
          41.69859737418085,
          41.70403011777376,
          41.70955171733328,
          41.71514040174218,
          41.720774129673345,
          41.72643067634229,
          41.7320877210734,
          41.737722935336436,
          41.743314070906855,
          41.74883904780173,
          41.75427604164188,
          41.75960357009245,
          41.76480057803575,
          41.769846521134205,
          41.774721447446325,
          41.779406076765135,
          41.7838818773567,
          41.788131139785314,
          41.792137047523624,
          41.79588374405712,
          41.79935639620684,
          41.802541253408315,
          41.80542570270115,
          41.80799831920075,
          41.810248911841775,
          41.81216856420252,
          41.813749670239304,
          41.814985964781144,
          41.81587254865683,
          41.81640590834863
         ],
         "lon": [
          13.34210968,
          13.349699797022765,
          13.357259833285173,
          13.364759828741706,
          13.372170064268127,
          13.379461180853712,
          13.386604297278424,
          13.393571125781742,
          13.4003340852397,
          13.40686641137907,
          13.413142263571995,
          13.41913682777117,
          13.424826415164269,
          13.43018855614696,
          13.43520208923617,
          13.43984724456923,
          13.444105721659923,
          13.447960761109139,
          13.451397209995585,
          13.454401580700802,
          13.456962102952112,
          13.459068768897291,
          13.460713371055158,
          13.461889533017102,
          13.462592732805291,
          13.462820318824193,
          13.462571518372457,
          13.46184743871254,
          13.460651060725054,
          13.458987225204039,
          13.456862611877698,
          13.45428571126677,
          13.451266789519398,
          13.447817846387085,
          13.443952566531003,
          13.439686264371487,
          13.43503582271599,
          13.430019625421995,
          13.424657484371366,
          13.418970561051445,
          13.412981283055638,
          13.406713255832486,
          13.400191170027178,
          13.393440704773097,
          13.386488427303403,
          13.379361689263767,
          13.372088520117199,
          13.364697518040536,
          13.357217738719473,
          13.349678582455125,
          13.34210968,
          13.334540777544875,
          13.327001621280527,
          13.319521841959466,
          13.312130839882801,
          13.304857670736235,
          13.297730932696597,
          13.290778655226903,
          13.284028189972823,
          13.277506104167514,
          13.271238076944362,
          13.265248798948557,
          13.259561875628634,
          13.254199734578005,
          13.24918353728401,
          13.244533095628514,
          13.240266793468997,
          13.236401513612915,
          13.232952570480602,
          13.22993364873323,
          13.227356748122302,
          13.225232134795961,
          13.223568299274946,
          13.22237192128746,
          13.221647841627544,
          13.221399041175808,
          13.22162662719471,
          13.222329826982898,
          13.223505988944842,
          13.22515059110271,
          13.227257257047889,
          13.229817779299198,
          13.232822150004415,
          13.236258598890862,
          13.240113638340077,
          13.244372115430771,
          13.24901727076383,
          13.25403080385304,
          13.259392944835731,
          13.26508253222883,
          13.271077096428005,
          13.27735294862093,
          13.2838852747603,
          13.29064823421826,
          13.297615062721576,
          13.30475817914629,
          13.312049295731873,
          13.319459531258294,
          13.326959526714827,
          13.334519562977235
         ],
         "marker": {
          "color": "rgb(0, 0, 0)",
          "opacity": 0.7,
          "size": 8
         },
         "type": "scattermapbox"
        },
        {
         "lat": [
          41.692871453581176,
          41.70089880906798,
          41.80362618706137,
          41.803341347433474,
          41.70210568378753,
          41.69944181001048,
          41.767269153356565,
          41.68376871798901,
          41.759808539858746,
          41.72621735578936,
          41.76630880309182,
          41.73793533895588,
          41.74564353668188,
          41.69358168300105,
          41.71709904992445,
          41.74805010638069,
          41.78248051223322,
          41.682815260728894,
          41.70032135413247,
          41.67595196126125,
          41.70655017394275,
          41.71494218939127,
          41.80762614447912,
          41.71157911092309,
          41.65277391497806,
          41.7051686559817,
          41.698300971370664,
          41.80721835957653,
          41.68694213672672,
          41.7802810562528,
          41.78167719233032,
          41.69641999495588,
          41.7711039010579,
          41.68691431719146,
          41.747561657355355,
          41.7626781483933,
          41.6822753679486,
          41.78568094456255,
          41.7714246443882,
          41.7027075282289,
          41.768134300161535,
          41.65599595001567,
          41.671295352975896,
          41.79541447269208,
          41.680053894197215,
          41.71960757027557,
          41.782793133479416,
          41.794766158939325,
          41.66575084261061,
          41.66798714906005,
          41.749043243640976,
          41.64612213548814,
          41.68024944974235,
          41.66537193761185,
          41.75082768568831,
          41.76053096793633,
          41.77814996500545,
          41.71590119595509,
          41.72828367831166,
          41.64993576870838,
          41.78396754747422,
          41.76678707617411,
          41.78347571126303,
          41.790480732635565,
          41.727465563035885,
          41.7657942612789,
          41.65829298714582,
          41.6695795223826,
          41.68230939649804,
          41.69792543430305,
          41.76596606497321,
          41.709546880626576,
          41.75640041173976,
          41.69743936122749,
          41.75205206232129,
          41.73449890393371,
          41.76991886472133,
          41.64699496267307,
          41.652223684395686,
          41.69899291074252,
          41.73998281303049,
          41.75381978655724,
          41.678064822776,
          41.76086291752256,
          41.675015815428495,
          41.74515176160123,
          41.71227311946022,
          41.72377718062701,
          41.641887037822,
          41.72157045671991,
          41.68111322435157,
          41.67506262531377,
          41.75036459486206,
          41.68820358269256,
          41.716586370937385,
          41.72195469148634,
          41.76986388005443,
          41.68940087305858,
          41.71867964256508,
          41.68604690427791
         ],
         "lon": [
          13.362129771587098,
          13.229181548268073,
          13.372069907843194,
          13.284618359120199,
          13.381930750804875,
          13.44905624702236,
          13.447829613771834,
          13.421289735571245,
          13.237472572201673,
          13.239903711517638,
          13.317241427337029,
          13.456733278969793,
          13.337774550004069,
          13.275400680471138,
          13.360963446658928,
          13.277119859292249,
          13.411474496039249,
          13.272555413465817,
          13.261037434293574,
          13.404076800904148,
          13.438367015353256,
          13.275144343088469,
          13.333099401599332,
          13.424591713310521,
          13.376945861357193,
          13.225907345449713,
          13.244984232419139,
          13.375498143707658,
          13.347528469725948,
          13.425458838458942,
          13.312544928131167,
          13.3327965916216,
          13.435968061765715,
          13.247375682576106,
          13.382093045506835,
          13.296893090180076,
          13.42587986805511,
          13.288974806437993,
          13.245189087195714,
          13.334102938192359,
          13.268894348030985,
          13.398614355565252,
          13.372452184885503,
          13.354236111795302,
          13.314587687858328,
          13.352018377920537,
          13.255514649270564,
          13.34543254038248,
          13.34462942766627,
          13.383697769242024,
          13.398628892448029,
          13.350565258682016,
          13.39519379845818,
          13.359637563873699,
          13.270509322495057,
          13.324209494142393,
          13.420221239400503,
          13.38832481187292,
          13.300564143585188,
          13.331924796130416,
          13.339296952815737,
          13.274078918253844,
          13.27456253608713,
          13.280960438002309,
          13.411489804365603,
          13.32905151169107,
          13.374635871857615,
          13.388167446773288,
          13.279290118471174,
          13.317134595888552,
          13.308128316902692,
          13.40172504436002,
          13.298598598830537,
          13.319703240865223,
          13.413556036546401,
          13.367404786898282,
          13.395558350566553,
          13.394743030165015,
          13.36546816913208,
          13.444221201977333,
          13.313645420253366,
          13.29938336480296,
          13.38427507357889,
          13.253809803055258,
          13.384499828764936,
          13.452310827820671,
          13.312020545774253,
          13.265929665010493,
          13.322677656240357,
          13.291753376017857,
          13.425215068115646,
          13.327181121611618,
          13.376608499117557,
          13.420222471548268,
          13.389234415504676,
          13.364571777090923,
          13.36731688271433,
          13.357495437620512,
          13.339180640519519,
          13.448608018721345
         ],
         "marker": {
          "color": "rgb(0, 50, 200)",
          "opacity": 0.9,
          "size": 8
         },
         "type": "scattermapbox"
        }
       ],
       "layout": {
        "mapbox": {
         "style": "open-street-map"
        },
        "template": {
         "data": {
          "bar": [
           {
            "error_x": {
             "color": "#2a3f5f"
            },
            "error_y": {
             "color": "#2a3f5f"
            },
            "marker": {
             "line": {
              "color": "#E5ECF6",
              "width": 0.5
             },
             "pattern": {
              "fillmode": "overlay",
              "size": 10,
              "solidity": 0.2
             }
            },
            "type": "bar"
           }
          ],
          "barpolar": [
           {
            "marker": {
             "line": {
              "color": "#E5ECF6",
              "width": 0.5
             },
             "pattern": {
              "fillmode": "overlay",
              "size": 10,
              "solidity": 0.2
             }
            },
            "type": "barpolar"
           }
          ],
          "carpet": [
           {
            "aaxis": {
             "endlinecolor": "#2a3f5f",
             "gridcolor": "white",
             "linecolor": "white",
             "minorgridcolor": "white",
             "startlinecolor": "#2a3f5f"
            },
            "baxis": {
             "endlinecolor": "#2a3f5f",
             "gridcolor": "white",
             "linecolor": "white",
             "minorgridcolor": "white",
             "startlinecolor": "#2a3f5f"
            },
            "type": "carpet"
           }
          ],
          "choropleth": [
           {
            "colorbar": {
             "outlinewidth": 0,
             "ticks": ""
            },
            "type": "choropleth"
           }
          ],
          "contour": [
           {
            "colorbar": {
             "outlinewidth": 0,
             "ticks": ""
            },
            "colorscale": [
             [
              0,
              "#0d0887"
             ],
             [
              0.1111111111111111,
              "#46039f"
             ],
             [
              0.2222222222222222,
              "#7201a8"
             ],
             [
              0.3333333333333333,
              "#9c179e"
             ],
             [
              0.4444444444444444,
              "#bd3786"
             ],
             [
              0.5555555555555556,
              "#d8576b"
             ],
             [
              0.6666666666666666,
              "#ed7953"
             ],
             [
              0.7777777777777778,
              "#fb9f3a"
             ],
             [
              0.8888888888888888,
              "#fdca26"
             ],
             [
              1,
              "#f0f921"
             ]
            ],
            "type": "contour"
           }
          ],
          "contourcarpet": [
           {
            "colorbar": {
             "outlinewidth": 0,
             "ticks": ""
            },
            "type": "contourcarpet"
           }
          ],
          "heatmap": [
           {
            "colorbar": {
             "outlinewidth": 0,
             "ticks": ""
            },
            "colorscale": [
             [
              0,
              "#0d0887"
             ],
             [
              0.1111111111111111,
              "#46039f"
             ],
             [
              0.2222222222222222,
              "#7201a8"
             ],
             [
              0.3333333333333333,
              "#9c179e"
             ],
             [
              0.4444444444444444,
              "#bd3786"
             ],
             [
              0.5555555555555556,
              "#d8576b"
             ],
             [
              0.6666666666666666,
              "#ed7953"
             ],
             [
              0.7777777777777778,
              "#fb9f3a"
             ],
             [
              0.8888888888888888,
              "#fdca26"
             ],
             [
              1,
              "#f0f921"
             ]
            ],
            "type": "heatmap"
           }
          ],
          "heatmapgl": [
           {
            "colorbar": {
             "outlinewidth": 0,
             "ticks": ""
            },
            "colorscale": [
             [
              0,
              "#0d0887"
             ],
             [
              0.1111111111111111,
              "#46039f"
             ],
             [
              0.2222222222222222,
              "#7201a8"
             ],
             [
              0.3333333333333333,
              "#9c179e"
             ],
             [
              0.4444444444444444,
              "#bd3786"
             ],
             [
              0.5555555555555556,
              "#d8576b"
             ],
             [
              0.6666666666666666,
              "#ed7953"
             ],
             [
              0.7777777777777778,
              "#fb9f3a"
             ],
             [
              0.8888888888888888,
              "#fdca26"
             ],
             [
              1,
              "#f0f921"
             ]
            ],
            "type": "heatmapgl"
           }
          ],
          "histogram": [
           {
            "marker": {
             "pattern": {
              "fillmode": "overlay",
              "size": 10,
              "solidity": 0.2
             }
            },
            "type": "histogram"
           }
          ],
          "histogram2d": [
           {
            "colorbar": {
             "outlinewidth": 0,
             "ticks": ""
            },
            "colorscale": [
             [
              0,
              "#0d0887"
             ],
             [
              0.1111111111111111,
              "#46039f"
             ],
             [
              0.2222222222222222,
              "#7201a8"
             ],
             [
              0.3333333333333333,
              "#9c179e"
             ],
             [
              0.4444444444444444,
              "#bd3786"
             ],
             [
              0.5555555555555556,
              "#d8576b"
             ],
             [
              0.6666666666666666,
              "#ed7953"
             ],
             [
              0.7777777777777778,
              "#fb9f3a"
             ],
             [
              0.8888888888888888,
              "#fdca26"
             ],
             [
              1,
              "#f0f921"
             ]
            ],
            "type": "histogram2d"
           }
          ],
          "histogram2dcontour": [
           {
            "colorbar": {
             "outlinewidth": 0,
             "ticks": ""
            },
            "colorscale": [
             [
              0,
              "#0d0887"
             ],
             [
              0.1111111111111111,
              "#46039f"
             ],
             [
              0.2222222222222222,
              "#7201a8"
             ],
             [
              0.3333333333333333,
              "#9c179e"
             ],
             [
              0.4444444444444444,
              "#bd3786"
             ],
             [
              0.5555555555555556,
              "#d8576b"
             ],
             [
              0.6666666666666666,
              "#ed7953"
             ],
             [
              0.7777777777777778,
              "#fb9f3a"
             ],
             [
              0.8888888888888888,
              "#fdca26"
             ],
             [
              1,
              "#f0f921"
             ]
            ],
            "type": "histogram2dcontour"
           }
          ],
          "mesh3d": [
           {
            "colorbar": {
             "outlinewidth": 0,
             "ticks": ""
            },
            "type": "mesh3d"
           }
          ],
          "parcoords": [
           {
            "line": {
             "colorbar": {
              "outlinewidth": 0,
              "ticks": ""
             }
            },
            "type": "parcoords"
           }
          ],
          "pie": [
           {
            "automargin": true,
            "type": "pie"
           }
          ],
          "scatter": [
           {
            "fillpattern": {
             "fillmode": "overlay",
             "size": 10,
             "solidity": 0.2
            },
            "type": "scatter"
           }
          ],
          "scatter3d": [
           {
            "line": {
             "colorbar": {
              "outlinewidth": 0,
              "ticks": ""
             }
            },
            "marker": {
             "colorbar": {
              "outlinewidth": 0,
              "ticks": ""
             }
            },
            "type": "scatter3d"
           }
          ],
          "scattercarpet": [
           {
            "marker": {
             "colorbar": {
              "outlinewidth": 0,
              "ticks": ""
             }
            },
            "type": "scattercarpet"
           }
          ],
          "scattergeo": [
           {
            "marker": {
             "colorbar": {
              "outlinewidth": 0,
              "ticks": ""
             }
            },
            "type": "scattergeo"
           }
          ],
          "scattergl": [
           {
            "marker": {
             "colorbar": {
              "outlinewidth": 0,
              "ticks": ""
             }
            },
            "type": "scattergl"
           }
          ],
          "scattermapbox": [
           {
            "marker": {
             "colorbar": {
              "outlinewidth": 0,
              "ticks": ""
             }
            },
            "type": "scattermapbox"
           }
          ],
          "scatterpolar": [
           {
            "marker": {
             "colorbar": {
              "outlinewidth": 0,
              "ticks": ""
             }
            },
            "type": "scatterpolar"
           }
          ],
          "scatterpolargl": [
           {
            "marker": {
             "colorbar": {
              "outlinewidth": 0,
              "ticks": ""
             }
            },
            "type": "scatterpolargl"
           }
          ],
          "scatterternary": [
           {
            "marker": {
             "colorbar": {
              "outlinewidth": 0,
              "ticks": ""
             }
            },
            "type": "scatterternary"
           }
          ],
          "surface": [
           {
            "colorbar": {
             "outlinewidth": 0,
             "ticks": ""
            },
            "colorscale": [
             [
              0,
              "#0d0887"
             ],
             [
              0.1111111111111111,
              "#46039f"
             ],
             [
              0.2222222222222222,
              "#7201a8"
             ],
             [
              0.3333333333333333,
              "#9c179e"
             ],
             [
              0.4444444444444444,
              "#bd3786"
             ],
             [
              0.5555555555555556,
              "#d8576b"
             ],
             [
              0.6666666666666666,
              "#ed7953"
             ],
             [
              0.7777777777777778,
              "#fb9f3a"
             ],
             [
              0.8888888888888888,
              "#fdca26"
             ],
             [
              1,
              "#f0f921"
             ]
            ],
            "type": "surface"
           }
          ],
          "table": [
           {
            "cells": {
             "fill": {
              "color": "#EBF0F8"
             },
             "line": {
              "color": "white"
             }
            },
            "header": {
             "fill": {
              "color": "#C8D4E3"
             },
             "line": {
              "color": "white"
             }
            },
            "type": "table"
           }
          ]
         },
         "layout": {
          "annotationdefaults": {
           "arrowcolor": "#2a3f5f",
           "arrowhead": 0,
           "arrowwidth": 1
          },
          "autotypenumbers": "strict",
          "coloraxis": {
           "colorbar": {
            "outlinewidth": 0,
            "ticks": ""
           }
          },
          "colorscale": {
           "diverging": [
            [
             0,
             "#8e0152"
            ],
            [
             0.1,
             "#c51b7d"
            ],
            [
             0.2,
             "#de77ae"
            ],
            [
             0.3,
             "#f1b6da"
            ],
            [
             0.4,
             "#fde0ef"
            ],
            [
             0.5,
             "#f7f7f7"
            ],
            [
             0.6,
             "#e6f5d0"
            ],
            [
             0.7,
             "#b8e186"
            ],
            [
             0.8,
             "#7fbc41"
            ],
            [
             0.9,
             "#4d9221"
            ],
            [
             1,
             "#276419"
            ]
           ],
           "sequential": [
            [
             0,
             "#0d0887"
            ],
            [
             0.1111111111111111,
             "#46039f"
            ],
            [
             0.2222222222222222,
             "#7201a8"
            ],
            [
             0.3333333333333333,
             "#9c179e"
            ],
            [
             0.4444444444444444,
             "#bd3786"
            ],
            [
             0.5555555555555556,
             "#d8576b"
            ],
            [
             0.6666666666666666,
             "#ed7953"
            ],
            [
             0.7777777777777778,
             "#fb9f3a"
            ],
            [
             0.8888888888888888,
             "#fdca26"
            ],
            [
             1,
             "#f0f921"
            ]
           ],
           "sequentialminus": [
            [
             0,
             "#0d0887"
            ],
            [
             0.1111111111111111,
             "#46039f"
            ],
            [
             0.2222222222222222,
             "#7201a8"
            ],
            [
             0.3333333333333333,
             "#9c179e"
            ],
            [
             0.4444444444444444,
             "#bd3786"
            ],
            [
             0.5555555555555556,
             "#d8576b"
            ],
            [
             0.6666666666666666,
             "#ed7953"
            ],
            [
             0.7777777777777778,
             "#fb9f3a"
            ],
            [
             0.8888888888888888,
             "#fdca26"
            ],
            [
             1,
             "#f0f921"
            ]
           ]
          },
          "colorway": [
           "#636efa",
           "#EF553B",
           "#00cc96",
           "#ab63fa",
           "#FFA15A",
           "#19d3f3",
           "#FF6692",
           "#B6E880",
           "#FF97FF",
           "#FECB52"
          ],
          "font": {
           "color": "#2a3f5f"
          },
          "geo": {
           "bgcolor": "white",
           "lakecolor": "white",
           "landcolor": "#E5ECF6",
           "showlakes": true,
           "showland": true,
           "subunitcolor": "white"
          },
          "hoverlabel": {
           "align": "left"
          },
          "hovermode": "closest",
          "mapbox": {
           "style": "light"
          },
          "paper_bgcolor": "white",
          "plot_bgcolor": "#E5ECF6",
          "polar": {
           "angularaxis": {
            "gridcolor": "white",
            "linecolor": "white",
            "ticks": ""
           },
           "bgcolor": "#E5ECF6",
           "radialaxis": {
            "gridcolor": "white",
            "linecolor": "white",
            "ticks": ""
           }
          },
          "scene": {
           "xaxis": {
            "backgroundcolor": "#E5ECF6",
            "gridcolor": "white",
            "gridwidth": 2,
            "linecolor": "white",
            "showbackground": true,
            "ticks": "",
            "zerolinecolor": "white"
           },
           "yaxis": {
            "backgroundcolor": "#E5ECF6",
            "gridcolor": "white",
            "gridwidth": 2,
            "linecolor": "white",
            "showbackground": true,
            "ticks": "",
            "zerolinecolor": "white"
           },
           "zaxis": {
            "backgroundcolor": "#E5ECF6",
            "gridcolor": "white",
            "gridwidth": 2,
            "linecolor": "white",
            "showbackground": true,
            "ticks": "",
            "zerolinecolor": "white"
           }
          },
          "shapedefaults": {
           "line": {
            "color": "#2a3f5f"
           }
          },
          "ternary": {
           "aaxis": {
            "gridcolor": "white",
            "linecolor": "white",
            "ticks": ""
           },
           "baxis": {
            "gridcolor": "white",
            "linecolor": "white",
            "ticks": ""
           },
           "bgcolor": "#E5ECF6",
           "caxis": {
            "gridcolor": "white",
            "linecolor": "white",
            "ticks": ""
           }
          },
          "title": {
           "x": 0.05
          },
          "xaxis": {
           "automargin": true,
           "gridcolor": "white",
           "linecolor": "white",
           "ticks": "",
           "title": {
            "standoff": 15
           },
           "zerolinecolor": "white",
           "zerolinewidth": 2
          },
          "yaxis": {
           "automargin": true,
           "gridcolor": "white",
           "linecolor": "white",
           "ticks": "",
           "title": {
            "standoff": 15
           },
           "zerolinecolor": "white",
           "zerolinewidth": 2
          }
         }
        }
       }
      }
     },
     "metadata": {},
     "output_type": "display_data"
    },
    {
     "name": "stdout",
     "output_type": "stream",
     "text": [
      "21 su 100 richieste non hanno dato risposta\n",
      "55 su 100 richieste hanno risposto con un indirizzo NON valido\n",
      "Trovati 24 numeri civici (senza duplicati) all'interno di un cerchio di raggio 10.0 km con centro Alatri (41.72649384, 13.34210968)\n"
     ]
    }
   ],
   "source": [
    "df_province = recover_address_in_a_town(api_key,base_bing_url, town, dimension_searc_area, 100, num_threads)"
   ]
  },
  {
   "cell_type": "code",
   "execution_count": 26,
   "metadata": {},
   "outputs": [],
   "source": [
    "df_province.to_csv(f\"Indirizzi_{province}.csv\", sep=';', index=False, encoding='utf-8' ) "
   ]
  }
 ],
 "metadata": {
  "kernelspec": {
   "display_name": "Python 3",
   "language": "python",
   "name": "python3"
  },
  "language_info": {
   "codemirror_mode": {
    "name": "ipython",
    "version": 3
   },
   "file_extension": ".py",
   "mimetype": "text/x-python",
   "name": "python",
   "nbconvert_exporter": "python",
   "pygments_lexer": "ipython3",
   "version": "3.12.0"
  }
 },
 "nbformat": 4,
 "nbformat_minor": 2
}
