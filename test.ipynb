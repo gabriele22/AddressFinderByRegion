{
 "cells": [
  {
   "cell_type": "code",
   "execution_count": 48,
   "metadata": {},
   "outputs": [],
   "source": [
    "import sys\n",
    "import threading\n",
    "import random\n",
    "import math\n",
    "import re\n",
    "import tkinter\n",
    "import requests\n",
    "import toml\n",
    "import pandas as pd\n",
    "import more_itertools \n",
    "import plotly.express as px\n",
    "import plotly.graph_objects as go\n",
    "from progress.bar import IncrementalBar\n",
    "from tkinter import filedialog\n",
    "from tabulate import tabulate"
   ]
  },
  {
   "cell_type": "code",
   "execution_count": 59,
   "metadata": {},
   "outputs": [],
   "source": [
    "with open('comuni.csv', encoding='utf-8') as f:\n",
    "    towns = [line.rstrip() for line in f]\n",
    "\n",
    "with open('comuni_completati.csv', encoding='utf-8') as f:\n",
    "    towns_completed = [line.rstrip() for line in f]"
   ]
  },
  {
   "cell_type": "code",
   "execution_count": 60,
   "metadata": {},
   "outputs": [
    {
     "data": {
      "text/plain": [
       "['ACQUARO', 'AFRICO', 'AGNANA CALABRA']"
      ]
     },
     "execution_count": 60,
     "metadata": {},
     "output_type": "execute_result"
    }
   ],
   "source": [
    "towns"
   ]
  },
  {
   "cell_type": "code",
   "execution_count": 61,
   "metadata": {},
   "outputs": [
    {
     "data": {
      "text/plain": [
       "['AFRICO', 'ACQUARO', 'AGNANA CALABRA']"
      ]
     },
     "execution_count": 61,
     "metadata": {},
     "output_type": "execute_result"
    }
   ],
   "source": [
    "towns_completed"
   ]
  },
  {
   "cell_type": "code",
   "execution_count": 62,
   "metadata": {},
   "outputs": [],
   "source": [
    "def placeholder_fun(t):\n",
    "    print(t)\n",
    "    return t"
   ]
  },
  {
   "cell_type": "code",
   "execution_count": 63,
   "metadata": {},
   "outputs": [
    {
     "name": "stdout",
     "output_type": "stream",
     "text": [
      "non ci sono più comuni da completare\n"
     ]
    }
   ],
   "source": [
    "towns_to_do =  set(towns) - set(towns_completed)\n",
    "if len(towns_to_do) > 0:\n",
    "    for t in towns_to_do:\n",
    "        town_completed = placeholder_fun(t)\n",
    "        with open(\"comuni_completati.csv\", \"a\", encoding='utf-8') as myfile:\n",
    "            myfile.write(town_completed + '\\n')\n",
    "else:\n",
    "    print('non ci sono più comuni da completare')"
   ]
  }
 ],
 "metadata": {
  "kernelspec": {
   "display_name": "Python 3",
   "language": "python",
   "name": "python3"
  },
  "language_info": {
   "codemirror_mode": {
    "name": "ipython",
    "version": 3
   },
   "file_extension": ".py",
   "mimetype": "text/x-python",
   "name": "python",
   "nbconvert_exporter": "python",
   "pygments_lexer": "ipython3",
   "version": "3.12.0"
  }
 },
 "nbformat": 4,
 "nbformat_minor": 2
}
